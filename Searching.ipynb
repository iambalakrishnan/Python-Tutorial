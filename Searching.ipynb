{
 "cells": [
  {
   "cell_type": "markdown",
   "id": "1bf0c1d2",
   "metadata": {},
   "source": [
    "## Linear Search"
   ]
  },
  {
   "cell_type": "code",
   "execution_count": 19,
   "id": "7874aeae",
   "metadata": {},
   "outputs": [],
   "source": [
    "a = [5,8,9,1,2]\n",
    "n = 1"
   ]
  },
  {
   "cell_type": "code",
   "execution_count": 21,
   "id": "0109b54e",
   "metadata": {},
   "outputs": [
    {
     "name": "stdout",
     "output_type": "stream",
     "text": [
      "found at 4\n"
     ]
    }
   ],
   "source": [
    "pos = -1\n",
    "def search(a, n):\n",
    "    \n",
    "    i = 0\n",
    "    while i < len(a):\n",
    "        if a[i]==n:\n",
    "            globals()['pos'] = i\n",
    "            return True, pos\n",
    "        i+=1\n",
    "        \n",
    "    return False\n",
    "\n",
    "if search(a, n):\n",
    "    print(f\"found at {pos+1}\")\n",
    "else:\n",
    "    print(\"not found\")"
   ]
  },
  {
   "cell_type": "code",
   "execution_count": 22,
   "id": "fd166595",
   "metadata": {},
   "outputs": [
    {
     "name": "stdout",
     "output_type": "stream",
     "text": [
      "found at 4\n"
     ]
    }
   ],
   "source": [
    "pos = -1\n",
    "def search(a, n):\n",
    "    \n",
    "    \n",
    "    for i in range(len(a)):\n",
    "        if a[i]==n:\n",
    "            globals()['pos'] = i\n",
    "            return True, pos\n",
    "        \n",
    "        \n",
    "    return False\n",
    "\n",
    "if search(a, n):\n",
    "    print(f\"found at {pos+1}\")\n",
    "else:\n",
    "    print(\"not found\")"
   ]
  },
  {
   "cell_type": "markdown",
   "id": "183d949b",
   "metadata": {},
   "source": [
    "## Binary Search"
   ]
  },
  {
   "cell_type": "code",
   "execution_count": 38,
   "id": "45ac98aa",
   "metadata": {},
   "outputs": [],
   "source": [
    "a = [5,8,9,1,2,20,45,50,55,65,80,100]\n",
    "n = 100"
   ]
  },
  {
   "cell_type": "code",
   "execution_count": 39,
   "id": "b5c7ed35",
   "metadata": {},
   "outputs": [
    {
     "name": "stdout",
     "output_type": "stream",
     "text": [
      "Found at 11\n"
     ]
    }
   ],
   "source": [
    "pos = -1\n",
    "def BinarySearch(lst, num):\n",
    "    l = 0\n",
    "    u = len(lst)-1\n",
    "    \n",
    "    while l <= u:\n",
    "        mid = (l+u) // 2\n",
    "        if lst [mid] == n:\n",
    "            globals()['pos'] = mid\n",
    "            return True\n",
    "        else:\n",
    "            if lst[mid] < n:\n",
    "                l = mid+1\n",
    "            else:\n",
    "                u = mid-1\n",
    "    return False\n",
    "\n",
    "if BinarySearch(a, n):\n",
    "    print(f\"Found at {pos}\")\n",
    "else:\n",
    "    print(\"Not found\")"
   ]
  },
  {
   "cell_type": "code",
   "execution_count": null,
   "id": "8622fab9",
   "metadata": {},
   "outputs": [],
   "source": []
  },
  {
   "cell_type": "code",
   "execution_count": null,
   "id": "5a490ec1",
   "metadata": {},
   "outputs": [],
   "source": []
  }
 ],
 "metadata": {
  "kernelspec": {
   "display_name": "Python 3 (ipykernel)",
   "language": "python",
   "name": "python3"
  },
  "language_info": {
   "codemirror_mode": {
    "name": "ipython",
    "version": 3
   },
   "file_extension": ".py",
   "mimetype": "text/x-python",
   "name": "python",
   "nbconvert_exporter": "python",
   "pygments_lexer": "ipython3",
   "version": "3.9.7"
  }
 },
 "nbformat": 4,
 "nbformat_minor": 5
}
