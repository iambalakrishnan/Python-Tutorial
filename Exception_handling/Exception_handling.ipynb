{
 "cells": [
  {
   "cell_type": "code",
   "execution_count": 1,
   "id": "120a3964",
   "metadata": {},
   "outputs": [
    {
     "ename": "ZeroDivisionError",
     "evalue": "division by zero",
     "output_type": "error",
     "traceback": [
      "\u001b[0;31m---------------------------------------------------------------------------\u001b[0m",
      "\u001b[0;31mZeroDivisionError\u001b[0m                         Traceback (most recent call last)",
      "\u001b[0;32m/tmp/ipykernel_73856/2354412189.py\u001b[0m in \u001b[0;36m<module>\u001b[0;34m\u001b[0m\n\u001b[0;32m----> 1\u001b[0;31m \u001b[0;36m1\u001b[0m\u001b[0;34m/\u001b[0m\u001b[0;36m0\u001b[0m\u001b[0;34m\u001b[0m\u001b[0;34m\u001b[0m\u001b[0m\n\u001b[0m",
      "\u001b[0;31mZeroDivisionError\u001b[0m: division by zero"
     ]
    }
   ],
   "source": [
    "1/0"
   ]
  },
  {
   "cell_type": "code",
   "execution_count": 1,
   "id": "fb2c2154",
   "metadata": {},
   "outputs": [
    {
     "name": "stdout",
     "output_type": "stream",
     "text": [
      "division by zero\n",
      "Hello \n"
     ]
    }
   ],
   "source": [
    "try:\n",
    "    1/0\n",
    "except Exception as e:\n",
    "    print(e)\n",
    "print(\"Hello \")"
   ]
  },
  {
   "cell_type": "code",
   "execution_count": 2,
   "id": "0552f2c3",
   "metadata": {},
   "outputs": [
    {
     "ename": "SyntaxError",
     "evalue": "unexpected EOF while parsing (337002010.py, line 6)",
     "output_type": "error",
     "traceback": [
      "\u001b[0;36m  File \u001b[0;32m\"/tmp/ipykernel_323580/337002010.py\"\u001b[0;36m, line \u001b[0;32m6\u001b[0m\n\u001b[0;31m    print(\"Hello \")\u001b[0m\n\u001b[0m                   ^\u001b[0m\n\u001b[0;31mSyntaxError\u001b[0m\u001b[0;31m:\u001b[0m unexpected EOF while parsing\n"
     ]
    }
   ],
   "source": [
    "try:\n",
    "    1/0\n",
    "except Exception as e:\n",
    "    print(e)\n",
    "try:\n",
    "    print(\"Hello \")"
   ]
  },
  {
   "cell_type": "code",
   "execution_count": 5,
   "id": "12bfb356",
   "metadata": {},
   "outputs": [
    {
     "name": "stdout",
     "output_type": "stream",
     "text": [
      "division by zero\n",
      "Hello \n"
     ]
    }
   ],
   "source": [
    "try:\n",
    "    1/0\n",
    "except Exception as e:\n",
    "    print(e)\n",
    "try:\n",
    "    print(\"Hello \")\n",
    "except:\n",
    "    print(\"something\")"
   ]
  },
  {
   "cell_type": "code",
   "execution_count": 6,
   "id": "6fbd26a7",
   "metadata": {},
   "outputs": [
    {
     "ename": "FileNotFoundError",
     "evalue": "[Errno 2] No such file or directory: 'test.txt'",
     "output_type": "error",
     "traceback": [
      "\u001b[0;31m---------------------------------------------------------------------------\u001b[0m",
      "\u001b[0;31mFileNotFoundError\u001b[0m                         Traceback (most recent call last)",
      "\u001b[0;32m/tmp/ipykernel_323580/1104003574.py\u001b[0m in \u001b[0;36m<module>\u001b[0;34m\u001b[0m\n\u001b[0;32m----> 1\u001b[0;31m \u001b[0mopen\u001b[0m\u001b[0;34m(\u001b[0m\u001b[0;34m\"test.txt\"\u001b[0m\u001b[0;34m)\u001b[0m\u001b[0;34m\u001b[0m\u001b[0;34m\u001b[0m\u001b[0m\n\u001b[0m",
      "\u001b[0;31mFileNotFoundError\u001b[0m: [Errno 2] No such file or directory: 'test.txt'"
     ]
    }
   ],
   "source": [
    "open(\"test.txt\")"
   ]
  },
  {
   "cell_type": "code",
   "execution_count": 7,
   "id": "11112c44",
   "metadata": {},
   "outputs": [
    {
     "name": "stdout",
     "output_type": "stream",
     "text": [
      "/home/catalina/Documents/Jupyter/Machine Learning/MLDL/Core Python\r\n"
     ]
    }
   ],
   "source": [
    "!pwd"
   ]
  },
  {
   "cell_type": "code",
   "execution_count": 8,
   "id": "232f5be9",
   "metadata": {},
   "outputs": [
    {
     "name": "stdout",
     "output_type": "stream",
     "text": [
      "total 52\r\n",
      "-rw-rw-r-- 1 catalina catalina  2981 Dec 21 22:18 Exception_handling.ipynb\r\n",
      "-rw-rw-r-- 1 catalina catalina 35752 Dec 16 19:53 Function.ipynb\r\n",
      "-rw-rw-r-- 1 catalina catalina  8409 Sep 18 20:53 Loop.ipynb\r\n"
     ]
    }
   ],
   "source": [
    "!ls -l"
   ]
  },
  {
   "cell_type": "code",
   "execution_count": 10,
   "id": "006cb34c",
   "metadata": {},
   "outputs": [
    {
     "data": {
      "text/plain": [
       "<_io.TextIOWrapper name='test.txt' mode='w' encoding='UTF-8'>"
      ]
     },
     "execution_count": 10,
     "metadata": {},
     "output_type": "execute_result"
    }
   ],
   "source": [
    "open(\"test.txt\",'w') # w --> write mode if file isn't available it tries to create a file to write"
   ]
  },
  {
   "cell_type": "code",
   "execution_count": 13,
   "id": "ac008d0b",
   "metadata": {},
   "outputs": [
    {
     "ename": "UnsupportedOperation",
     "evalue": "not writable",
     "output_type": "error",
     "traceback": [
      "\u001b[0;31m---------------------------------------------------------------------------\u001b[0m",
      "\u001b[0;31mUnsupportedOperation\u001b[0m                      Traceback (most recent call last)",
      "\u001b[0;32m/tmp/ipykernel_323580/916770704.py\u001b[0m in \u001b[0;36m<module>\u001b[0;34m\u001b[0m\n\u001b[1;32m      1\u001b[0m \u001b[0mf\u001b[0m \u001b[0;34m=\u001b[0m \u001b[0mopen\u001b[0m\u001b[0;34m(\u001b[0m\u001b[0;34m\"test.txt\"\u001b[0m\u001b[0;34m,\u001b[0m\u001b[0;34m'r'\u001b[0m\u001b[0;34m)\u001b[0m\u001b[0;34m\u001b[0m\u001b[0;34m\u001b[0m\u001b[0m\n\u001b[0;32m----> 2\u001b[0;31m \u001b[0mf\u001b[0m\u001b[0;34m.\u001b[0m\u001b[0mwrite\u001b[0m\u001b[0;34m(\u001b[0m\u001b[0;34m\"This is my test file\"\u001b[0m\u001b[0;34m)\u001b[0m\u001b[0;34m\u001b[0m\u001b[0;34m\u001b[0m\u001b[0m\n\u001b[0m",
      "\u001b[0;31mUnsupportedOperation\u001b[0m: not writable"
     ]
    }
   ],
   "source": [
    "f = open(\"test.txt\",'r')\n",
    "f.write(\"This is my test file\")#opening a file in read mode and trying to perform write operation"
   ]
  },
  {
   "cell_type": "code",
   "execution_count": 14,
   "id": "145e62cc",
   "metadata": {},
   "outputs": [
    {
     "data": {
      "text/plain": [
       "20"
      ]
     },
     "execution_count": 14,
     "metadata": {},
     "output_type": "execute_result"
    }
   ],
   "source": [
    "f = open(\"test.txt\",'w')\n",
    "f.write(\"This is my test file\")"
   ]
  },
  {
   "cell_type": "code",
   "execution_count": 15,
   "id": "48d557df",
   "metadata": {},
   "outputs": [
    {
     "name": "stdout",
     "output_type": "stream",
     "text": [
      "total 56\r\n",
      "-rw-rw-r-- 1 catalina catalina  5410 Dec 21 22:22 Exception_handling.ipynb\r\n",
      "-rw-rw-r-- 1 catalina catalina 35752 Dec 16 19:53 Function.ipynb\r\n",
      "-rw-rw-r-- 1 catalina catalina  8409 Sep 18 20:53 Loop.ipynb\r\n",
      "-rw-rw-r-- 1 catalina catalina     0 Dec 21 22:24 test.txt\r\n"
     ]
    }
   ],
   "source": [
    "ls -l"
   ]
  },
  {
   "cell_type": "code",
   "execution_count": 16,
   "id": "ff0c1269",
   "metadata": {},
   "outputs": [
    {
     "name": "stdout",
     "output_type": "stream",
     "text": [
      "not writable\n"
     ]
    }
   ],
   "source": [
    "try:\n",
    "    f = open(\"test.txt\",'r')\n",
    "    f.write(\"This is my test file\")\n",
    "except Exception as e:#importing Exception super class\n",
    "    print(e)"
   ]
  },
  {
   "cell_type": "code",
   "execution_count": 19,
   "id": "ca750c43",
   "metadata": {},
   "outputs": [
    {
     "ename": "UnsupportedOperation",
     "evalue": "not writable",
     "output_type": "error",
     "traceback": [
      "\u001b[0;31m---------------------------------------------------------------------------\u001b[0m",
      "\u001b[0;31mUnsupportedOperation\u001b[0m                      Traceback (most recent call last)",
      "\u001b[0;32m/tmp/ipykernel_323580/185883177.py\u001b[0m in \u001b[0;36m<module>\u001b[0;34m\u001b[0m\n\u001b[1;32m      1\u001b[0m \u001b[0;32mtry\u001b[0m\u001b[0;34m:\u001b[0m\u001b[0;34m\u001b[0m\u001b[0;34m\u001b[0m\u001b[0m\n\u001b[1;32m      2\u001b[0m     \u001b[0mf\u001b[0m \u001b[0;34m=\u001b[0m \u001b[0mopen\u001b[0m\u001b[0;34m(\u001b[0m\u001b[0;34m\"test.txt\"\u001b[0m\u001b[0;34m,\u001b[0m\u001b[0;34m'r'\u001b[0m\u001b[0;34m)\u001b[0m\u001b[0;34m\u001b[0m\u001b[0;34m\u001b[0m\u001b[0m\n\u001b[0;32m----> 3\u001b[0;31m     \u001b[0mf\u001b[0m\u001b[0;34m.\u001b[0m\u001b[0mwrite\u001b[0m\u001b[0;34m(\u001b[0m\u001b[0;34m\"This is my test file\"\u001b[0m\u001b[0;34m)\u001b[0m\u001b[0;34m\u001b[0m\u001b[0;34m\u001b[0m\u001b[0m\n\u001b[0m\u001b[1;32m      4\u001b[0m \u001b[0;32mexcept\u001b[0m \u001b[0mZeroDivisionError\u001b[0m \u001b[0;32mas\u001b[0m \u001b[0me\u001b[0m\u001b[0;34m:\u001b[0m\u001b[0;34m\u001b[0m\u001b[0;34m\u001b[0m\u001b[0m\n\u001b[1;32m      5\u001b[0m     \u001b[0;31m#Need to handle exact error or parent class error otherwise error occuers in exception handling\u001b[0m\u001b[0;34m\u001b[0m\u001b[0;34m\u001b[0m\u001b[0;34m\u001b[0m\u001b[0m\n",
      "\u001b[0;31mUnsupportedOperation\u001b[0m: not writable"
     ]
    }
   ],
   "source": [
    "try:\n",
    "    f = open(\"test.txt\",'r')\n",
    "    f.write(\"This is my test file\")\n",
    "except ZeroDivisionError as e:\n",
    "    #Need to handle exact error or parent class error otherwise error occuers in exception handling\n",
    "    print(e)"
   ]
  },
  {
   "cell_type": "code",
   "execution_count": 18,
   "id": "0f97b22e",
   "metadata": {},
   "outputs": [
    {
     "name": "stdout",
     "output_type": "stream",
     "text": [
      "not writable\n"
     ]
    }
   ],
   "source": [
    "try:\n",
    "    f = open(\"test.txt\",'r')\n",
    "    f.write(\"This is my test file\")\n",
    "except IOError as e:\n",
    "    #IOError for IO operation \n",
    "    print(e)"
   ]
  },
  {
   "cell_type": "code",
   "execution_count": 22,
   "id": "1318ddc9",
   "metadata": {},
   "outputs": [
    {
     "name": "stdout",
     "output_type": "stream",
     "text": [
      "not writable\n"
     ]
    }
   ],
   "source": [
    "try:\n",
    "    a = 10/0\n",
    "    f = open(\"test.txt\",'r')\n",
    "    f.write(\"This is my test file\")\n",
    "except (IOError, ZeroDivisionError) as e:\n",
    "    \n",
    "    print(e)"
   ]
  },
  {
   "cell_type": "code",
   "execution_count": 24,
   "id": "626a7ffd",
   "metadata": {},
   "outputs": [
    {
     "name": "stdout",
     "output_type": "stream",
     "text": [
      "division by zero\n"
     ]
    }
   ],
   "source": [
    "try:\n",
    "    a = 10/0\n",
    "    f = open(\"test.txt\",'r')\n",
    "    f.write(\"This is my test file\")\n",
    "    #a = 10/0\n",
    "except IOError as e:\n",
    "    print(e)\n",
    "except ZeroDivisionError as e:\n",
    "    print(e)"
   ]
  },
  {
   "cell_type": "code",
   "execution_count": 25,
   "id": "120b83fb",
   "metadata": {},
   "outputs": [
    {
     "name": "stdout",
     "output_type": "stream",
     "text": [
      "First exception block division by zero\n"
     ]
    }
   ],
   "source": [
    "try:\n",
    "    a = 10/0\n",
    "    f = open(\"test.txt\",'r')\n",
    "    f.write(\"This is my test file\")\n",
    "except Exception as e:\n",
    "    print(\"First exception block\", e)\n",
    "except IOError:\n",
    "    print(e)\n",
    "except ZeroDivisionError:\n",
    "    print(e)"
   ]
  },
  {
   "cell_type": "code",
   "execution_count": 27,
   "id": "da0d279c",
   "metadata": {},
   "outputs": [
    {
     "name": "stdout",
     "output_type": "stream",
     "text": [
      "ZeroDivisionError from block 3\n"
     ]
    }
   ],
   "source": [
    "try:\n",
    "    a = 10/0\n",
    "    f = open(\"test.txt\",'r')\n",
    "    f.write(\"This is my test file\")\n",
    "#except Exception as e:\n",
    "#    print(\"First exception block\", e)\n",
    "except IOError:\n",
    "    print(\"IOError from block 2\")\n",
    "except ZeroDivisionError:\n",
    "    print(\"ZeroDivisionError from block 3\")"
   ]
  },
  {
   "cell_type": "code",
   "execution_count": 30,
   "id": "529e8e77",
   "metadata": {},
   "outputs": [
    {
     "name": "stdout",
     "output_type": "stream",
     "text": [
      "IOError from block 2\n"
     ]
    }
   ],
   "source": [
    "try:\n",
    "    #a = 10/0\n",
    "    b = 10/1\n",
    "    f = open(\"test.txt\",'r')\n",
    "    f.write(\"This is my test file\")\n",
    "\n",
    "except IOError:\n",
    "    print(\"IOError from block 2\")\n",
    "except ZeroDivisionError as e:\n",
    "    print(e,\" from block 3\")\n",
    "except Exception as e:\n",
    "    print(\"final block exception block\", e)"
   ]
  },
  {
   "cell_type": "code",
   "execution_count": 31,
   "id": "f14ae121",
   "metadata": {},
   "outputs": [
    {
     "name": "stdout",
     "output_type": "stream",
     "text": [
      "Exception occured in inner exception block\n"
     ]
    }
   ],
   "source": [
    "try:\n",
    "    \n",
    "    b = 10/1\n",
    "    try:\n",
    "        \n",
    "        f = open(\"test.txt\",'r')\n",
    "        f.write(\"This is my test file\")\n",
    "    except:\n",
    "        print(\"Exception occured in inner exception block\")\n",
    "\n",
    "except IOError:\n",
    "    print(\"IOError from block 2\")\n",
    "except ZeroDivisionError as e:\n",
    "    print(e,\" from block 3\")\n",
    "except Exception as e:\n",
    "    print(\"final block exception block\", e)"
   ]
  },
  {
   "cell_type": "code",
   "execution_count": 33,
   "id": "5392f8f4",
   "metadata": {},
   "outputs": [
    {
     "name": "stdout",
     "output_type": "stream",
     "text": [
      "Exception occured in inner exception block\n",
      "This will be excuted after execution of try\n"
     ]
    }
   ],
   "source": [
    "try:\n",
    "    \n",
    "    b = 10/1\n",
    "    try:\n",
    "        \n",
    "        f = open(\"test.txt\",'r')\n",
    "        f.write(\"This is my test file\")\n",
    "    except:\n",
    "        print(\"Exception occured in inner exception block\")\n",
    "    else:\n",
    "        print(\"This will be execute once internal try completed successfully\")\n",
    "        #the try had an issue so it goes to except block so it has an issue\n",
    "        #The try have an error so i couln't be able to execute the inner else block\n",
    "        \n",
    "\n",
    "except IOError:\n",
    "    print(\"IOError from block 2\")\n",
    "except ZeroDivisionError as e:\n",
    "    print(e,\" from block 3\")\n",
    "except Exception as e:\n",
    "    print(\"final block exception block\", e)\n",
    "else:\n",
    "    print(\"This will be excuted after execution of try\")\n",
    "    #else will be executed once the successfull completion of try block\n",
    "    #the main try doesn't raises an exception \n",
    "    #exception raised in inner block and it is handled by inner except block\n",
    "    "
   ]
  },
  {
   "cell_type": "code",
   "execution_count": 34,
   "id": "e90e5c95",
   "metadata": {},
   "outputs": [
    {
     "name": "stdout",
     "output_type": "stream",
     "text": [
      "division by zero  from block 3\n"
     ]
    }
   ],
   "source": [
    "try:\n",
    "    \n",
    "    b = 10/0\n",
    "    try:\n",
    "        \n",
    "        f = open(\"test.txt\",'r')\n",
    "        f.write(\"This is my test file\")\n",
    "    except:\n",
    "        print(\"Exception occured in inner exception block\")\n",
    "    else:\n",
    "        print(\"This will be execute once internal try completed successfully\")\n",
    "          \n",
    "\n",
    "except IOError:\n",
    "    print(\"IOError from block 2\")\n",
    "except ZeroDivisionError as e:\n",
    "    print(e,\" from block 3\")\n",
    "except Exception as e:\n",
    "    print(\"final block exception block\", e)\n",
    "else:\n",
    "    print(\"This will be excuted after execution of try\")\n",
    "    #else willnpt be executed because there is an issue in main try block\n",
    "   "
   ]
  },
  {
   "cell_type": "code",
   "execution_count": 38,
   "id": "5db5b77b",
   "metadata": {},
   "outputs": [
    {
     "name": "stdout",
     "output_type": "stream",
     "text": [
      "Enter inputasd\n",
      "There is an error in user input -->  invalid literal for int() with base 10: 'asd'\n"
     ]
    }
   ],
   "source": [
    "try:\n",
    "    a = int(input(\"Enter input\"))\n",
    "    print(a/10)\n",
    "except Exception as e:\n",
    "    print(\"There is an error in user input --> \",e)\n",
    "    "
   ]
  },
  {
   "cell_type": "code",
   "execution_count": 40,
   "id": "48686e54",
   "metadata": {},
   "outputs": [
    {
     "name": "stdout",
     "output_type": "stream",
     "text": [
      "Enter inputasdf\n",
      "There is an error in user input -->  invalid literal for int() with base 10: 'asdf'\n"
     ]
    }
   ],
   "source": [
    "try:\n",
    "    a = int(input(\"Enter input\"))\n",
    "    print(a/10)\n",
    "except Exception as e:\n",
    "    print(\"There is an error in user input --> \",e)\n",
    "else:\n",
    "    print(\"Else will be executed successfull completion of try block\")"
   ]
  },
  {
   "cell_type": "code",
   "execution_count": 44,
   "id": "4c78bc0c",
   "metadata": {},
   "outputs": [
    {
     "name": "stdout",
     "output_type": "stream",
     "text": [
      "Enter input41\n",
      "4.1\n",
      "Else will be executed successfull completion of try block\n",
      "Finally will be executed after successfull/unsuccessful completion of try block\n"
     ]
    }
   ],
   "source": [
    "try:\n",
    "    a = int(input(\"Enter input\"))\n",
    "    print(a/10)\n",
    "except Exception as e:\n",
    "    print(\"There is an error in user input --> \",e)\n",
    "else:\n",
    "    print(\"Else will be executed successfull completion of try block\")\n",
    "    #else will be executed once the successfull completion of try block\n",
    "finally:\n",
    "    print(\"Finally will be executed after successfull/unsuccessful completion of try block\")\n",
    "    #doesn't matter weather the try block is successfully completed or not it will be executed at end of the program"
   ]
  },
  {
   "cell_type": "code",
   "execution_count": 51,
   "id": "2a8e8e60",
   "metadata": {},
   "outputs": [],
   "source": [
    "def askint():\n",
    "    try:\n",
    "        val = int(input(\"Enter an integer :: \"))\n",
    "    except Exception as e:\n",
    "        askint()\n",
    "   "
   ]
  },
  {
   "cell_type": "code",
   "execution_count": 52,
   "id": "10ab003a",
   "metadata": {},
   "outputs": [
    {
     "name": "stdout",
     "output_type": "stream",
     "text": [
      "Enter an integer :: sd\n",
      "Enter an integer :: sa\n",
      "Enter an integer :: 45\n"
     ]
    }
   ],
   "source": [
    "askint()"
   ]
  },
  {
   "cell_type": "code",
   "execution_count": 53,
   "id": "1cbdda21",
   "metadata": {},
   "outputs": [],
   "source": [
    "def askint():\n",
    "    try:\n",
    "        val = int(input(\"Enter an integer :: \"))\n",
    "    except Exception as e:\n",
    "        askint()\n",
    "    finally:\n",
    "        print(\"This will execute  by deafult \")"
   ]
  },
  {
   "cell_type": "code",
   "execution_count": 54,
   "id": "05eebc63",
   "metadata": {},
   "outputs": [
    {
     "name": "stdout",
     "output_type": "stream",
     "text": [
      "Enter an integer :: asd\n",
      "Enter an integer :: asd\n",
      "Enter an integer :: asd\n",
      "Enter an integer :: asd\n",
      "Enter an integer :: 5\n",
      "This will execute  by deafult \n",
      "This will execute  by deafult \n",
      "This will execute  by deafult \n",
      "This will execute  by deafult \n",
      "This will execute  by deafult \n"
     ]
    }
   ],
   "source": [
    "askint()"
   ]
  },
  {
   "cell_type": "code",
   "execution_count": 1,
   "id": "c7001967",
   "metadata": {},
   "outputs": [],
   "source": [
    "def askint1():\n",
    "    while True:\n",
    "        try:\n",
    "            var = int(input(\"Enter an integer : \"))\n",
    "        except Exception as e:\n",
    "            print(\"You have entered a non integer value \")\n",
    "            #continue\n",
    "        else:\n",
    "            break\n",
    "            "
   ]
  },
  {
   "cell_type": "code",
   "execution_count": 3,
   "id": "eb4713ab",
   "metadata": {},
   "outputs": [
    {
     "name": "stdout",
     "output_type": "stream",
     "text": [
      "Enter an integer : sjfkuhas\n",
      "You have entered a non integer value \n",
      "Enter an integer : askdfh]\n",
      "You have entered a non integer value \n",
      "Enter an integer : aksfdjasd\n",
      "You have entered a non integer value \n",
      "Enter an integer : 854\n"
     ]
    }
   ],
   "source": [
    "askint1()"
   ]
  },
  {
   "cell_type": "code",
   "execution_count": 14,
   "id": "ca92d725",
   "metadata": {},
   "outputs": [],
   "source": [
    "def askint1():\n",
    "    while True:\n",
    "        try:\n",
    "            var = int(input(\"Enter an integer : \"))\n",
    "        except Exception as e:\n",
    "            print(\"You have entered a non integer value \")\n",
    "            continue\n",
    "        else:\n",
    "            break\n",
    "        finally:\n",
    "            print(\"finally block\")\n",
    "        var/10"
   ]
  },
  {
   "cell_type": "code",
   "execution_count": 15,
   "id": "3c518e1a",
   "metadata": {},
   "outputs": [
    {
     "name": "stdout",
     "output_type": "stream",
     "text": [
      "Enter an integer : nodf\n",
      "You have entered a non integer value \n",
      "finally block\n",
      "Enter an integer : sdkfj\n",
      "You have entered a non integer value \n",
      "finally block\n",
      "Enter an integer : sdfjk\n",
      "You have entered a non integer value \n",
      "finally block\n",
      "Enter an integer : 56\n",
      "finally block\n"
     ]
    }
   ],
   "source": [
    "askint1()"
   ]
  },
  {
   "cell_type": "code",
   "execution_count": 22,
   "id": "9cf496a0",
   "metadata": {},
   "outputs": [],
   "source": [
    "def raiseException(a):\n",
    "    if a < 5 :\n",
    "        raise Exception(a)\n",
    "    return a"
   ]
  },
  {
   "cell_type": "code",
   "execution_count": 23,
   "id": "c8f4cefe",
   "metadata": {},
   "outputs": [
    {
     "data": {
      "text/plain": [
       "10"
      ]
     },
     "execution_count": 23,
     "metadata": {},
     "output_type": "execute_result"
    }
   ],
   "source": [
    "raiseException(10)"
   ]
  },
  {
   "cell_type": "code",
   "execution_count": 24,
   "id": "8aaf7427",
   "metadata": {},
   "outputs": [
    {
     "ename": "Exception",
     "evalue": "1",
     "output_type": "error",
     "traceback": [
      "\u001b[0;31m---------------------------------------------------------------------------\u001b[0m",
      "\u001b[0;31mException\u001b[0m                                 Traceback (most recent call last)",
      "\u001b[0;32m/tmp/ipykernel_16561/1426790721.py\u001b[0m in \u001b[0;36m<module>\u001b[0;34m\u001b[0m\n\u001b[0;32m----> 1\u001b[0;31m \u001b[0mraiseException\u001b[0m\u001b[0;34m(\u001b[0m\u001b[0;36m1\u001b[0m\u001b[0;34m)\u001b[0m\u001b[0;34m\u001b[0m\u001b[0;34m\u001b[0m\u001b[0m\n\u001b[0m",
      "\u001b[0;32m/tmp/ipykernel_16561/3704479129.py\u001b[0m in \u001b[0;36mraiseException\u001b[0;34m(a)\u001b[0m\n\u001b[1;32m      1\u001b[0m \u001b[0;32mdef\u001b[0m \u001b[0mraiseException\u001b[0m\u001b[0;34m(\u001b[0m\u001b[0ma\u001b[0m\u001b[0;34m)\u001b[0m\u001b[0;34m:\u001b[0m\u001b[0;34m\u001b[0m\u001b[0;34m\u001b[0m\u001b[0m\n\u001b[1;32m      2\u001b[0m     \u001b[0;32mif\u001b[0m \u001b[0ma\u001b[0m \u001b[0;34m<\u001b[0m \u001b[0;36m5\u001b[0m \u001b[0;34m:\u001b[0m\u001b[0;34m\u001b[0m\u001b[0;34m\u001b[0m\u001b[0m\n\u001b[0;32m----> 3\u001b[0;31m         \u001b[0;32mraise\u001b[0m \u001b[0mException\u001b[0m\u001b[0;34m(\u001b[0m\u001b[0ma\u001b[0m\u001b[0;34m)\u001b[0m\u001b[0;34m\u001b[0m\u001b[0;34m\u001b[0m\u001b[0m\n\u001b[0m\u001b[1;32m      4\u001b[0m     \u001b[0;32mreturn\u001b[0m \u001b[0ma\u001b[0m\u001b[0;34m\u001b[0m\u001b[0;34m\u001b[0m\u001b[0m\n",
      "\u001b[0;31mException\u001b[0m: 1"
     ]
    }
   ],
   "source": [
    "raiseException(1)"
   ]
  },
  {
   "cell_type": "code",
   "execution_count": 34,
   "id": "b0c609a8",
   "metadata": {},
   "outputs": [],
   "source": [
    "def raiseException(a):\n",
    "    if a < 5 :\n",
    "        raise Exception(\"User entered input is lesser than 5 \",a)\n",
    "    return a"
   ]
  },
  {
   "cell_type": "code",
   "execution_count": 35,
   "id": "4639ce64",
   "metadata": {},
   "outputs": [
    {
     "name": "stdout",
     "output_type": "stream",
     "text": [
      "('User entered input is lesser than 5 ', 1)\n"
     ]
    }
   ],
   "source": [
    "try:\n",
    "    raiseException(1)\n",
    "except Exception as e:\n",
    "    print(e)"
   ]
  },
  {
   "cell_type": "code",
   "execution_count": 86,
   "id": "ea7876bb",
   "metadata": {},
   "outputs": [],
   "source": [
    "def insertInt():\n",
    "    l = []\n",
    "    while len(l) < 10:\n",
    "        try:\n",
    "            i = int(input(\"Enter a Integer : \"))\n",
    "            try:\n",
    "                if i < 4:\n",
    "                    raise Exception(\"Exception >> Allowed integer is greater than 4 \")\n",
    "                \n",
    "            except Exception as e:\n",
    "                print(e)\n",
    "                continue\n",
    "            else:\n",
    "                l.append(i)\n",
    "                print(l)\n",
    "                continue\n",
    "                \n",
    "            \n",
    "        except Exception as e:\n",
    "            print(\"Exception >> You have entered non integer value  \", e)\n",
    "            \n",
    "\n",
    "        \n",
    "    "
   ]
  },
  {
   "cell_type": "code",
   "execution_count": 87,
   "id": "70461933",
   "metadata": {},
   "outputs": [
    {
     "name": "stdout",
     "output_type": "stream",
     "text": [
      "Enter a Integer : fdg\n",
      "Exception >> You have entered non integer value   invalid literal for int() with base 10: 'fdg'\n",
      "Enter a Integer : dsfg\n",
      "Exception >> You have entered non integer value   invalid literal for int() with base 10: 'dsfg'\n",
      "Enter a Integer : dfg\n",
      "Exception >> You have entered non integer value   invalid literal for int() with base 10: 'dfg'\n",
      "Enter a Integer : dfg\n",
      "Exception >> You have entered non integer value   invalid literal for int() with base 10: 'dfg'\n",
      "Enter a Integer : dfg\n",
      "Exception >> You have entered non integer value   invalid literal for int() with base 10: 'dfg'\n",
      "Enter a Integer : dfg\n",
      "Exception >> You have entered non integer value   invalid literal for int() with base 10: 'dfg'\n",
      "Enter a Integer : dsffg\n",
      "Exception >> You have entered non integer value   invalid literal for int() with base 10: 'dsffg'\n",
      "Enter a Integer : dsffg\n",
      "Exception >> You have entered non integer value   invalid literal for int() with base 10: 'dsffg'\n",
      "Enter a Integer : sdg\n",
      "Exception >> You have entered non integer value   invalid literal for int() with base 10: 'sdg'\n",
      "Enter a Integer : sdg\n",
      "Exception >> You have entered non integer value   invalid literal for int() with base 10: 'sdg'\n",
      "Enter a Integer : sdgsdg\n",
      "Exception >> You have entered non integer value   invalid literal for int() with base 10: 'sdgsdg'\n",
      "Enter a Integer : sdd\n",
      "Exception >> You have entered non integer value   invalid literal for int() with base 10: 'sdd'\n",
      "Enter a Integer : 1\n",
      "Exception >> Allowed integer is greater than 4 \n",
      "Enter a Integer : 1\n",
      "Exception >> Allowed integer is greater than 4 \n",
      "Enter a Integer : 1\n",
      "Exception >> Allowed integer is greater than 4 \n",
      "Enter a Integer : 1\n",
      "Exception >> Allowed integer is greater than 4 \n",
      "Enter a Integer : 1\n",
      "Exception >> Allowed integer is greater than 4 \n",
      "Enter a Integer : 1\n",
      "Exception >> Allowed integer is greater than 4 \n",
      "Enter a Integer : 1\n",
      "Exception >> Allowed integer is greater than 4 \n",
      "Enter a Integer : 1\n",
      "Exception >> Allowed integer is greater than 4 \n",
      "Enter a Integer : 1\n",
      "Exception >> Allowed integer is greater than 4 \n",
      "Enter a Integer : 1\n",
      "Exception >> Allowed integer is greater than 4 \n",
      "Enter a Integer : 1\n",
      "Exception >> Allowed integer is greater than 4 \n",
      "Enter a Integer : 10\n",
      "[10]\n",
      "Enter a Integer : 10\n",
      "[10, 10]\n",
      "Enter a Integer : 10\n",
      "[10, 10, 10]\n",
      "Enter a Integer : 10\n",
      "[10, 10, 10, 10]\n",
      "Enter a Integer : 10\n",
      "[10, 10, 10, 10, 10]\n",
      "Enter a Integer : 10\n",
      "[10, 10, 10, 10, 10, 10]\n",
      "Enter a Integer : 10\n",
      "[10, 10, 10, 10, 10, 10, 10]\n",
      "Enter a Integer : 10\n",
      "[10, 10, 10, 10, 10, 10, 10, 10]\n",
      "Enter a Integer : 10\n",
      "[10, 10, 10, 10, 10, 10, 10, 10, 10]\n",
      "Enter a Integer : 10\n",
      "[10, 10, 10, 10, 10, 10, 10, 10, 10, 10]\n"
     ]
    }
   ],
   "source": [
    "insertInt()"
   ]
  },
  {
   "cell_type": "code",
   "execution_count": 78,
   "id": "02e6edc4",
   "metadata": {},
   "outputs": [
    {
     "data": {
      "text/plain": [
       "[1]"
      ]
     },
     "execution_count": 78,
     "metadata": {},
     "output_type": "execute_result"
    }
   ],
   "source": []
  },
  {
   "cell_type": "code",
   "execution_count": null,
   "id": "feb254b2",
   "metadata": {},
   "outputs": [],
   "source": []
  }
 ],
 "metadata": {
  "kernelspec": {
   "display_name": "Python 3 (ipykernel)",
   "language": "python",
   "name": "python3"
  },
  "language_info": {
   "codemirror_mode": {
    "name": "ipython",
    "version": 3
   },
   "file_extension": ".py",
   "mimetype": "text/x-python",
   "name": "python",
   "nbconvert_exporter": "python",
   "pygments_lexer": "ipython3",
   "version": "3.8.12"
  }
 },
 "nbformat": 4,
 "nbformat_minor": 5
}
