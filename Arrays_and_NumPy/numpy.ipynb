{
 "cells": [
  {
   "cell_type": "code",
   "execution_count": 1,
   "id": "58706545",
   "metadata": {},
   "outputs": [],
   "source": [
    "import numpy as np"
   ]
  },
  {
   "cell_type": "code",
   "execution_count": 2,
   "id": "586ae60a",
   "metadata": {},
   "outputs": [],
   "source": [
    "l = [1,2,3,4,5,\"abc\"]"
   ]
  },
  {
   "cell_type": "code",
   "execution_count": 3,
   "id": "5e5a3d5d",
   "metadata": {},
   "outputs": [
    {
     "data": {
      "text/plain": [
       "list"
      ]
     },
     "execution_count": 3,
     "metadata": {},
     "output_type": "execute_result"
    }
   ],
   "source": [
    "type(l)"
   ]
  },
  {
   "cell_type": "code",
   "execution_count": 5,
   "id": "282c9fbe",
   "metadata": {},
   "outputs": [
    {
     "data": {
      "text/plain": [
       "array(['1', '2', '3', '4', '5', 'abc'], dtype='<U21')"
      ]
     },
     "execution_count": 5,
     "metadata": {},
     "output_type": "execute_result"
    }
   ],
   "source": [
    "np.array(l)\n",
    "\n",
    "##dtype='<U21' --> string object"
   ]
  },
  {
   "cell_type": "code",
   "execution_count": 7,
   "id": "f23f4626",
   "metadata": {},
   "outputs": [
    {
     "data": {
      "text/plain": [
       "numpy.ndarray"
      ]
     },
     "execution_count": 7,
     "metadata": {},
     "output_type": "execute_result"
    }
   ],
   "source": [
    "type(np.array(l))"
   ]
  },
  {
   "cell_type": "code",
   "execution_count": 8,
   "id": "9dbad583",
   "metadata": {},
   "outputs": [
    {
     "data": {
      "text/plain": [
       "array([[1, 2, 3, 4]])"
      ]
     },
     "execution_count": 8,
     "metadata": {},
     "output_type": "execute_result"
    }
   ],
   "source": [
    "np.array([[1,2,3,4]])"
   ]
  },
  {
   "cell_type": "code",
   "execution_count": 11,
   "id": "e6a13253",
   "metadata": {},
   "outputs": [
    {
     "data": {
      "text/plain": [
       "array([[  1,   2,   3,   4],\n",
       "       [445,  56,  67,  78]])"
      ]
     },
     "execution_count": 11,
     "metadata": {},
     "output_type": "execute_result"
    }
   ],
   "source": [
    "#2D array\n",
    "np.array([[1,2,3,4],[445,56,67,78]])"
   ]
  },
  {
   "cell_type": "code",
   "execution_count": 12,
   "id": "06ee27ce",
   "metadata": {},
   "outputs": [
    {
     "data": {
      "text/plain": [
       "array([[[[1, 2, 3, 4]]]])"
      ]
     },
     "execution_count": 12,
     "metadata": {},
     "output_type": "execute_result"
    }
   ],
   "source": [
    "np.array([[1,2,3,4]], ndmin=4)\n",
    "\n",
    "#ndmin=4 --> parameter will take numeric value and convert into dimentions\n",
    "#ndmin=4 --> 4 dimension array\n"
   ]
  },
  {
   "cell_type": "code",
   "execution_count": 14,
   "id": "f9cbcaf7",
   "metadata": {},
   "outputs": [
    {
     "data": {
      "text/plain": [
       "matrix([[1, 2, 3]])"
      ]
     },
     "execution_count": 14,
     "metadata": {},
     "output_type": "execute_result"
    }
   ],
   "source": [
    "np.mat([1,2,3])\n",
    "#convert into matrix format"
   ]
  },
  {
   "cell_type": "code",
   "execution_count": 15,
   "id": "da9d19f6",
   "metadata": {},
   "outputs": [],
   "source": [
    "arr = np.array([1,2,3,4,5,6])"
   ]
  },
  {
   "cell_type": "code",
   "execution_count": 16,
   "id": "10f332d9",
   "metadata": {},
   "outputs": [
    {
     "data": {
      "text/plain": [
       "array([1, 2, 3, 4, 5, 6])"
      ]
     },
     "execution_count": 16,
     "metadata": {},
     "output_type": "execute_result"
    }
   ],
   "source": [
    "arr"
   ]
  },
  {
   "cell_type": "code",
   "execution_count": 17,
   "id": "66082f89",
   "metadata": {},
   "outputs": [
    {
     "data": {
      "text/plain": [
       "1"
      ]
     },
     "execution_count": 17,
     "metadata": {},
     "output_type": "execute_result"
    }
   ],
   "source": [
    "arr[0]"
   ]
  },
  {
   "cell_type": "code",
   "execution_count": 18,
   "id": "6d680d9b",
   "metadata": {},
   "outputs": [
    {
     "data": {
      "text/plain": [
       "6"
      ]
     },
     "execution_count": 18,
     "metadata": {},
     "output_type": "execute_result"
    }
   ],
   "source": [
    "arr[5]"
   ]
  },
  {
   "cell_type": "code",
   "execution_count": 19,
   "id": "5bcbc417",
   "metadata": {},
   "outputs": [
    {
     "data": {
      "text/plain": [
       "array([1, 2, 3])"
      ]
     },
     "execution_count": 19,
     "metadata": {},
     "output_type": "execute_result"
    }
   ],
   "source": [
    "arr[0:3]"
   ]
  },
  {
   "cell_type": "code",
   "execution_count": 21,
   "id": "4204a325",
   "metadata": {},
   "outputs": [
    {
     "data": {
      "text/plain": [
       "array([1, 3, 5])"
      ]
     },
     "execution_count": 21,
     "metadata": {},
     "output_type": "execute_result"
    }
   ],
   "source": [
    "arr[0:5:2]\n",
    "#starting from 0 got till 5th element, get every 2nd element"
   ]
  },
  {
   "cell_type": "code",
   "execution_count": 22,
   "id": "422cd90b",
   "metadata": {},
   "outputs": [
    {
     "data": {
      "text/plain": [
       "6"
      ]
     },
     "execution_count": 22,
     "metadata": {},
     "output_type": "execute_result"
    }
   ],
   "source": [
    "arr[-1]"
   ]
  },
  {
   "cell_type": "code",
   "execution_count": 23,
   "id": "94448eb1",
   "metadata": {},
   "outputs": [
    {
     "data": {
      "text/plain": [
       "array([1, 2, 3, 4])"
      ]
     },
     "execution_count": 23,
     "metadata": {},
     "output_type": "execute_result"
    }
   ],
   "source": [
    "arr[0:-2]"
   ]
  },
  {
   "cell_type": "code",
   "execution_count": 24,
   "id": "5d7f0581",
   "metadata": {},
   "outputs": [],
   "source": [
    "arr1 = np.array([[1,2,3],[4,5,6]])"
   ]
  },
  {
   "cell_type": "code",
   "execution_count": 25,
   "id": "1389934e",
   "metadata": {},
   "outputs": [
    {
     "data": {
      "text/plain": [
       "array([[1, 2, 3],\n",
       "       [4, 5, 6]])"
      ]
     },
     "execution_count": 25,
     "metadata": {},
     "output_type": "execute_result"
    }
   ],
   "source": [
    "arr1"
   ]
  },
  {
   "cell_type": "code",
   "execution_count": 26,
   "id": "3b32e81e",
   "metadata": {},
   "outputs": [
    {
     "data": {
      "text/plain": [
       "6"
      ]
     },
     "execution_count": 26,
     "metadata": {},
     "output_type": "execute_result"
    }
   ],
   "source": [
    "arr1[1][-1]"
   ]
  },
  {
   "cell_type": "code",
   "execution_count": 27,
   "id": "c4f7f6ff",
   "metadata": {},
   "outputs": [
    {
     "data": {
      "text/plain": [
       "6"
      ]
     },
     "execution_count": 27,
     "metadata": {},
     "output_type": "execute_result"
    }
   ],
   "source": [
    "arr1[1][2]"
   ]
  },
  {
   "cell_type": "code",
   "execution_count": 27,
   "id": "5129bca0",
   "metadata": {},
   "outputs": [],
   "source": [
    "arr = np.array([[1,2,3],[4,5,6],[7,8,9]])"
   ]
  },
  {
   "cell_type": "code",
   "execution_count": 3,
   "id": "0cddea96",
   "metadata": {},
   "outputs": [
    {
     "data": {
      "text/plain": [
       "array([[1, 2, 3],\n",
       "       [4, 5, 6],\n",
       "       [7, 8, 9]])"
      ]
     },
     "execution_count": 3,
     "metadata": {},
     "output_type": "execute_result"
    }
   ],
   "source": [
    "arr"
   ]
  },
  {
   "cell_type": "code",
   "execution_count": 4,
   "id": "6edb4d14",
   "metadata": {},
   "outputs": [
    {
     "data": {
      "text/plain": [
       "3"
      ]
     },
     "execution_count": 4,
     "metadata": {},
     "output_type": "execute_result"
    }
   ],
   "source": [
    "arr[0][2]"
   ]
  },
  {
   "cell_type": "code",
   "execution_count": 5,
   "id": "91e9d267",
   "metadata": {},
   "outputs": [
    {
     "data": {
      "text/plain": [
       "6"
      ]
     },
     "execution_count": 5,
     "metadata": {},
     "output_type": "execute_result"
    }
   ],
   "source": [
    "arr[1][-1]"
   ]
  },
  {
   "cell_type": "code",
   "execution_count": 6,
   "id": "19f108ad",
   "metadata": {},
   "outputs": [
    {
     "data": {
      "text/plain": [
       "6"
      ]
     },
     "execution_count": 6,
     "metadata": {},
     "output_type": "execute_result"
    }
   ],
   "source": [
    "arr[1][2]"
   ]
  },
  {
   "cell_type": "code",
   "execution_count": 7,
   "id": "bd3bb1a5",
   "metadata": {},
   "outputs": [
    {
     "data": {
      "text/plain": [
       "9"
      ]
     },
     "execution_count": 7,
     "metadata": {},
     "output_type": "execute_result"
    }
   ],
   "source": [
    "arr[2][2]"
   ]
  },
  {
   "cell_type": "code",
   "execution_count": 8,
   "id": "49824e68",
   "metadata": {},
   "outputs": [
    {
     "data": {
      "text/plain": [
       "9"
      ]
     },
     "execution_count": 8,
     "metadata": {},
     "output_type": "execute_result"
    }
   ],
   "source": [
    "arr[2,2]"
   ]
  },
  {
   "cell_type": "code",
   "execution_count": 10,
   "id": "42aa6fc2",
   "metadata": {},
   "outputs": [
    {
     "data": {
      "text/plain": [
       "array([1, 2, 3, 4])"
      ]
     },
     "execution_count": 10,
     "metadata": {},
     "output_type": "execute_result"
    }
   ],
   "source": [
    "np.asarray([1,2,3,4])"
   ]
  },
  {
   "cell_type": "code",
   "execution_count": 12,
   "id": "4606b415",
   "metadata": {},
   "outputs": [
    {
     "data": {
      "text/plain": [
       "array([1., 2., 3., 4.], dtype=float32)"
      ]
     },
     "execution_count": 12,
     "metadata": {},
     "output_type": "execute_result"
    }
   ],
   "source": [
    "np.asarray([1,2,3,4], dtype=np.float32)\n",
    "#it will able to convert all the integert element into float"
   ]
  },
  {
   "cell_type": "code",
   "execution_count": 13,
   "id": "4fcf4363",
   "metadata": {},
   "outputs": [
    {
     "data": {
      "text/plain": [
       "array([1, 2, 3, 4])"
      ]
     },
     "execution_count": 13,
     "metadata": {},
     "output_type": "execute_result"
    }
   ],
   "source": [
    "np.asanyarray([1,2,3,4])"
   ]
  },
  {
   "cell_type": "code",
   "execution_count": 15,
   "id": "7020bb24",
   "metadata": {},
   "outputs": [
    {
     "data": {
      "text/plain": [
       "matrix([[1, 2, 3]])"
      ]
     },
     "execution_count": 15,
     "metadata": {},
     "output_type": "execute_result"
    }
   ],
   "source": [
    "np.asanyarray(np.mat([1,2,3]))\n",
    "\n",
    "#array matrix is already one of the format of array so it is not able to convert into array"
   ]
  },
  {
   "cell_type": "markdown",
   "id": "e959e091",
   "metadata": {},
   "source": [
    "## np.fromfunction()\n",
    "\n",
    "np.fromfunction(\n",
    "    function,\n",
    "    shape,\n",
    "    *,\n",
    "    dtype=<class 'float'>,\n",
    "    like=None,\n",
    "    **kwargs,\n",
    ")\n",
    "Docstring:\n",
    "Construct an array by executing a function over each coordinate.\n",
    "\n",
    "The resulting array therefore has a value ``fn(x, y, z)`` at\n",
    "coordinate ``(x, y, z)``.\n",
    "\n",
    "Parameters\n",
    "----------\n",
    "function : callable\n",
    "    The function is called with N parameters, where N is the rank of\n",
    "    `shape`.  Each parameter represents the coordinates of the array\n",
    "    varying along a specific axis.  For example, if `shape`\n",
    "    were ``(2, 2)``, then the parameters would be\n",
    "    ``array([[0, 0], [1, 1]])`` and ``array([[0, 1], [0, 1]])``\n",
    "    \n",
    "shape : (N,) tuple of ints\n",
    "    Shape of the output array, which also determines the shape of\n",
    "    the coordinate arrays passed to `function`.\n",
    "    \n",
    "dtype : data-type, optional\n",
    "    Data-type of the coordinate arrays passed to `function`.\n",
    "    By default, `dtype` is float.\n",
    "    \n",
    "like : array_like\n",
    "    Reference object to allow the creation of arrays which are not\n",
    "    NumPy arrays. If an array-like passed in as ``like`` supports\n",
    "    the ``__array_function__`` protocol, the result will be defined\n",
    "    by it. In this case, it ensures the creation of an array object\n",
    "    compatible with that passed in via this argument.\n",
    "\n",
    "    .. versionadded:: 1.20.0\n",
    "\n",
    "Returns\n",
    "-------\n",
    "fromfunction : any\n",
    "    The result of the call to `function` is passed back directly.\n",
    "    Therefore the shape of `fromfunction` is completely determined by\n",
    "    `function`.  If `function` returns a scalar value, the shape of\n",
    "    `fromfunction` would not match the `shape` parameter.\n",
    "\n",
    "See Also\n",
    "--------\n",
    "indices, meshgrid\n",
    "\n",
    "Notes\n",
    "-----\n",
    "Keywords other than `dtype` are passed to `function`.\n",
    "\n",
    "Examples\n",
    "--------\n",
    "    >>> np.fromfunction(lambda i, j: i == j, (3, 3), dtype=int)\n",
    "    array([[ True, False, False],\n",
    "           [False,  True, False],\n",
    "           [False, False,  True]])\n",
    "\n",
    "    >>> np.fromfunction(lambda i, j: i + j, (3, 3), dtype=int)\n",
    "    array([[0, 1, 2],\n",
    "           [1, 2, 3],\n",
    "           [2, 3, 4]])\n",
    "    File:      ~/anaconda3/lib/python3.8/site-packages/numpy/core/numeric.py\n",
    "    Type:      function"
   ]
  },
  {
   "cell_type": "code",
   "execution_count": 18,
   "id": "77ecb40e",
   "metadata": {
    "scrolled": true
   },
   "outputs": [
    {
     "data": {
      "text/plain": [
       "array([[0, 0, 0],\n",
       "       [0, 1, 2],\n",
       "       [0, 2, 4]])"
      ]
     },
     "execution_count": 18,
     "metadata": {},
     "output_type": "execute_result"
    }
   ],
   "source": [
    "np.fromfunction(lambda x, y : x*y, (3,3), dtype=int)"
   ]
  },
  {
   "cell_type": "code",
   "execution_count": 20,
   "id": "e0013af6",
   "metadata": {},
   "outputs": [
    {
     "data": {
      "text/plain": [
       "array([[0, 0, 0, 0],\n",
       "       [0, 1, 2, 3],\n",
       "       [0, 2, 4, 6],\n",
       "       [0, 3, 6, 9]])"
      ]
     },
     "execution_count": 20,
     "metadata": {},
     "output_type": "execute_result"
    }
   ],
   "source": [
    "np.fromfunction(lambda x, y : x*y, (4,4), dtype=int)\n",
    "\n",
    "#x*y --> multiplication of dimentions \n",
    "#x --> row, y--> column, of shape(4,4), datatype = int"
   ]
  },
  {
   "cell_type": "markdown",
   "id": "c7a14108",
   "metadata": {},
   "source": [
    "      y     0 1 2 3  \n",
    "      x  0 [0,0,0,0]\n",
    "         1 [0,1,2,3]\n",
    "         2 [0,2,4,6]\n",
    "         3 [0,3,6,9]"
   ]
  },
  {
   "cell_type": "code",
   "execution_count": 21,
   "id": "abf6f699",
   "metadata": {},
   "outputs": [
    {
     "data": {
      "text/plain": [
       "array([[0, 1, 2, 3],\n",
       "       [1, 2, 3, 4],\n",
       "       [2, 3, 4, 5],\n",
       "       [3, 4, 5, 6]])"
      ]
     },
     "execution_count": 21,
     "metadata": {},
     "output_type": "execute_result"
    }
   ],
   "source": [
    "np.fromfunction(lambda x, y : x+y, (4,4), dtype=int)"
   ]
  },
  {
   "cell_type": "code",
   "execution_count": 22,
   "id": "2b452708",
   "metadata": {},
   "outputs": [
    {
     "ename": "TypeError",
     "evalue": "<lambda>() missing 1 required positional argument: 'z'",
     "output_type": "error",
     "traceback": [
      "\u001b[0;31m---------------------------------------------------------------------------\u001b[0m",
      "\u001b[0;31mTypeError\u001b[0m                                 Traceback (most recent call last)",
      "\u001b[0;32m/tmp/ipykernel_23687/1567284263.py\u001b[0m in \u001b[0;36m<module>\u001b[0;34m\u001b[0m\n\u001b[0;32m----> 1\u001b[0;31m \u001b[0mnp\u001b[0m\u001b[0;34m.\u001b[0m\u001b[0mfromfunction\u001b[0m\u001b[0;34m(\u001b[0m\u001b[0;32mlambda\u001b[0m \u001b[0mx\u001b[0m\u001b[0;34m,\u001b[0m \u001b[0my\u001b[0m\u001b[0;34m,\u001b[0m \u001b[0mz\u001b[0m \u001b[0;34m:\u001b[0m \u001b[0mx\u001b[0m\u001b[0;34m+\u001b[0m\u001b[0my\u001b[0m\u001b[0;34m+\u001b[0m\u001b[0mz\u001b[0m\u001b[0;34m,\u001b[0m \u001b[0;34m(\u001b[0m\u001b[0;36m4\u001b[0m\u001b[0;34m,\u001b[0m\u001b[0;36m4\u001b[0m\u001b[0;34m)\u001b[0m\u001b[0;34m,\u001b[0m \u001b[0mdtype\u001b[0m\u001b[0;34m=\u001b[0m\u001b[0mint\u001b[0m\u001b[0;34m)\u001b[0m\u001b[0;34m\u001b[0m\u001b[0;34m\u001b[0m\u001b[0m\n\u001b[0m",
      "\u001b[0;32m~/anaconda3/lib/python3.8/site-packages/numpy/core/numeric.py\u001b[0m in \u001b[0;36mfromfunction\u001b[0;34m(function, shape, dtype, like, **kwargs)\u001b[0m\n\u001b[1;32m   1844\u001b[0m \u001b[0;34m\u001b[0m\u001b[0m\n\u001b[1;32m   1845\u001b[0m     \u001b[0margs\u001b[0m \u001b[0;34m=\u001b[0m \u001b[0mindices\u001b[0m\u001b[0;34m(\u001b[0m\u001b[0mshape\u001b[0m\u001b[0;34m,\u001b[0m \u001b[0mdtype\u001b[0m\u001b[0;34m=\u001b[0m\u001b[0mdtype\u001b[0m\u001b[0;34m)\u001b[0m\u001b[0;34m\u001b[0m\u001b[0;34m\u001b[0m\u001b[0m\n\u001b[0;32m-> 1846\u001b[0;31m     \u001b[0;32mreturn\u001b[0m \u001b[0mfunction\u001b[0m\u001b[0;34m(\u001b[0m\u001b[0;34m*\u001b[0m\u001b[0margs\u001b[0m\u001b[0;34m,\u001b[0m \u001b[0;34m**\u001b[0m\u001b[0mkwargs\u001b[0m\u001b[0;34m)\u001b[0m\u001b[0;34m\u001b[0m\u001b[0;34m\u001b[0m\u001b[0m\n\u001b[0m\u001b[1;32m   1847\u001b[0m \u001b[0;34m\u001b[0m\u001b[0m\n\u001b[1;32m   1848\u001b[0m \u001b[0;34m\u001b[0m\u001b[0m\n",
      "\u001b[0;31mTypeError\u001b[0m: <lambda>() missing 1 required positional argument: 'z'"
     ]
    }
   ],
   "source": [
    "np.fromfunction(lambda x, y, z : x+y+z, (4,4), dtype=int)"
   ]
  },
  {
   "cell_type": "code",
   "execution_count": 28,
   "id": "85969bd1",
   "metadata": {},
   "outputs": [
    {
     "data": {
      "text/plain": [
       "array([[[0, 1],\n",
       "        [1, 2],\n",
       "        [2, 3]],\n",
       "\n",
       "       [[1, 2],\n",
       "        [2, 3],\n",
       "        [3, 4]],\n",
       "\n",
       "       [[2, 3],\n",
       "        [3, 4],\n",
       "        [4, 5]]])"
      ]
     },
     "execution_count": 28,
     "metadata": {},
     "output_type": "execute_result"
    }
   ],
   "source": [
    "#need to provide 3 dimension shape\n",
    "np.fromfunction(lambda x, y, z : x+y+z, (3,3,2), dtype=int)\n",
    "\n",
    "#x+y+z --> summation of dimentions\n",
    "#3*2 arrays and 3 such arrays of (3*2)"
   ]
  },
  {
   "cell_type": "code",
   "execution_count": 29,
   "id": "a6790855",
   "metadata": {},
   "outputs": [
    {
     "data": {
      "text/plain": [
       "array([[[0],\n",
       "        [1],\n",
       "        [2]],\n",
       "\n",
       "       [[1],\n",
       "        [2],\n",
       "        [3]],\n",
       "\n",
       "       [[2],\n",
       "        [3],\n",
       "        [4]]])"
      ]
     },
     "execution_count": 29,
     "metadata": {},
     "output_type": "execute_result"
    }
   ],
   "source": [
    "np.fromfunction(lambda x, y, z : x+y+z, (3,3,1), dtype=int)"
   ]
  },
  {
   "cell_type": "markdown",
   "id": "970f0780",
   "metadata": {},
   "source": [
    "## np.fromiter()\n",
    "\n",
    "\n",
    "fromiter(iter, dtype, count=-1, *, like=None)\n",
    "\n",
    "Create a new 1-dimensional array from an iterable object.\n",
    "\n",
    "Parameters\n",
    "----------\n",
    "iter : iterable object\n",
    "    An iterable object providing data for the array.\n",
    "    \n",
    "dtype : data-type\n",
    "    The data-type of the returned array.\n",
    "    \n",
    "count : int, optional\n",
    "    The number of items to read from *iterable*.  The default is -1,\n",
    "    which means all data is read.\n",
    "    \n",
    "like : array_like\n",
    "    Reference object to allow the creation of arrays which are not\n",
    "    NumPy arrays. If an array-like passed in as ``like`` supports\n",
    "    the ``__array_function__`` protocol, the result will be defined\n",
    "    by it. In this case, it ensures the creation of an array object\n",
    "    compatible with that passed in via this argument.\n",
    "\n",
    "    .. versionadded:: 1.20.0\n",
    "\n",
    "Returns\n",
    "-------\n",
    "out : ndarray\n",
    "    The output array.\n",
    "\n",
    "Notes\n",
    "-----\n",
    "Specify `count` to improve performance.  It allows ``fromiter`` to\n",
    "pre-allocate the output array, instead of resizing it on demand.\n",
    "\n",
    "Examples\n",
    "--------\n",
    "    >>> iterable = (x*x for x in range(5))\n",
    "    >>> np.fromiter(iterable, float)\n",
    "    array([  0.,   1.,   4.,   9.,  16.])\n",
    "    Type:      builtin_function_or_method"
   ]
  },
  {
   "cell_type": "code",
   "execution_count": 32,
   "id": "ef48f96f",
   "metadata": {},
   "outputs": [
    {
     "ename": "TypeError",
     "evalue": "'int' object is not iterable",
     "output_type": "error",
     "traceback": [
      "\u001b[0;31m---------------------------------------------------------------------------\u001b[0m",
      "\u001b[0;31mTypeError\u001b[0m                                 Traceback (most recent call last)",
      "\u001b[0;32m/tmp/ipykernel_23687/1612089468.py\u001b[0m in \u001b[0;36m<module>\u001b[0;34m\u001b[0m\n\u001b[0;32m----> 1\u001b[0;31m \u001b[0;32mfor\u001b[0m \u001b[0mi\u001b[0m \u001b[0;32min\u001b[0m \u001b[0;36m5\u001b[0m\u001b[0;34m:\u001b[0m\u001b[0;34m\u001b[0m\u001b[0;34m\u001b[0m\u001b[0m\n\u001b[0m\u001b[1;32m      2\u001b[0m     \u001b[0mprint\u001b[0m\u001b[0;34m(\u001b[0m\u001b[0mi\u001b[0m\u001b[0;34m)\u001b[0m\u001b[0;34m\u001b[0m\u001b[0;34m\u001b[0m\u001b[0m\n\u001b[1;32m      3\u001b[0m \u001b[0;34m\u001b[0m\u001b[0m\n\u001b[1;32m      4\u001b[0m \u001b[0;31m#TypeError: 'int' object is not iterable\u001b[0m\u001b[0;34m\u001b[0m\u001b[0;34m\u001b[0m\u001b[0;34m\u001b[0m\u001b[0m\n",
      "\u001b[0;31mTypeError\u001b[0m: 'int' object is not iterable"
     ]
    }
   ],
   "source": [
    "for i in 5:\n",
    "    print(i)\n",
    "    \n",
    "#TypeError: 'int' object is not iterable"
   ]
  },
  {
   "cell_type": "code",
   "execution_count": 34,
   "id": "01a2abeb",
   "metadata": {},
   "outputs": [
    {
     "name": "stdout",
     "output_type": "stream",
     "text": [
      "x\n",
      "y\n",
      "z\n"
     ]
    }
   ],
   "source": [
    "for i in \"xyz\":\n",
    "    print(i)"
   ]
  },
  {
   "cell_type": "code",
   "execution_count": 35,
   "id": "9f778da2",
   "metadata": {},
   "outputs": [
    {
     "name": "stdout",
     "output_type": "stream",
     "text": [
      "a\n"
     ]
    }
   ],
   "source": [
    "for i in \"a\":\n",
    "    print(i)"
   ]
  },
  {
   "cell_type": "code",
   "execution_count": 36,
   "id": "c63dbe84",
   "metadata": {},
   "outputs": [
    {
     "name": "stdout",
     "output_type": "stream",
     "text": [
      "1\n",
      "2\n",
      "3\n"
     ]
    }
   ],
   "source": [
    "for i in [1,2,3]:\n",
    "    print(i)"
   ]
  },
  {
   "cell_type": "code",
   "execution_count": 6,
   "id": "59938044",
   "metadata": {},
   "outputs": [],
   "source": [
    "import numpy as np"
   ]
  },
  {
   "cell_type": "code",
   "execution_count": 7,
   "id": "0e7ceb0f",
   "metadata": {},
   "outputs": [
    {
     "data": {
      "text/plain": [
       "array([[1, 2, 3],\n",
       "       [4, 5, 6],\n",
       "       [7, 8, 9]])"
      ]
     },
     "execution_count": 7,
     "metadata": {},
     "output_type": "execute_result"
    }
   ],
   "source": [
    "arr"
   ]
  },
  {
   "cell_type": "code",
   "execution_count": 17,
   "id": "7fbf0f44",
   "metadata": {},
   "outputs": [],
   "source": [
    "#!pip install --upgrade notebook\n"
   ]
  },
  {
   "cell_type": "code",
   "execution_count": 1,
   "id": "72a41b9c",
   "metadata": {},
   "outputs": [
    {
     "ename": "TypeError",
     "evalue": "'str' object is not an iterator",
     "output_type": "error",
     "traceback": [
      "\u001b[0;31m---------------------------------------------------------------------------\u001b[0m",
      "\u001b[0;31mTypeError\u001b[0m                                 Traceback (most recent call last)",
      "\u001b[0;32m/tmp/ipykernel_97581/1076852256.py\u001b[0m in \u001b[0;36m<module>\u001b[0;34m\u001b[0m\n\u001b[1;32m      1\u001b[0m \u001b[0ms\u001b[0m \u001b[0;34m=\u001b[0m \u001b[0;34m\"abc\"\u001b[0m\u001b[0;34m\u001b[0m\u001b[0;34m\u001b[0m\u001b[0m\n\u001b[0;32m----> 2\u001b[0;31m \u001b[0mnext\u001b[0m\u001b[0;34m(\u001b[0m\u001b[0ms\u001b[0m\u001b[0;34m)\u001b[0m\u001b[0;34m\u001b[0m\u001b[0;34m\u001b[0m\u001b[0m\n\u001b[0m",
      "\u001b[0;31mTypeError\u001b[0m: 'str' object is not an iterator"
     ]
    }
   ],
   "source": [
    "s = \"abc\"\n",
    "next(s)"
   ]
  },
  {
   "cell_type": "markdown",
   "id": "68f1c9d2",
   "metadata": {},
   "source": [
    "## Python Iterators\n",
    "\n",
    "An iterator is an object that contains a countable number of values.\n",
    "\n",
    "An iterator is an object that can be iterated upon, meaning that you can traverse through all the values.\n",
    "\n",
    "Technically, in Python, an iterator is an object which implements the iterator protocol, which consist of the methods __iter__() and __next__().\n",
    "\n",
    "Iterator vs Iterable\n",
    "Lists, tuples, dictionaries, and sets are all iterable objects. They are iterable containers which you can get an iterator from.\n",
    "\n",
    "All these objects have a iter() method which is used to get an iterator:"
   ]
  },
  {
   "cell_type": "markdown",
   "id": "8d56db78",
   "metadata": {},
   "source": [
    "## Python | Difference between iterable and iterator\n",
    "\n",
    "\n",
    "Iterable is an object, which one can iterate over. It generates an Iterator when passed to iter() method. Iterator is an object, which is used to iterate over an iterable object using __next__() method. Iterators have __next__() method, which returns the next item of the object.\n",
    "\n",
    "Note that every iterator is also an iterable, but not every iterable is an iterator. For example, a list is iterable but a list is not an iterator. An iterator can be created from an iterable by using the function iter(). To make this possible, the class of an object needs either a method __iter__, which returns an iterator, or a __getitem__ method with sequential indexes starting with 0.\n",
    "\n",
    "    for city in [\"Berlin\", \"Vienna\", \"Zurich\"]:\n",
    "        print(city)\n",
    "\n",
    "    print(\"\\n\")\n",
    "\n",
    "    for city in (\"Python\", \"Perl\", \"Ruby\"):\n",
    "        print(city)\n",
    "\n",
    "    print(\"\\n\")\n",
    "\n",
    "    for char in \"Iteration is easy\":\n",
    "        print(char, end = \" \")\n",
    "        \n",
    "        \n",
    "        Berlin\n",
    "        Vienna\n",
    "        Zurich\n",
    "\n",
    "        Python\n",
    "        Perl\n",
    "        Ruby\n",
    "\n",
    "        I t e r a t i o n   i s   e a s y \n",
    "        \n",
    "\n"
   ]
  },
  {
   "cell_type": "code",
   "execution_count": 2,
   "id": "37c5651b",
   "metadata": {},
   "outputs": [],
   "source": [
    "l = [1,2,3]"
   ]
  },
  {
   "cell_type": "code",
   "execution_count": 3,
   "id": "f1da060c",
   "metadata": {},
   "outputs": [
    {
     "ename": "TypeError",
     "evalue": "'list' object is not an iterator",
     "output_type": "error",
     "traceback": [
      "\u001b[0;31m---------------------------------------------------------------------------\u001b[0m",
      "\u001b[0;31mTypeError\u001b[0m                                 Traceback (most recent call last)",
      "\u001b[0;32m/tmp/ipykernel_97581/2016234150.py\u001b[0m in \u001b[0;36m<module>\u001b[0;34m\u001b[0m\n\u001b[0;32m----> 1\u001b[0;31m \u001b[0mnext\u001b[0m\u001b[0;34m(\u001b[0m\u001b[0ml\u001b[0m\u001b[0;34m)\u001b[0m\u001b[0;34m\u001b[0m\u001b[0;34m\u001b[0m\u001b[0m\n\u001b[0m",
      "\u001b[0;31mTypeError\u001b[0m: 'list' object is not an iterator"
     ]
    }
   ],
   "source": [
    "next(l)"
   ]
  },
  {
   "cell_type": "code",
   "execution_count": 4,
   "id": "76f0ffe9",
   "metadata": {},
   "outputs": [],
   "source": [
    "r =range(4)"
   ]
  },
  {
   "cell_type": "code",
   "execution_count": 5,
   "id": "728d507d",
   "metadata": {},
   "outputs": [
    {
     "ename": "TypeError",
     "evalue": "'range' object is not an iterator",
     "output_type": "error",
     "traceback": [
      "\u001b[0;31m---------------------------------------------------------------------------\u001b[0m",
      "\u001b[0;31mTypeError\u001b[0m                                 Traceback (most recent call last)",
      "\u001b[0;32m/tmp/ipykernel_97581/4134984757.py\u001b[0m in \u001b[0;36m<module>\u001b[0;34m\u001b[0m\n\u001b[0;32m----> 1\u001b[0;31m \u001b[0mnext\u001b[0m\u001b[0;34m(\u001b[0m\u001b[0mr\u001b[0m\u001b[0;34m)\u001b[0m\u001b[0;34m\u001b[0m\u001b[0;34m\u001b[0m\u001b[0m\n\u001b[0m",
      "\u001b[0;31mTypeError\u001b[0m: 'range' object is not an iterator"
     ]
    }
   ],
   "source": [
    "next(r)"
   ]
  },
  {
   "cell_type": "code",
   "execution_count": 6,
   "id": "71a94f8f",
   "metadata": {},
   "outputs": [],
   "source": [
    "i = iter(s)"
   ]
  },
  {
   "cell_type": "code",
   "execution_count": 7,
   "id": "6c569b17",
   "metadata": {},
   "outputs": [
    {
     "data": {
      "text/plain": [
       "'a'"
      ]
     },
     "execution_count": 7,
     "metadata": {},
     "output_type": "execute_result"
    }
   ],
   "source": [
    "next(i)"
   ]
  },
  {
   "cell_type": "code",
   "execution_count": 8,
   "id": "28bbcbd8",
   "metadata": {},
   "outputs": [
    {
     "data": {
      "text/plain": [
       "'b'"
      ]
     },
     "execution_count": 8,
     "metadata": {},
     "output_type": "execute_result"
    }
   ],
   "source": [
    "next(i)"
   ]
  },
  {
   "cell_type": "code",
   "execution_count": 9,
   "id": "64725148",
   "metadata": {},
   "outputs": [
    {
     "data": {
      "text/plain": [
       "'c'"
      ]
     },
     "execution_count": 9,
     "metadata": {},
     "output_type": "execute_result"
    }
   ],
   "source": [
    "next(i)"
   ]
  },
  {
   "cell_type": "code",
   "execution_count": 10,
   "id": "2f95886c",
   "metadata": {},
   "outputs": [
    {
     "ename": "StopIteration",
     "evalue": "",
     "output_type": "error",
     "traceback": [
      "\u001b[0;31m---------------------------------------------------------------------------\u001b[0m",
      "\u001b[0;31mStopIteration\u001b[0m                             Traceback (most recent call last)",
      "\u001b[0;32m/tmp/ipykernel_97581/1939748483.py\u001b[0m in \u001b[0;36m<module>\u001b[0;34m\u001b[0m\n\u001b[0;32m----> 1\u001b[0;31m \u001b[0mnext\u001b[0m\u001b[0;34m(\u001b[0m\u001b[0mi\u001b[0m\u001b[0;34m)\u001b[0m\u001b[0;34m\u001b[0m\u001b[0;34m\u001b[0m\u001b[0m\n\u001b[0m",
      "\u001b[0;31mStopIteration\u001b[0m: "
     ]
    }
   ],
   "source": [
    "next(i)"
   ]
  },
  {
   "cell_type": "code",
   "execution_count": 11,
   "id": "1c4ec0ea",
   "metadata": {},
   "outputs": [
    {
     "name": "stdout",
     "output_type": "stream",
     "text": [
      "a\n",
      "b\n",
      "c\n",
      "d\n",
      "e\n"
     ]
    }
   ],
   "source": [
    "for i in \"abcde\":\n",
    "    print(i)"
   ]
  },
  {
   "cell_type": "code",
   "execution_count": 13,
   "id": "8f35e9ac",
   "metadata": {},
   "outputs": [
    {
     "name": "stdout",
     "output_type": "stream",
     "text": [
      "1\n",
      "2\n",
      "3\n",
      "4\n",
      "5\n",
      "abc\n"
     ]
    }
   ],
   "source": [
    "#If a object is itable object then \"iter\" function convert iterable object into iterator \n",
    "#this is what for loop does\n",
    "\n",
    "l = [1,2,3,4,5,\"abc\"]\n",
    "for i in l:\n",
    "    print(i)"
   ]
  },
  {
   "cell_type": "code",
   "execution_count": 24,
   "id": "fe98a277",
   "metadata": {},
   "outputs": [
    {
     "ename": "TypeError",
     "evalue": "'list' object is not an iterator",
     "output_type": "error",
     "traceback": [
      "\u001b[0;31m---------------------------------------------------------------------------\u001b[0m",
      "\u001b[0;31mTypeError\u001b[0m                                 Traceback (most recent call last)",
      "\u001b[0;32m/tmp/ipykernel_97581/2016234150.py\u001b[0m in \u001b[0;36m<module>\u001b[0;34m\u001b[0m\n\u001b[0;32m----> 1\u001b[0;31m \u001b[0mnext\u001b[0m\u001b[0;34m(\u001b[0m\u001b[0ml\u001b[0m\u001b[0;34m)\u001b[0m\u001b[0;34m\u001b[0m\u001b[0;34m\u001b[0m\u001b[0m\n\u001b[0m",
      "\u001b[0;31mTypeError\u001b[0m: 'list' object is not an iterator"
     ]
    }
   ],
   "source": [
    "next(l)"
   ]
  },
  {
   "cell_type": "code",
   "execution_count": 19,
   "id": "69e909ca",
   "metadata": {},
   "outputs": [],
   "source": [
    "i=iter(l)"
   ]
  },
  {
   "cell_type": "code",
   "execution_count": 20,
   "id": "93949965",
   "metadata": {},
   "outputs": [
    {
     "data": {
      "text/plain": [
       "1"
      ]
     },
     "execution_count": 20,
     "metadata": {},
     "output_type": "execute_result"
    }
   ],
   "source": [
    "next(i)"
   ]
  },
  {
   "cell_type": "code",
   "execution_count": 21,
   "id": "214176a9",
   "metadata": {},
   "outputs": [
    {
     "data": {
      "text/plain": [
       "2"
      ]
     },
     "execution_count": 21,
     "metadata": {},
     "output_type": "execute_result"
    }
   ],
   "source": [
    "next(i)"
   ]
  },
  {
   "cell_type": "code",
   "execution_count": 22,
   "id": "0128ac84",
   "metadata": {},
   "outputs": [
    {
     "data": {
      "text/plain": [
       "3"
      ]
     },
     "execution_count": 22,
     "metadata": {},
     "output_type": "execute_result"
    }
   ],
   "source": [
    "next(i)"
   ]
  },
  {
   "cell_type": "code",
   "execution_count": 23,
   "id": "ade1fa3d",
   "metadata": {},
   "outputs": [
    {
     "data": {
      "text/plain": [
       "4"
      ]
     },
     "execution_count": 23,
     "metadata": {},
     "output_type": "execute_result"
    }
   ],
   "source": [
    "next(i)"
   ]
  },
  {
   "cell_type": "code",
   "execution_count": 26,
   "id": "5c0f09b9",
   "metadata": {},
   "outputs": [
    {
     "data": {
      "text/plain": [
       "array([1, 2, 3, 4, 5])"
      ]
     },
     "execution_count": 26,
     "metadata": {},
     "output_type": "execute_result"
    }
   ],
   "source": [
    "import numpy as np\n",
    "np.fromiter([1,2,3,4,5], dtype=int)"
   ]
  },
  {
   "cell_type": "code",
   "execution_count": 29,
   "id": "77643ba8",
   "metadata": {},
   "outputs": [
    {
     "name": "stderr",
     "output_type": "stream",
     "text": [
      "/tmp/ipykernel_97581/1386508469.py:1: DeprecationWarning: string or file could not be read to its end due to unmatched data; this will raise a ValueError in the future.\n",
      "  np.fromstring(\"abcxyz\", sep=\",\")\n"
     ]
    },
    {
     "data": {
      "text/plain": [
       "array([], dtype=float64)"
      ]
     },
     "execution_count": 29,
     "metadata": {},
     "output_type": "execute_result"
    }
   ],
   "source": [
    "np.fromstring(\"abcxyz\", sep=\",\")\n",
    "#suppose to pass the numerical value "
   ]
  },
  {
   "cell_type": "code",
   "execution_count": 30,
   "id": "151d5f97",
   "metadata": {},
   "outputs": [
    {
     "data": {
      "text/plain": [
       "array([1., 2., 3.])"
      ]
     },
     "execution_count": 30,
     "metadata": {},
     "output_type": "execute_result"
    }
   ],
   "source": [
    "np.fromstring(\"1 2 3\", sep=\" \")"
   ]
  },
  {
   "cell_type": "code",
   "execution_count": 31,
   "id": "ea6226cd",
   "metadata": {},
   "outputs": [
    {
     "data": {
      "text/plain": [
       "array([1.00000000e+02, 2.54600000e+03, 3.63546546e+08])"
      ]
     },
     "execution_count": 31,
     "metadata": {},
     "output_type": "execute_result"
    }
   ],
   "source": [
    "np.fromstring(\"100 2546 363546546\", sep=\" \")"
   ]
  },
  {
   "cell_type": "code",
   "execution_count": 32,
   "id": "23a1ef5d",
   "metadata": {},
   "outputs": [
    {
     "data": {
      "text/plain": [
       "array([      100,      2546, 363546546])"
      ]
     },
     "execution_count": 32,
     "metadata": {},
     "output_type": "execute_result"
    }
   ],
   "source": [
    "np.fromstring(\"100 2546 363546546\", dtype=int, sep=\" \")"
   ]
  },
  {
   "cell_type": "code",
   "execution_count": 33,
   "id": "6a052971",
   "metadata": {},
   "outputs": [],
   "source": [
    "l = [1,2,3,4,5,6]"
   ]
  },
  {
   "cell_type": "code",
   "execution_count": 34,
   "id": "00cd5169",
   "metadata": {},
   "outputs": [],
   "source": [
    "arr = np.array(l)"
   ]
  },
  {
   "cell_type": "code",
   "execution_count": 35,
   "id": "74d5bd2b",
   "metadata": {},
   "outputs": [
    {
     "data": {
      "text/plain": [
       "array([1, 2, 3, 4, 5, 6])"
      ]
     },
     "execution_count": 35,
     "metadata": {},
     "output_type": "execute_result"
    }
   ],
   "source": [
    "arr"
   ]
  },
  {
   "cell_type": "code",
   "execution_count": 37,
   "id": "74c04e35",
   "metadata": {},
   "outputs": [
    {
     "data": {
      "text/plain": [
       "1"
      ]
     },
     "execution_count": 37,
     "metadata": {},
     "output_type": "execute_result"
    }
   ],
   "source": [
    "#ndim will show the number of dimention\n",
    "arr.ndim"
   ]
  },
  {
   "cell_type": "code",
   "execution_count": 39,
   "id": "a7f1803a",
   "metadata": {},
   "outputs": [
    {
     "data": {
      "text/plain": [
       "6"
      ]
     },
     "execution_count": 39,
     "metadata": {},
     "output_type": "execute_result"
    }
   ],
   "source": [
    "#size will return size of the array\n",
    "arr.size"
   ]
  },
  {
   "cell_type": "code",
   "execution_count": 42,
   "id": "60b0f3e7",
   "metadata": {},
   "outputs": [
    {
     "data": {
      "text/plain": [
       "(6,)"
      ]
     },
     "execution_count": 42,
     "metadata": {},
     "output_type": "execute_result"
    }
   ],
   "source": [
    " #shape will return no of rows and no of column\n",
    "arr.shape"
   ]
  },
  {
   "cell_type": "code",
   "execution_count": 48,
   "id": "979d6e49",
   "metadata": {},
   "outputs": [],
   "source": [
    "x = np.fromfunction(lambda x, y, z : x+y+z, (3,3,4), dtype=int)"
   ]
  },
  {
   "cell_type": "code",
   "execution_count": 49,
   "id": "1bafe1d4",
   "metadata": {},
   "outputs": [
    {
     "data": {
      "text/plain": [
       "array([[[0, 1, 2, 3],\n",
       "        [1, 2, 3, 4],\n",
       "        [2, 3, 4, 5]],\n",
       "\n",
       "       [[1, 2, 3, 4],\n",
       "        [2, 3, 4, 5],\n",
       "        [3, 4, 5, 6]],\n",
       "\n",
       "       [[2, 3, 4, 5],\n",
       "        [3, 4, 5, 6],\n",
       "        [4, 5, 6, 7]]])"
      ]
     },
     "execution_count": 49,
     "metadata": {},
     "output_type": "execute_result"
    }
   ],
   "source": [
    "x"
   ]
  },
  {
   "cell_type": "code",
   "execution_count": 50,
   "id": "cc1a52a5",
   "metadata": {},
   "outputs": [
    {
     "data": {
      "text/plain": [
       "(3, 3, 4)"
      ]
     },
     "execution_count": 50,
     "metadata": {},
     "output_type": "execute_result"
    }
   ],
   "source": [
    "x.shape"
   ]
  },
  {
   "cell_type": "code",
   "execution_count": 52,
   "id": "f0d802fb",
   "metadata": {},
   "outputs": [
    {
     "data": {
      "text/plain": [
       "dtype('int64')"
      ]
     },
     "execution_count": 52,
     "metadata": {},
     "output_type": "execute_result"
    }
   ],
   "source": [
    "x.dtype"
   ]
  },
  {
   "cell_type": "code",
   "execution_count": 53,
   "id": "d56b369e",
   "metadata": {},
   "outputs": [
    {
     "data": {
      "text/plain": [
       "range(0, 4)"
      ]
     },
     "execution_count": 53,
     "metadata": {},
     "output_type": "execute_result"
    }
   ],
   "source": [
    "range(0,4)"
   ]
  },
  {
   "cell_type": "code",
   "execution_count": 55,
   "id": "c40e4620",
   "metadata": {},
   "outputs": [
    {
     "data": {
      "text/plain": [
       "[0, 1, 2, 3, 4, 5, 6, 7]"
      ]
     },
     "execution_count": 55,
     "metadata": {},
     "output_type": "execute_result"
    }
   ],
   "source": [
    "list(range(0,8))"
   ]
  },
  {
   "cell_type": "code",
   "execution_count": 56,
   "id": "9712fde1",
   "metadata": {},
   "outputs": [
    {
     "ename": "TypeError",
     "evalue": "'float' object cannot be interpreted as an integer",
     "output_type": "error",
     "traceback": [
      "\u001b[0;31m---------------------------------------------------------------------------\u001b[0m",
      "\u001b[0;31mTypeError\u001b[0m                                 Traceback (most recent call last)",
      "\u001b[0;32m/tmp/ipykernel_97581/2481060508.py\u001b[0m in \u001b[0;36m<module>\u001b[0;34m\u001b[0m\n\u001b[0;32m----> 1\u001b[0;31m \u001b[0mlist\u001b[0m\u001b[0;34m(\u001b[0m\u001b[0mrange\u001b[0m\u001b[0;34m(\u001b[0m\u001b[0;36m0\u001b[0m\u001b[0;34m,\u001b[0m\u001b[0;36m8.5\u001b[0m\u001b[0;34m)\u001b[0m\u001b[0;34m)\u001b[0m\u001b[0;34m\u001b[0m\u001b[0;34m\u001b[0m\u001b[0m\n\u001b[0m",
      "\u001b[0;31mTypeError\u001b[0m: 'float' object cannot be interpreted as an integer"
     ]
    }
   ],
   "source": [
    "list(range(0,8.5))"
   ]
  },
  {
   "cell_type": "markdown",
   "id": "c83a11ae",
   "metadata": {},
   "source": [
    "## np.arange()\n",
    "\n",
    "arange([start,] stop[, step,], dtype=None, *, like=None)\n",
    "\n",
    "Return evenly spaced values within a given interval.\n",
    "\n",
    "Values are generated within the half-open interval ``[start, stop)``\n",
    "(in other words, the interval including `start` but excluding `stop`).\n",
    "For integer arguments the function is equivalent to the Python built-in\n",
    "`range` function, but returns an ndarray rather than a list.\n",
    "\n",
    "When using a non-integer step, such as 0.1, the results will often not\n",
    "be consistent.  It is better to use `numpy.linspace` for these cases.\n",
    "\n",
    "Parameters\n",
    "----------\n",
    "start : integer or real, optional\n",
    "    Start of interval.  The interval includes this value.  The default\n",
    "    start value is 0.\n",
    "    \n",
    "stop : integer or real\n",
    "    End of interval.  The interval does not include this value, except\n",
    "    in some cases where `step` is not an integer and floating point\n",
    "    round-off affects the length of `out`.\n",
    "    \n",
    "step : integer or real, optional\n",
    "    Spacing between values.  For any output `out`, this is the distance\n",
    "    between two adjacent values, ``out[i+1] - out[i]``.  The default\n",
    "    step size is 1.  If `step` is specified as a position argument,\n",
    "    `start` must also be given.\n",
    "    \n",
    "dtype : dtype\n",
    "    The type of the output array.  If `dtype` is not given, infer the data\n",
    "    type from the other input arguments.\n",
    "    \n",
    "like : array_like\n",
    "    Reference object to allow the creation of arrays which are not\n",
    "    NumPy arrays. If an array-like passed in as ``like`` supports\n",
    "    the ``__array_function__`` protocol, the result will be defined\n",
    "    by it. In this case, it ensures the creation of an array object\n",
    "    compatible with that passed in via this argument.\n",
    "\n",
    "    .. versionadded:: 1.20.0\n",
    "\n",
    "Returns\n",
    "-------\n",
    "arange : ndarray\n",
    "    Array of evenly spaced values.\n",
    "\n",
    "    For floating point arguments, the length of the result is\n",
    "    ``ceil((stop - start)/step)``.  Because of floating point overflow,\n",
    "    this rule may result in the last element of `out` being greater\n",
    "    than `stop`.\n",
    "\n",
    "See Also\n",
    "--------\n",
    "numpy.linspace : Evenly spaced numbers with careful handling of endpoints.\n",
    "numpy.ogrid: Arrays of evenly spaced numbers in N-dimensions.\n",
    "numpy.mgrid: Grid-shaped arrays of evenly spaced numbers in N-dimensions.\n",
    "\n",
    "Examples\n",
    "--------\n",
    "    >>> np.arange(3)\n",
    "    array([0, 1, 2])\n",
    "    >>> np.arange(3.0)\n",
    "    array([ 0.,  1.,  2.])\n",
    "    >>> np.arange(3,7)\n",
    "    array([3, 4, 5, 6])\n",
    "    >>> np.arange(3,7,2)\n",
    "    array([3, 5])\n",
    "    Type:      builtin_function_or_method"
   ]
  },
  {
   "cell_type": "code",
   "execution_count": 57,
   "id": "98fc4210",
   "metadata": {},
   "outputs": [
    {
     "data": {
      "text/plain": [
       "array([0., 1., 2., 3., 4.])"
      ]
     },
     "execution_count": 57,
     "metadata": {},
     "output_type": "execute_result"
    }
   ],
   "source": [
    "np.arange(0,4.6)"
   ]
  },
  {
   "cell_type": "code",
   "execution_count": 59,
   "id": "c3a80d72",
   "metadata": {},
   "outputs": [
    {
     "data": {
      "text/plain": [
       "array([0. , 0.4, 0.8, 1.2, 1.6, 2. , 2.4, 2.8, 3.2, 3.6, 4. , 4.4])"
      ]
     },
     "execution_count": 59,
     "metadata": {},
     "output_type": "execute_result"
    }
   ],
   "source": [
    "np.arange(0,4.6, 0.4)\n",
    "#we can give jump value in float as well"
   ]
  },
  {
   "cell_type": "code",
   "execution_count": 61,
   "id": "e7346205",
   "metadata": {},
   "outputs": [
    {
     "data": {
      "text/plain": [
       "array([3, 4, 5, 6])"
      ]
     },
     "execution_count": 61,
     "metadata": {},
     "output_type": "execute_result"
    }
   ],
   "source": [
    "np.arange(3,7)"
   ]
  },
  {
   "cell_type": "markdown",
   "id": "4b86e078",
   "metadata": {},
   "source": [
    "## np.linspace()\n",
    "\n",
    "np.linspace(\n",
    "    start,\n",
    "    stop,\n",
    "    num=50,\n",
    "    endpoint=True,\n",
    "    retstep=False,\n",
    "    dtype=None,\n",
    "    axis=0,\n",
    ")\n",
    "Docstring:\n",
    "Return evenly spaced numbers over a specified interval.\n",
    "\n",
    "Returns `num` evenly spaced samples, calculated over the\n",
    "interval [`start`, `stop`].\n",
    "\n",
    "The endpoint of the interval can optionally be excluded.\n",
    "\n",
    ".. versionchanged:: 1.16.0\n",
    "    Non-scalar `start` and `stop` are now supported.\n",
    "\n",
    ".. versionchanged:: 1.20.0\n",
    "    Values are rounded towards ``-inf`` instead of ``0`` when an\n",
    "    integer ``dtype`` is specified. The old behavior can\n",
    "    still be obtained with ``np.linspace(start, stop, num).astype(int)``\n",
    "\n",
    "Parameters\n",
    "----------\n",
    "start : array_like\n",
    "    The starting value of the sequence.\n",
    "    \n",
    "stop : array_like\n",
    "    The end value of the sequence, unless `endpoint` is set to False.\n",
    "    In that case, the sequence consists of all but the last of ``num + 1``\n",
    "    evenly spaced samples, so that `stop` is excluded.  Note that the step\n",
    "    size changes when `endpoint` is False.\n",
    "    \n",
    "num : int, optional\n",
    "    Number of samples to generate. Default is 50. Must be non-negative.\n",
    "    \n",
    "endpoint : bool, optional\n",
    "    If True, `stop` is the last sample. Otherwise, it is not included.\n",
    "    Default is True.\n",
    "    \n",
    "retstep : bool, optional\n",
    "    If True, return (`samples`, `step`), where `step` is the spacing\n",
    "    between samples.\n",
    "    \n",
    "dtype : dtype, optional\n",
    "    The type of the output array.  If `dtype` is not given, the data type\n",
    "    is inferred from `start` and `stop`. The inferred dtype will never be\n",
    "    an integer; `float` is chosen even if the arguments would produce an\n",
    "    array of integers.\n",
    "\n",
    "    .. versionadded:: 1.9.0\n",
    "\n",
    "axis : int, optional\n",
    "    The axis in the result to store the samples.  Relevant only if start\n",
    "    or stop are array-like.  By default (0), the samples will be along a\n",
    "    new axis inserted at the beginning. Use -1 to get an axis at the end.\n",
    "\n",
    "    .. versionadded:: 1.16.0\n",
    "\n",
    "Returns\n",
    "-------\n",
    "samples : ndarray\n",
    "    There are `num` equally spaced samples in the closed interval\n",
    "    ``[start, stop]`` or the half-open interval ``[start, stop)``\n",
    "    (depending on whether `endpoint` is True or False).\n",
    "step : float, optional\n",
    "    Only returned if `retstep` is True\n",
    "\n",
    "    Size of spacing between samples.\n",
    "\n",
    "\n",
    "See Also\n",
    "--------\n",
    "arange : Similar to `linspace`, but uses a step size (instead of the\n",
    "         number of samples).\n",
    "geomspace : Similar to `linspace`, but with numbers spaced evenly on a log\n",
    "            scale (a geometric progression).\n",
    "logspace : Similar to `geomspace`, but with the end points specified as\n",
    "           logarithms.\n",
    "\n",
    "Examples\n",
    "--------\n",
    "    >>> np.linspace(2.0, 3.0, num=5)\n",
    "    array([2.  , 2.25, 2.5 , 2.75, 3.  ])\n",
    "    >>> np.linspace(2.0, 3.0, num=5, endpoint=False)\n",
    "    array([2. ,  2.2,  2.4,  2.6,  2.8])\n",
    "    >>> np.linspace(2.0, 3.0, num=5, retstep=True)\n",
    "    (array([2.  ,  2.25,  2.5 ,  2.75,  3.  ]), 0.25)\n",
    "\n",
    "    Graphical illustration:\n",
    "\n",
    "    >>> import matplotlib.pyplot as plt\n",
    "    >>> N = 8\n",
    "    >>> y = np.zeros(N)\n",
    "    >>> x1 = np.linspace(0, 10, N, endpoint=True)\n",
    "    >>> x2 = np.linspace(0, 10, N, endpoint=False)\n",
    "    >>> plt.plot(x1, y, 'o')\n",
    "    [<matplotlib.lines.Line2D object at 0x...>]\n",
    "    >>> plt.plot(x2, y + 0.5, 'o')\n",
    "    [<matplotlib.lines.Line2D object at 0x...>]\n",
    "    >>> plt.ylim([-0.5, 1])\n",
    "    (-0.5, 1)\n",
    "    >>> plt.show()\n",
    "    File:      ~/anaconda3/lib/python3.8/site-packages/numpy/core/function_base.py\n",
    "    Type:      function"
   ]
  },
  {
   "cell_type": "code",
   "execution_count": 62,
   "id": "e736e7a1",
   "metadata": {},
   "outputs": [
    {
     "data": {
      "text/plain": [
       "array([1.        , 1.08163265, 1.16326531, 1.24489796, 1.32653061,\n",
       "       1.40816327, 1.48979592, 1.57142857, 1.65306122, 1.73469388,\n",
       "       1.81632653, 1.89795918, 1.97959184, 2.06122449, 2.14285714,\n",
       "       2.2244898 , 2.30612245, 2.3877551 , 2.46938776, 2.55102041,\n",
       "       2.63265306, 2.71428571, 2.79591837, 2.87755102, 2.95918367,\n",
       "       3.04081633, 3.12244898, 3.20408163, 3.28571429, 3.36734694,\n",
       "       3.44897959, 3.53061224, 3.6122449 , 3.69387755, 3.7755102 ,\n",
       "       3.85714286, 3.93877551, 4.02040816, 4.10204082, 4.18367347,\n",
       "       4.26530612, 4.34693878, 4.42857143, 4.51020408, 4.59183673,\n",
       "       4.67346939, 4.75510204, 4.83673469, 4.91836735, 5.        ])"
      ]
     },
     "execution_count": 62,
     "metadata": {},
     "output_type": "execute_result"
    }
   ],
   "source": [
    "np.linspace(1,5)"
   ]
  },
  {
   "cell_type": "code",
   "execution_count": 63,
   "id": "3cca0ed4",
   "metadata": {},
   "outputs": [
    {
     "data": {
      "text/plain": [
       "array([2.  , 2.25, 2.5 , 2.75, 3.  ])"
      ]
     },
     "execution_count": 63,
     "metadata": {},
     "output_type": "execute_result"
    }
   ],
   "source": [
    "np.linspace(2.0, 3.0, num=5)"
   ]
  },
  {
   "cell_type": "code",
   "execution_count": 66,
   "id": "91c14a65",
   "metadata": {},
   "outputs": [
    {
     "data": {
      "text/plain": [
       "array([2. , 2.2, 2.4, 2.6, 2.8])"
      ]
     },
     "execution_count": 66,
     "metadata": {},
     "output_type": "execute_result"
    }
   ],
   "source": [
    "np.linspace(2.0, 3.0, num=5, endpoint=False)"
   ]
  },
  {
   "cell_type": "code",
   "execution_count": 67,
   "id": "67c79f8a",
   "metadata": {},
   "outputs": [
    {
     "data": {
      "text/plain": [
       "(array([2.  , 2.25, 2.5 , 2.75, 3.  ]), 0.25)"
      ]
     },
     "execution_count": 67,
     "metadata": {},
     "output_type": "execute_result"
    }
   ],
   "source": [
    "np.linspace(2.0, 3.0, num=5, retstep=True)"
   ]
  },
  {
   "cell_type": "code",
   "execution_count": 68,
   "id": "e32b7f8c",
   "metadata": {},
   "outputs": [
    {
     "data": {
      "text/plain": [
       "array([2.  , 2.25, 2.5 , 2.75, 3.  ])"
      ]
     },
     "execution_count": 68,
     "metadata": {},
     "output_type": "execute_result"
    }
   ],
   "source": [
    "np.linspace(2.0, 3.0, num=5, endpoint=True)"
   ]
  },
  {
   "cell_type": "code",
   "execution_count": 73,
   "id": "76a4757d",
   "metadata": {},
   "outputs": [],
   "source": [
    "x = np.linspace(1,50)"
   ]
  },
  {
   "cell_type": "code",
   "execution_count": 74,
   "id": "417e17f5",
   "metadata": {},
   "outputs": [
    {
     "data": {
      "text/plain": [
       "array([ 1.,  2.,  3.,  4.,  5.,  6.,  7.,  8.,  9., 10., 11., 12., 13.,\n",
       "       14., 15., 16., 17., 18., 19., 20., 21., 22., 23., 24., 25., 26.,\n",
       "       27., 28., 29., 30., 31., 32., 33., 34., 35., 36., 37., 38., 39.,\n",
       "       40., 41., 42., 43., 44., 45., 46., 47., 48., 49., 50.])"
      ]
     },
     "execution_count": 74,
     "metadata": {},
     "output_type": "execute_result"
    }
   ],
   "source": [
    "x"
   ]
  },
  {
   "cell_type": "code",
   "execution_count": 84,
   "id": "34918523",
   "metadata": {},
   "outputs": [],
   "source": [
    "y = np.linspace(10,50,5)\n",
    "#start from 10 end at 50, create only 5 element"
   ]
  },
  {
   "cell_type": "code",
   "execution_count": 85,
   "id": "f8a5ebce",
   "metadata": {},
   "outputs": [
    {
     "data": {
      "text/plain": [
       "array([10., 20., 30., 40., 50.])"
      ]
     },
     "execution_count": 85,
     "metadata": {},
     "output_type": "execute_result"
    }
   ],
   "source": [
    "y"
   ]
  },
  {
   "cell_type": "code",
   "execution_count": 90,
   "id": "25b58833",
   "metadata": {},
   "outputs": [],
   "source": [
    "z = np.linspace(1,100,10000)"
   ]
  },
  {
   "cell_type": "code",
   "execution_count": 91,
   "id": "ab31dc49",
   "metadata": {},
   "outputs": [
    {
     "data": {
      "text/plain": [
       "array([  1.        ,   1.00990099,   1.01980198, ...,  99.98019802,\n",
       "        99.99009901, 100.        ])"
      ]
     },
     "execution_count": 91,
     "metadata": {},
     "output_type": "execute_result"
    }
   ],
   "source": [
    "z"
   ]
  },
  {
   "cell_type": "code",
   "execution_count": 92,
   "id": "deeb2107",
   "metadata": {},
   "outputs": [
    {
     "data": {
      "text/plain": [
       "10000"
      ]
     },
     "execution_count": 92,
     "metadata": {},
     "output_type": "execute_result"
    }
   ],
   "source": [
    "z.size"
   ]
  },
  {
   "cell_type": "code",
   "execution_count": 93,
   "id": "6a800525",
   "metadata": {},
   "outputs": [
    {
     "data": {
      "text/plain": [
       "(10000,)"
      ]
     },
     "execution_count": 93,
     "metadata": {},
     "output_type": "execute_result"
    }
   ],
   "source": [
    "z.shape"
   ]
  },
  {
   "cell_type": "code",
   "execution_count": 94,
   "id": "57dc4b12",
   "metadata": {},
   "outputs": [
    {
     "data": {
      "text/plain": [
       "array([0., 0., 0., 0., 0.])"
      ]
     },
     "execution_count": 94,
     "metadata": {},
     "output_type": "execute_result"
    }
   ],
   "source": [
    "np.zeros(5)"
   ]
  },
  {
   "cell_type": "code",
   "execution_count": 97,
   "id": "df040b8b",
   "metadata": {},
   "outputs": [
    {
     "data": {
      "text/plain": [
       "array([[0., 0., 0., 0., 0.],\n",
       "       [0., 0., 0., 0., 0.]])"
      ]
     },
     "execution_count": 97,
     "metadata": {},
     "output_type": "execute_result"
    }
   ],
   "source": [
    "np.zeros((2,5))"
   ]
  },
  {
   "cell_type": "code",
   "execution_count": 100,
   "id": "ba703fb9",
   "metadata": {},
   "outputs": [
    {
     "data": {
      "text/plain": [
       "array([[[0., 0.],\n",
       "        [0., 0.],\n",
       "        [0., 0.]],\n",
       "\n",
       "       [[0., 0.],\n",
       "        [0., 0.],\n",
       "        [0., 0.]]])"
      ]
     },
     "execution_count": 100,
     "metadata": {},
     "output_type": "execute_result"
    }
   ],
   "source": [
    "np.zeros((2,3,2))"
   ]
  },
  {
   "cell_type": "code",
   "execution_count": 101,
   "id": "efad7896",
   "metadata": {},
   "outputs": [
    {
     "data": {
      "text/plain": [
       "array([1., 1., 1., 1., 1.])"
      ]
     },
     "execution_count": 101,
     "metadata": {},
     "output_type": "execute_result"
    }
   ],
   "source": [
    "np.ones(5)"
   ]
  },
  {
   "cell_type": "code",
   "execution_count": 102,
   "id": "94c718fc",
   "metadata": {},
   "outputs": [
    {
     "data": {
      "text/plain": [
       "array([[1., 1.],\n",
       "       [1., 1.]])"
      ]
     },
     "execution_count": 102,
     "metadata": {},
     "output_type": "execute_result"
    }
   ],
   "source": [
    "np.ones((2,2))"
   ]
  },
  {
   "cell_type": "code",
   "execution_count": 103,
   "id": "9bc34506",
   "metadata": {},
   "outputs": [
    {
     "data": {
      "text/plain": [
       "array([[[1., 1., 1.],\n",
       "        [1., 1., 1.],\n",
       "        [1., 1., 1.]],\n",
       "\n",
       "       [[1., 1., 1.],\n",
       "        [1., 1., 1.],\n",
       "        [1., 1., 1.]],\n",
       "\n",
       "       [[1., 1., 1.],\n",
       "        [1., 1., 1.],\n",
       "        [1., 1., 1.]]])"
      ]
     },
     "execution_count": 103,
     "metadata": {},
     "output_type": "execute_result"
    }
   ],
   "source": [
    "np.ones((3,3,3))"
   ]
  },
  {
   "cell_type": "code",
   "execution_count": 104,
   "id": "6576cf10",
   "metadata": {},
   "outputs": [
    {
     "data": {
      "text/plain": [
       "array([[2., 2., 2., 2., 2.],\n",
       "       [2., 2., 2., 2., 2.]])"
      ]
     },
     "execution_count": 104,
     "metadata": {},
     "output_type": "execute_result"
    }
   ],
   "source": [
    "np.ones((2,5)) + 1"
   ]
  },
  {
   "cell_type": "code",
   "execution_count": 105,
   "id": "f3617705",
   "metadata": {},
   "outputs": [],
   "source": [
    " x =np.ones((2,5))"
   ]
  },
  {
   "cell_type": "code",
   "execution_count": 106,
   "id": "7da8a42a",
   "metadata": {},
   "outputs": [
    {
     "data": {
      "text/plain": [
       "array([[2., 2., 2., 2., 2.],\n",
       "       [2., 2., 2., 2., 2.]])"
      ]
     },
     "execution_count": 106,
     "metadata": {},
     "output_type": "execute_result"
    }
   ],
   "source": [
    "x+1"
   ]
  },
  {
   "cell_type": "code",
   "execution_count": 109,
   "id": "af48ac2a",
   "metadata": {},
   "outputs": [
    {
     "data": {
      "text/plain": [
       "array([[100., 100., 100., 100., 100.],\n",
       "       [100., 100., 100., 100., 100.]])"
      ]
     },
     "execution_count": 109,
     "metadata": {},
     "output_type": "execute_result"
    }
   ],
   "source": [
    "x*100"
   ]
  },
  {
   "cell_type": "code",
   "execution_count": 110,
   "id": "98d5fe7f",
   "metadata": {},
   "outputs": [
    {
     "data": {
      "text/plain": [
       "array([[1., 1., 1., 1., 1.],\n",
       "       [1., 1., 1., 1., 1.]])"
      ]
     },
     "execution_count": 110,
     "metadata": {},
     "output_type": "execute_result"
    }
   ],
   "source": [
    "x /1"
   ]
  },
  {
   "cell_type": "code",
   "execution_count": 114,
   "id": "d9bc1fcd",
   "metadata": {},
   "outputs": [
    {
     "data": {
      "text/plain": [
       "array([[  1.        ,   1.00990099],\n",
       "       [  1.01980198,  99.98019802],\n",
       "       [ 99.99009901, 100.        ]])"
      ]
     },
     "execution_count": 114,
     "metadata": {},
     "output_type": "execute_result"
    }
   ],
   "source": [
    "np.empty((3,2))"
   ]
  },
  {
   "cell_type": "code",
   "execution_count": 115,
   "id": "9cada32e",
   "metadata": {},
   "outputs": [
    {
     "data": {
      "text/plain": [
       "array([[1., 0., 0., 0., 0.],\n",
       "       [0., 1., 0., 0., 0.],\n",
       "       [0., 0., 1., 0., 0.],\n",
       "       [0., 0., 0., 1., 0.],\n",
       "       [0., 0., 0., 0., 1.]])"
      ]
     },
     "execution_count": 115,
     "metadata": {},
     "output_type": "execute_result"
    }
   ],
   "source": [
    "np.eye(5)"
   ]
  },
  {
   "cell_type": "code",
   "execution_count": 120,
   "id": "122e4eba",
   "metadata": {},
   "outputs": [
    {
     "data": {
      "text/plain": [
       "array([[1., 0., 0.],\n",
       "       [0., 1., 0.],\n",
       "       [0., 0., 1.]])"
      ]
     },
     "execution_count": 120,
     "metadata": {},
     "output_type": "execute_result"
    }
   ],
   "source": [
    "np.eye(3)"
   ]
  },
  {
   "cell_type": "markdown",
   "id": "a5279001",
   "metadata": {},
   "source": [
    "## np.random.rand()\n",
    "\n",
    "rand(d0, d1, ..., dn)\n",
    "\n",
    "Random values in a given shape.\n",
    "\n",
    ".. note::\n",
    "    This is a convenience function for users porting code from Matlab,\n",
    "    and wraps `random_sample`. That function takes a\n",
    "    tuple to specify the size of the output, which is consistent with\n",
    "    other NumPy functions like `numpy.zeros` and `numpy.ones`.\n",
    "\n",
    "Create an array of the given shape and populate it with\n",
    "random samples from a uniform distribution\n",
    "over ``[0, 1)``.\n",
    "\n",
    "Parameters\n",
    "----------\n",
    "d0, d1, ..., dn : int, optional\n",
    "    The dimensions of the returned array, must be non-negative.\n",
    "    If no argument is given a single Python float is returned.\n",
    "\n",
    "Returns\n",
    "-------\n",
    "out : ndarray, shape ``(d0, d1, ..., dn)``\n",
    "    Random values.\n",
    "\n",
    "See Also\n",
    "--------\n",
    "random\n",
    "\n",
    "Examples\n",
    "--------\n",
    "    >>> np.random.rand(3,2)\n",
    "    array([[ 0.14022471,  0.96360618],  #random\n",
    "           [ 0.37601032,  0.25528411],  #random\n",
    "           [ 0.49313049,  0.94909878]]) #random\n",
    "    Type:      builtin_function_or_method\n"
   ]
  },
  {
   "cell_type": "code",
   "execution_count": 124,
   "id": "2a01b8db",
   "metadata": {},
   "outputs": [
    {
     "data": {
      "text/plain": [
       "array([[[0.24244584, 0.09374414, 0.48088307, 0.29340797, 0.80476834],\n",
       "        [0.87918141, 0.452163  , 0.8108207 , 0.50271043, 0.23604851],\n",
       "        [0.60001967, 0.26491392, 0.13946828, 0.41481894, 0.69703118],\n",
       "        [0.89530419, 0.87863119, 0.94039062, 0.47107902, 0.06029309],\n",
       "        [0.94188509, 0.91485711, 0.30588514, 0.45996766, 0.82557434]],\n",
       "\n",
       "       [[0.29760496, 0.63944441, 0.81142868, 0.90702296, 0.81104186],\n",
       "        [0.53277786, 0.31103406, 0.41375256, 0.06511225, 0.78406996],\n",
       "        [0.59256746, 0.21664861, 0.69687917, 0.45243833, 0.38861658],\n",
       "        [0.8014348 , 0.35442197, 0.12041688, 0.07123611, 0.44728645],\n",
       "        [0.61955634, 0.19355437, 0.83545416, 0.27270701, 0.33748911]],\n",
       "\n",
       "       [[0.81199278, 0.47777594, 0.44979953, 0.4765141 , 0.24645179],\n",
       "        [0.75505971, 0.00902049, 0.58875617, 0.00676518, 0.47033521],\n",
       "        [0.29644931, 0.55385084, 0.14239454, 0.45047291, 0.56032067],\n",
       "        [0.66452208, 0.58405048, 0.76734047, 0.77006426, 0.29608538],\n",
       "        [0.50706521, 0.6943609 , 0.09596964, 0.49255638, 0.14957868]]])"
      ]
     },
     "execution_count": 124,
     "metadata": {},
     "output_type": "execute_result"
    }
   ],
   "source": [
    "np.random.rand(3,5,5)"
   ]
  },
  {
   "cell_type": "code",
   "execution_count": 126,
   "id": "7f262eb4",
   "metadata": {},
   "outputs": [],
   "source": [
    "x = np.random.rand(100000,5)"
   ]
  },
  {
   "cell_type": "code",
   "execution_count": 127,
   "id": "22a84a28",
   "metadata": {},
   "outputs": [
    {
     "data": {
      "text/plain": [
       "array([[0.1579328 , 0.49880144, 0.57156797, 0.84375081, 0.952551  ],\n",
       "       [0.04398327, 0.7906118 , 0.50551286, 0.98848662, 0.66301641],\n",
       "       [0.18526792, 0.5742721 , 0.70834738, 0.73601565, 0.51653557],\n",
       "       ...,\n",
       "       [0.50271853, 0.02396553, 0.84498501, 0.57770675, 0.81974595],\n",
       "       [0.24064881, 0.75127834, 0.13153516, 0.44076842, 0.23233018],\n",
       "       [0.43594484, 0.13498435, 0.94874986, 0.33337671, 0.85573138]])"
      ]
     },
     "execution_count": 127,
     "metadata": {},
     "output_type": "execute_result"
    }
   ],
   "source": [
    "x"
   ]
  },
  {
   "cell_type": "code",
   "execution_count": 128,
   "id": "1a671fbc",
   "metadata": {},
   "outputs": [
    {
     "data": {
      "text/plain": [
       "500000"
      ]
     },
     "execution_count": 128,
     "metadata": {},
     "output_type": "execute_result"
    }
   ],
   "source": [
    "x.size"
   ]
  },
  {
   "cell_type": "code",
   "execution_count": 129,
   "id": "683b9452",
   "metadata": {},
   "outputs": [
    {
     "data": {
      "text/plain": [
       "(100000, 5)"
      ]
     },
     "execution_count": 129,
     "metadata": {},
     "output_type": "execute_result"
    }
   ],
   "source": [
    "x.shape"
   ]
  },
  {
   "cell_type": "code",
   "execution_count": 131,
   "id": "010a5da9",
   "metadata": {},
   "outputs": [
    {
     "data": {
      "text/plain": [
       "2"
      ]
     },
     "execution_count": 131,
     "metadata": {},
     "output_type": "execute_result"
    }
   ],
   "source": [
    "x.ndim"
   ]
  },
  {
   "cell_type": "markdown",
   "id": "207d57d1",
   "metadata": {},
   "source": [
    "## np.random.randn()\n",
    "\n",
    "randn(d0, d1, ..., dn)\n",
    "\n",
    "Return a sample (or samples) from the \"standard normal\" distribution.\n",
    "\n",
    ".. note::\n",
    "    This is a convenience function for users porting code from Matlab,\n",
    "    and wraps `standard_normal`. That function takes a\n",
    "    tuple to specify the size of the output, which is consistent with\n",
    "    other NumPy functions like `numpy.zeros` and `numpy.ones`.\n",
    "\n",
    ".. note::\n",
    "    New code should use the ``standard_normal`` method of a ``default_rng()``\n",
    "    instance instead; please see the :ref:`random-quick-start`.\n",
    "\n",
    "If positive int_like arguments are provided, `randn` generates an array\n",
    "of shape ``(d0, d1, ..., dn)``, filled\n",
    "with random floats sampled from a univariate \"normal\" (Gaussian)\n",
    "distribution of mean 0 and variance 1. A single float randomly sampled\n",
    "from the distribution is returned if no argument is provided.\n",
    "\n",
    "Parameters\n",
    "----------\n",
    "d0, d1, ..., dn : int, optional\n",
    "    The dimensions of the returned array, must be non-negative.\n",
    "    If no argument is given a single Python float is returned.\n",
    "\n",
    "Returns\n",
    "-------\n",
    "Z : ndarray or float\n",
    "    A ``(d0, d1, ..., dn)``-shaped array of floating-point samples from\n",
    "    the standard normal distribution, or a single such float if\n",
    "    no parameters were supplied.\n",
    "\n",
    "See Also\n",
    "--------\n",
    "standard_normal : Similar, but takes a tuple as its argument.\n",
    "normal : Also accepts mu and sigma arguments.\n",
    "Generator.standard_normal: which should be used for new code.\n",
    "\n",
    "Notes\n",
    "-----\n",
    "For random samples from :math:`N(\\mu, \\sigma^2)`, use:\n",
    "\n",
    "``sigma * np.random.randn(...) + mu``\n",
    "\n",
    "Examples\n",
    "--------\n",
    "    >>> np.random.randn()\n",
    "    2.1923875335537315  # random\n",
    "\n",
    "    Two-by-four array of samples from N(3, 6.25):\n",
    "\n",
    "    >>> 3 + 2.5 * np.random.randn(2, 4)\n",
    "    array([[-4.49401501,  4.00950034, -1.81814867,  7.29718677],   # random\n",
    "           [ 0.39924804,  4.68456316,  4.99394529,  4.84057254]])  # random\n",
    "    Type:      builtin_function_or_method"
   ]
  },
  {
   "cell_type": "code",
   "execution_count": 133,
   "id": "987a9097",
   "metadata": {},
   "outputs": [
    {
     "data": {
      "text/plain": [
       "array([[-1.13045989,  2.35575734,  0.97346056, -1.74256415, -0.3210678 ],\n",
       "       [ 1.12249921,  1.874435  ,  0.2513909 , -1.11965752, -1.48781604],\n",
       "       [-1.85242889,  0.79961365, -1.22288287,  0.82606861, -1.26485283],\n",
       "       [-0.69216025,  0.26954885,  0.55054117, -0.27352894,  0.72710204]])"
      ]
     },
     "execution_count": 133,
     "metadata": {},
     "output_type": "execute_result"
    }
   ],
   "source": [
    "np.random.randn(4,5)\n",
    "\n",
    "#Return a sample (or samples) from the \"standard normal\" distribution.\n",
    "#mean = 0, standard deviation = 1"
   ]
  },
  {
   "cell_type": "markdown",
   "id": "9a7716a5",
   "metadata": {},
   "source": [
    "## np.random.randint()\n",
    "\n",
    "randint(low, high=None, size=None, dtype=int)\n",
    "\n",
    "Return random integers from `low` (inclusive) to `high` (exclusive).\n",
    "\n",
    "Return random integers from the \"discrete uniform\" distribution of\n",
    "the specified dtype in the \"half-open\" interval [`low`, `high`). If\n",
    "`high` is None (the default), then results are from [0, `low`).\n",
    "\n",
    ".. note::\n",
    "    New code should use the ``integers`` method of a ``default_rng()``\n",
    "    instance instead; please see the :ref:`random-quick-start`.\n",
    "\n",
    "Parameters\n",
    "----------\n",
    "low : int or array-like of ints\n",
    "    Lowest (signed) integers to be drawn from the distribution (unless\n",
    "    ``high=None``, in which case this parameter is one above the\n",
    "    *highest* such integer).\n",
    "high : int or array-like of ints, optional\n",
    "    If provided, one above the largest (signed) integer to be drawn\n",
    "    from the distribution (see above for behavior if ``high=None``).\n",
    "    If array-like, must contain integer values\n",
    "size : int or tuple of ints, optional\n",
    "    Output shape.  If the given shape is, e.g., ``(m, n, k)``, then\n",
    "    ``m * n * k`` samples are drawn.  Default is None, in which case a\n",
    "    single value is returned.\n",
    "dtype : dtype, optional\n",
    "    Desired dtype of the result. Byteorder must be native.\n",
    "    The default value is int.\n",
    "\n",
    "    .. versionadded:: 1.11.0\n",
    "\n",
    "Returns\n",
    "-------\n",
    "out : int or ndarray of ints\n",
    "    `size`-shaped array of random integers from the appropriate\n",
    "    distribution, or a single such random int if `size` not provided.\n",
    "\n",
    "See Also\n",
    "--------\n",
    "random_integers : similar to `randint`, only for the closed\n",
    "    interval [`low`, `high`], and 1 is the lowest value if `high` is\n",
    "    omitted.\n",
    "Generator.integers: which should be used for new code.\n",
    "\n",
    "Examples\n",
    "--------\n",
    "    >>> np.random.randint(2, size=10)\n",
    "    array([1, 0, 0, 0, 1, 1, 0, 0, 1, 0]) # random\n",
    "    >>> np.random.randint(1, size=10)\n",
    "    array([0, 0, 0, 0, 0, 0, 0, 0, 0, 0])\n",
    "\n",
    "Generate a 2 x 4 array of ints between 0 and 4, inclusive:\n",
    "\n",
    "    >>> np.random.randint(5, size=(2, 4))\n",
    "    array([[4, 0, 2, 1], # random\n",
    "           [3, 2, 2, 0]])\n",
    "\n",
    "Generate a 1 x 3 array with 3 different upper bounds\n",
    "\n",
    "    >>> np.random.randint(1, [3, 5, 10])\n",
    "    array([2, 2, 9]) # random\n",
    "\n",
    "Generate a 1 by 3 array with 3 different lower bounds\n",
    "\n",
    "    >>> np.random.randint([1, 5, 7], 10)\n",
    "    array([9, 8, 7]) # random\n",
    "\n",
    "Generate a 2 by 4 array using broadcasting with dtype of uint8\n",
    "\n",
    "    >>> np.random.randint([1, 3, 5, 7], [[10], [20]], dtype=np.uint8)\n",
    "    array([[ 8,  6,  9,  7], # random\n",
    "           [ 1, 16,  9, 12]], dtype=uint8)\n",
    "    Type:      builtin_function_or_method"
   ]
  },
  {
   "cell_type": "code",
   "execution_count": 134,
   "id": "d001938f",
   "metadata": {},
   "outputs": [
    {
     "data": {
      "text/plain": [
       "3"
      ]
     },
     "execution_count": 134,
     "metadata": {},
     "output_type": "execute_result"
    }
   ],
   "source": [
    "np.random.randint(3,4)"
   ]
  },
  {
   "cell_type": "code",
   "execution_count": 135,
   "id": "467c6de4",
   "metadata": {},
   "outputs": [
    {
     "data": {
      "text/plain": [
       "array([ 5, 34, 16, 34, 16, 34, 39,  9,  7, 27,  8, 23,  8, 35, 22,  3, 39,\n",
       "        3, 32, 19, 10, 27, 26, 15, 18, 36, 32, 27, 23, 12, 18, 19,  3, 33,\n",
       "       32, 26,  9,  9, 38, 35, 32,  8, 36, 30,  9, 13, 18, 17, 10,  4, 27,\n",
       "       27, 12, 37,  9, 38, 26, 22, 17, 15])"
      ]
     },
     "execution_count": 135,
     "metadata": {},
     "output_type": "execute_result"
    }
   ],
   "source": [
    "np.random.randint(3,40, size = 60)"
   ]
  },
  {
   "cell_type": "code",
   "execution_count": 140,
   "id": "0f3f416c",
   "metadata": {},
   "outputs": [
    {
     "data": {
      "text/plain": [
       "array([[7, 5, 6],\n",
       "       [4, 7, 4],\n",
       "       [6, 4, 5],\n",
       "       [5, 3, 3],\n",
       "       [4, 7, 6]])"
      ]
     },
     "execution_count": 140,
     "metadata": {},
     "output_type": "execute_result"
    }
   ],
   "source": [
    "np.random.randint(3,8,(5,3))\n",
    "#start from 3 end at 5, shape = 5,3"
   ]
  },
  {
   "cell_type": "code",
   "execution_count": 141,
   "id": "2861615d",
   "metadata": {},
   "outputs": [],
   "source": [
    "x = np.random.randint(3,8,(5,3))"
   ]
  },
  {
   "cell_type": "code",
   "execution_count": 142,
   "id": "804dd65c",
   "metadata": {},
   "outputs": [
    {
     "data": {
      "text/plain": [
       "array([[4, 4, 5],\n",
       "       [6, 6, 5],\n",
       "       [4, 4, 6],\n",
       "       [5, 4, 3],\n",
       "       [3, 5, 6]])"
      ]
     },
     "execution_count": 142,
     "metadata": {},
     "output_type": "execute_result"
    }
   ],
   "source": [
    "x"
   ]
  },
  {
   "cell_type": "code",
   "execution_count": 143,
   "id": "aa315f36",
   "metadata": {},
   "outputs": [
    {
     "data": {
      "text/plain": [
       "(5, 3)"
      ]
     },
     "execution_count": 143,
     "metadata": {},
     "output_type": "execute_result"
    }
   ],
   "source": [
    "x.shape"
   ]
  },
  {
   "cell_type": "code",
   "execution_count": 144,
   "id": "f2ea8da6",
   "metadata": {},
   "outputs": [
    {
     "data": {
      "text/plain": [
       "15"
      ]
     },
     "execution_count": 144,
     "metadata": {},
     "output_type": "execute_result"
    }
   ],
   "source": [
    "x.size"
   ]
  },
  {
   "cell_type": "code",
   "execution_count": 145,
   "id": "d0ed8f20",
   "metadata": {},
   "outputs": [
    {
     "data": {
      "text/plain": [
       "array([[[4, 4, 5],\n",
       "        [6, 6, 5],\n",
       "        [4, 4, 6],\n",
       "        [5, 4, 3],\n",
       "        [3, 5, 6]]])"
      ]
     },
     "execution_count": 145,
     "metadata": {},
     "output_type": "execute_result"
    }
   ],
   "source": [
    "x.reshape(1,5,3)"
   ]
  },
  {
   "cell_type": "code",
   "execution_count": 146,
   "id": "e53d79f4",
   "metadata": {},
   "outputs": [
    {
     "data": {
      "text/plain": [
       "array([[[4, 4, 5, 6, 6],\n",
       "        [5, 4, 4, 6, 5],\n",
       "        [4, 3, 3, 5, 6]]])"
      ]
     },
     "execution_count": 146,
     "metadata": {},
     "output_type": "execute_result"
    }
   ],
   "source": [
    "x.reshape(1,3,5)"
   ]
  },
  {
   "cell_type": "code",
   "execution_count": 150,
   "id": "9a87f2d7",
   "metadata": {},
   "outputs": [
    {
     "data": {
      "text/plain": [
       "array([[4, 4, 5, 6, 6],\n",
       "       [5, 4, 4, 6, 5],\n",
       "       [4, 3, 3, 5, 6]])"
      ]
     },
     "execution_count": 150,
     "metadata": {},
     "output_type": "execute_result"
    }
   ],
   "source": [
    "x.reshape(3,5)"
   ]
  },
  {
   "cell_type": "code",
   "execution_count": 147,
   "id": "5b2a9053",
   "metadata": {
    "scrolled": true
   },
   "outputs": [
    {
     "ename": "ValueError",
     "evalue": "cannot reshape array of size 15 into shape (5,4)",
     "output_type": "error",
     "traceback": [
      "\u001b[0;31m---------------------------------------------------------------------------\u001b[0m",
      "\u001b[0;31mValueError\u001b[0m                                Traceback (most recent call last)",
      "\u001b[0;32m/tmp/ipykernel_97581/3376397216.py\u001b[0m in \u001b[0;36m<module>\u001b[0;34m\u001b[0m\n\u001b[0;32m----> 1\u001b[0;31m \u001b[0mx\u001b[0m\u001b[0;34m.\u001b[0m\u001b[0mreshape\u001b[0m\u001b[0;34m(\u001b[0m\u001b[0;36m5\u001b[0m\u001b[0;34m,\u001b[0m\u001b[0;36m4\u001b[0m\u001b[0;34m)\u001b[0m\u001b[0;34m\u001b[0m\u001b[0;34m\u001b[0m\u001b[0m\n\u001b[0m",
      "\u001b[0;31mValueError\u001b[0m: cannot reshape array of size 15 into shape (5,4)"
     ]
    }
   ],
   "source": [
    "x.reshape(5,4)\n",
    "#we can only reshape array of size  which should not extends size of the original array -->15"
   ]
  },
  {
   "cell_type": "code",
   "execution_count": 151,
   "id": "5a508b8c",
   "metadata": {},
   "outputs": [
    {
     "data": {
      "text/plain": [
       "6"
      ]
     },
     "execution_count": 151,
     "metadata": {},
     "output_type": "execute_result"
    }
   ],
   "source": [
    "x.max()"
   ]
  },
  {
   "cell_type": "code",
   "execution_count": 182,
   "id": "7ab2cb40",
   "metadata": {},
   "outputs": [],
   "source": [
    "x = np.random.randint(2,15,(5,5))"
   ]
  },
  {
   "cell_type": "code",
   "execution_count": 155,
   "id": "101ef8b7",
   "metadata": {},
   "outputs": [
    {
     "data": {
      "text/plain": [
       "array([[11,  8, 14,  3, 14],\n",
       "       [ 5,  6, 14,  5, 12],\n",
       "       [12, 12,  2,  6,  3],\n",
       "       [ 8,  9,  8,  3,  5],\n",
       "       [12, 10,  7, 10,  7]])"
      ]
     },
     "execution_count": 155,
     "metadata": {},
     "output_type": "execute_result"
    }
   ],
   "source": [
    "x"
   ]
  },
  {
   "cell_type": "code",
   "execution_count": 156,
   "id": "49bb4c30",
   "metadata": {},
   "outputs": [
    {
     "data": {
      "text/plain": [
       "8"
      ]
     },
     "execution_count": 156,
     "metadata": {},
     "output_type": "execute_result"
    }
   ],
   "source": [
    "x[0,1]"
   ]
  },
  {
   "cell_type": "code",
   "execution_count": 157,
   "id": "4c167ede",
   "metadata": {},
   "outputs": [],
   "source": [
    "x[0,1] = 100"
   ]
  },
  {
   "cell_type": "code",
   "execution_count": 158,
   "id": "10433802",
   "metadata": {},
   "outputs": [
    {
     "data": {
      "text/plain": [
       "array([[ 11, 100,  14,   3,  14],\n",
       "       [  5,   6,  14,   5,  12],\n",
       "       [ 12,  12,   2,   6,   3],\n",
       "       [  8,   9,   8,   3,   5],\n",
       "       [ 12,  10,   7,  10,   7]])"
      ]
     },
     "execution_count": 158,
     "metadata": {},
     "output_type": "execute_result"
    }
   ],
   "source": [
    "x"
   ]
  },
  {
   "cell_type": "code",
   "execution_count": 167,
   "id": "0c7e739f",
   "metadata": {},
   "outputs": [],
   "source": [
    "mat = np.random.randint(1,4,(3,3))"
   ]
  },
  {
   "cell_type": "code",
   "execution_count": 168,
   "id": "2285828c",
   "metadata": {},
   "outputs": [
    {
     "data": {
      "text/plain": [
       "array([[1, 3, 1],\n",
       "       [3, 3, 3],\n",
       "       [2, 1, 1]])"
      ]
     },
     "execution_count": 168,
     "metadata": {},
     "output_type": "execute_result"
    }
   ],
   "source": [
    "mat"
   ]
  },
  {
   "cell_type": "code",
   "execution_count": 169,
   "id": "4f2053aa",
   "metadata": {},
   "outputs": [],
   "source": [
    "mat1 = np.random.randint(1,4,(3,3))"
   ]
  },
  {
   "cell_type": "code",
   "execution_count": 170,
   "id": "8c797eee",
   "metadata": {},
   "outputs": [
    {
     "data": {
      "text/plain": [
       "array([[1, 2, 3],\n",
       "       [3, 3, 1],\n",
       "       [3, 2, 1]])"
      ]
     },
     "execution_count": 170,
     "metadata": {},
     "output_type": "execute_result"
    }
   ],
   "source": [
    "mat1"
   ]
  },
  {
   "cell_type": "code",
   "execution_count": 171,
   "id": "2469a790",
   "metadata": {},
   "outputs": [
    {
     "data": {
      "text/plain": [
       "array([[1, 6, 3],\n",
       "       [9, 9, 3],\n",
       "       [6, 2, 1]])"
      ]
     },
     "execution_count": 171,
     "metadata": {},
     "output_type": "execute_result"
    }
   ],
   "source": [
    "mat*mat1\n",
    "#element wise multiplication\n"
   ]
  },
  {
   "cell_type": "code",
   "execution_count": 172,
   "id": "885a886c",
   "metadata": {},
   "outputs": [
    {
     "data": {
      "text/plain": [
       "array([[13, 13,  7],\n",
       "       [21, 21, 15],\n",
       "       [ 8,  9,  8]])"
      ]
     },
     "execution_count": 172,
     "metadata": {},
     "output_type": "execute_result"
    }
   ],
   "source": [
    "# to get matrix multiplication we need to use \"@\"\n",
    "\n",
    "mat @ mat1"
   ]
  },
  {
   "cell_type": "code",
   "execution_count": 173,
   "id": "23783e57",
   "metadata": {},
   "outputs": [
    {
     "ename": "ZeroDivisionError",
     "evalue": "division by zero",
     "output_type": "error",
     "traceback": [
      "\u001b[0;31m---------------------------------------------------------------------------\u001b[0m",
      "\u001b[0;31mZeroDivisionError\u001b[0m                         Traceback (most recent call last)",
      "\u001b[0;32m/tmp/ipykernel_97581/2354412189.py\u001b[0m in \u001b[0;36m<module>\u001b[0;34m\u001b[0m\n\u001b[0;32m----> 1\u001b[0;31m \u001b[0;36m1\u001b[0m\u001b[0;34m/\u001b[0m\u001b[0;36m0\u001b[0m\u001b[0;34m\u001b[0m\u001b[0;34m\u001b[0m\u001b[0m\n\u001b[0m",
      "\u001b[0;31mZeroDivisionError\u001b[0m: division by zero"
     ]
    }
   ],
   "source": [
    "1/0"
   ]
  },
  {
   "cell_type": "code",
   "execution_count": 183,
   "id": "0a6e8a27",
   "metadata": {},
   "outputs": [],
   "source": [
    "x = np.random.randint(2,15,(5,3))"
   ]
  },
  {
   "cell_type": "code",
   "execution_count": 184,
   "id": "f9520d0f",
   "metadata": {},
   "outputs": [
    {
     "name": "stderr",
     "output_type": "stream",
     "text": [
      "/tmp/ipykernel_97581/873822677.py:1: RuntimeWarning: divide by zero encountered in true_divide\n",
      "  x/0\n"
     ]
    },
    {
     "data": {
      "text/plain": [
       "array([[inf, inf, inf],\n",
       "       [inf, inf, inf],\n",
       "       [inf, inf, inf],\n",
       "       [inf, inf, inf],\n",
       "       [inf, inf, inf]])"
      ]
     },
     "execution_count": 184,
     "metadata": {},
     "output_type": "execute_result"
    }
   ],
   "source": [
    "x/0\n",
    "#inf --> infinity"
   ]
  },
  {
   "cell_type": "code",
   "execution_count": 185,
   "id": "a16dcdfa",
   "metadata": {},
   "outputs": [
    {
     "data": {
      "text/plain": [
       "array([[ 7,  9, 14,  5,  8],\n",
       "       [ 4, 10,  6,  5,  5],\n",
       "       [13, 13,  7,  8,  4]])"
      ]
     },
     "execution_count": 185,
     "metadata": {},
     "output_type": "execute_result"
    }
   ],
   "source": [
    "x.T"
   ]
  },
  {
   "cell_type": "code",
   "execution_count": 186,
   "id": "599d4407",
   "metadata": {},
   "outputs": [
    {
     "data": {
      "text/plain": [
       "array([[ 7,  4, 13],\n",
       "       [ 9, 10, 13],\n",
       "       [14,  6,  7],\n",
       "       [ 5,  5,  8],\n",
       "       [ 8,  5,  4]])"
      ]
     },
     "execution_count": 186,
     "metadata": {},
     "output_type": "execute_result"
    }
   ],
   "source": [
    "x"
   ]
  },
  {
   "cell_type": "code",
   "execution_count": 187,
   "id": "fb0cb766",
   "metadata": {},
   "outputs": [
    {
     "data": {
      "text/plain": [
       "array([[ 49,  16, 169],\n",
       "       [ 81, 100, 169],\n",
       "       [196,  36,  49],\n",
       "       [ 25,  25,  64],\n",
       "       [ 64,  25,  16]])"
      ]
     },
     "execution_count": 187,
     "metadata": {},
     "output_type": "execute_result"
    }
   ],
   "source": [
    "x ** 2"
   ]
  },
  {
   "cell_type": "code",
   "execution_count": 188,
   "id": "60dd78b7",
   "metadata": {},
   "outputs": [
    {
     "data": {
      "text/plain": [
       "array([[1.09663316e+03, 5.45981500e+01, 4.42413392e+05],\n",
       "       [8.10308393e+03, 2.20264658e+04, 4.42413392e+05],\n",
       "       [1.20260428e+06, 4.03428793e+02, 1.09663316e+03],\n",
       "       [1.48413159e+02, 1.48413159e+02, 2.98095799e+03],\n",
       "       [2.98095799e+03, 1.48413159e+02, 5.45981500e+01]])"
      ]
     },
     "execution_count": 188,
     "metadata": {},
     "output_type": "execute_result"
    }
   ],
   "source": [
    "#find exponent of all element\n",
    "np.exp(x)"
   ]
  },
  {
   "cell_type": "code",
   "execution_count": 189,
   "id": "0b86da49",
   "metadata": {},
   "outputs": [
    {
     "data": {
      "text/plain": [
       "array([[0.84509804, 0.60205999, 1.11394335],\n",
       "       [0.95424251, 1.        , 1.11394335],\n",
       "       [1.14612804, 0.77815125, 0.84509804],\n",
       "       [0.69897   , 0.69897   , 0.90308999],\n",
       "       [0.90308999, 0.69897   , 0.60205999]])"
      ]
     },
     "execution_count": 189,
     "metadata": {},
     "output_type": "execute_result"
    }
   ],
   "source": [
    "#find log of all the array\n",
    "\n",
    "np.log10(x)"
   ]
  },
  {
   "cell_type": "code",
   "execution_count": 190,
   "id": "c14420be",
   "metadata": {},
   "outputs": [
    {
     "data": {
      "text/plain": [
       "array([[2.64575131, 2.        , 3.60555128],\n",
       "       [3.        , 3.16227766, 3.60555128],\n",
       "       [3.74165739, 2.44948974, 2.64575131],\n",
       "       [2.23606798, 2.23606798, 2.82842712],\n",
       "       [2.82842712, 2.23606798, 2.        ]])"
      ]
     },
     "execution_count": 190,
     "metadata": {},
     "output_type": "execute_result"
    }
   ],
   "source": [
    "#squareroot of element\n",
    "np.sqrt(x)"
   ]
  },
  {
   "cell_type": "code",
   "execution_count": 191,
   "id": "0642afaf",
   "metadata": {},
   "outputs": [
    {
     "data": {
      "text/plain": [
       "3.141592653589793"
      ]
     },
     "execution_count": 191,
     "metadata": {},
     "output_type": "execute_result"
    }
   ],
   "source": [
    "# pi value\n",
    "np.pi"
   ]
  },
  {
   "cell_type": "code",
   "execution_count": 192,
   "id": "e81e44cf",
   "metadata": {},
   "outputs": [
    {
     "data": {
      "text/plain": [
       "0.8939966636005579"
      ]
     },
     "execution_count": 192,
     "metadata": {},
     "output_type": "execute_result"
    }
   ],
   "source": [
    "np.sin(90)"
   ]
  },
  {
   "cell_type": "code",
   "execution_count": null,
   "id": "c5f1f548",
   "metadata": {},
   "outputs": [],
   "source": []
  }
 ],
 "metadata": {
  "kernelspec": {
   "display_name": "Python 3 (ipykernel)",
   "language": "python",
   "name": "python3"
  },
  "language_info": {
   "codemirror_mode": {
    "name": "ipython",
    "version": 3
   },
   "file_extension": ".py",
   "mimetype": "text/x-python",
   "name": "python",
   "nbconvert_exporter": "python",
   "pygments_lexer": "ipython3",
   "version": "3.8.12"
  }
 },
 "nbformat": 4,
 "nbformat_minor": 5
}
