{
 "cells": [
  {
   "cell_type": "code",
   "execution_count": 1,
   "id": "94666cbf",
   "metadata": {},
   "outputs": [],
   "source": [
    "l = [1,2,3,4]"
   ]
  },
  {
   "cell_type": "code",
   "execution_count": 3,
   "id": "05880c6f",
   "metadata": {},
   "outputs": [
    {
     "data": {
      "text/plain": [
       "4"
      ]
     },
     "execution_count": 3,
     "metadata": {},
     "output_type": "execute_result"
    }
   ],
   "source": [
    "len(l)"
   ]
  },
  {
   "cell_type": "code",
   "execution_count": 4,
   "id": "5ce7032c",
   "metadata": {},
   "outputs": [
    {
     "data": {
      "text/plain": [
       "list"
      ]
     },
     "execution_count": 4,
     "metadata": {},
     "output_type": "execute_result"
    }
   ],
   "source": [
    "type(l)"
   ]
  },
  {
   "cell_type": "code",
   "execution_count": 6,
   "id": "879621e6",
   "metadata": {},
   "outputs": [],
   "source": [
    "def test():\n",
    "    pass #no definition "
   ]
  },
  {
   "cell_type": "code",
   "execution_count": 8,
   "id": "fb18c5ca",
   "metadata": {},
   "outputs": [],
   "source": [
    "test()#function call"
   ]
  },
  {
   "cell_type": "code",
   "execution_count": 9,
   "id": "1ac6c76f",
   "metadata": {},
   "outputs": [],
   "source": [
    "def test1():\n",
    "    print(\"This is my first funciton \")"
   ]
  },
  {
   "cell_type": "code",
   "execution_count": 10,
   "id": "cb56c5f9",
   "metadata": {},
   "outputs": [
    {
     "name": "stdout",
     "output_type": "stream",
     "text": [
      "This is my first funciton \n"
     ]
    }
   ],
   "source": [
    "test1()"
   ]
  },
  {
   "cell_type": "code",
   "execution_count": 11,
   "id": "410854e1",
   "metadata": {},
   "outputs": [],
   "source": [
    "def test2():\n",
    "    print(1+2)"
   ]
  },
  {
   "cell_type": "code",
   "execution_count": 12,
   "id": "b2794a28",
   "metadata": {},
   "outputs": [
    {
     "name": "stdout",
     "output_type": "stream",
     "text": [
      "3\n"
     ]
    }
   ],
   "source": [
    "test2()"
   ]
  },
  {
   "cell_type": "code",
   "execution_count": 13,
   "id": "4bc322e2",
   "metadata": {},
   "outputs": [],
   "source": [
    "def test3(a,b):\n",
    "    print(a+b)"
   ]
  },
  {
   "cell_type": "code",
   "execution_count": 14,
   "id": "4fad041d",
   "metadata": {},
   "outputs": [
    {
     "name": "stdout",
     "output_type": "stream",
     "text": [
      "5\n"
     ]
    }
   ],
   "source": [
    "test3(2,3)"
   ]
  },
  {
   "cell_type": "code",
   "execution_count": 15,
   "id": "789a5aac",
   "metadata": {},
   "outputs": [
    {
     "name": "stdout",
     "output_type": "stream",
     "text": [
      "50\n"
     ]
    }
   ],
   "source": [
    "test3(10,40)"
   ]
  },
  {
   "cell_type": "code",
   "execution_count": 16,
   "id": "a8d5301b",
   "metadata": {},
   "outputs": [
    {
     "name": "stdout",
     "output_type": "stream",
     "text": [
      "abcdef\n"
     ]
    }
   ],
   "source": [
    "test3('abc', 'def')"
   ]
  },
  {
   "cell_type": "code",
   "execution_count": 17,
   "id": "36f96fb3",
   "metadata": {},
   "outputs": [
    {
     "name": "stdout",
     "output_type": "stream",
     "text": [
      "[1, 2, 3, 4, 5, 6]\n"
     ]
    }
   ],
   "source": [
    "a = [1,2,3]\n",
    "b = [4,5,6]\n",
    "test3(a,b)"
   ]
  },
  {
   "cell_type": "code",
   "execution_count": 19,
   "id": "31632661",
   "metadata": {},
   "outputs": [
    {
     "name": "stdout",
     "output_type": "stream",
     "text": [
      "(1, 2, 3, 4, 5, 6)\n"
     ]
    }
   ],
   "source": [
    "a = (1,2,3)\n",
    "b = (4,5,6)\n",
    "test3(a,b)"
   ]
  },
  {
   "cell_type": "code",
   "execution_count": 20,
   "id": "4797d9fe",
   "metadata": {},
   "outputs": [
    {
     "name": "stdout",
     "output_type": "stream",
     "text": [
      "(1, 2, 3, 3, 5, 6)\n"
     ]
    }
   ],
   "source": [
    "a = (1,2,3)\n",
    "b = (3,5,6)\n",
    "test3(a,b)"
   ]
  },
  {
   "cell_type": "code",
   "execution_count": 24,
   "id": "156eaa7b",
   "metadata": {},
   "outputs": [
    {
     "ename": "TypeError",
     "evalue": "unsupported operand type(s) for +: 'set' and 'set'",
     "output_type": "error",
     "traceback": [
      "\u001b[0;31m---------------------------------------------------------------------------\u001b[0m",
      "\u001b[0;31mTypeError\u001b[0m                                 Traceback (most recent call last)",
      "\u001b[0;32m/tmp/ipykernel_37197/2919761103.py\u001b[0m in \u001b[0;36m<module>\u001b[0;34m\u001b[0m\n\u001b[1;32m      1\u001b[0m \u001b[0ma\u001b[0m \u001b[0;34m=\u001b[0m \u001b[0;34m{\u001b[0m\u001b[0;36m1\u001b[0m\u001b[0;34m,\u001b[0m\u001b[0;36m2\u001b[0m\u001b[0;34m,\u001b[0m\u001b[0;36m3\u001b[0m\u001b[0;34m}\u001b[0m\u001b[0;34m\u001b[0m\u001b[0;34m\u001b[0m\u001b[0m\n\u001b[1;32m      2\u001b[0m \u001b[0mb\u001b[0m \u001b[0;34m=\u001b[0m \u001b[0;34m{\u001b[0m\u001b[0;36m3\u001b[0m\u001b[0;34m,\u001b[0m\u001b[0;36m5\u001b[0m\u001b[0;34m,\u001b[0m\u001b[0;36m6\u001b[0m\u001b[0;34m}\u001b[0m\u001b[0;34m\u001b[0m\u001b[0;34m\u001b[0m\u001b[0m\n\u001b[0;32m----> 3\u001b[0;31m \u001b[0mtest3\u001b[0m\u001b[0;34m(\u001b[0m\u001b[0ma\u001b[0m\u001b[0;34m,\u001b[0m\u001b[0mb\u001b[0m\u001b[0;34m)\u001b[0m\u001b[0;34m\u001b[0m\u001b[0;34m\u001b[0m\u001b[0m\n\u001b[0m",
      "\u001b[0;32m/tmp/ipykernel_37197/1691452755.py\u001b[0m in \u001b[0;36mtest3\u001b[0;34m(a, b)\u001b[0m\n\u001b[1;32m      1\u001b[0m \u001b[0;32mdef\u001b[0m \u001b[0mtest3\u001b[0m\u001b[0;34m(\u001b[0m\u001b[0ma\u001b[0m\u001b[0;34m,\u001b[0m\u001b[0mb\u001b[0m\u001b[0;34m)\u001b[0m\u001b[0;34m:\u001b[0m\u001b[0;34m\u001b[0m\u001b[0;34m\u001b[0m\u001b[0m\n\u001b[0;32m----> 2\u001b[0;31m     \u001b[0mprint\u001b[0m\u001b[0;34m(\u001b[0m\u001b[0ma\u001b[0m\u001b[0;34m+\u001b[0m\u001b[0mb\u001b[0m\u001b[0;34m)\u001b[0m\u001b[0;34m\u001b[0m\u001b[0;34m\u001b[0m\u001b[0m\n\u001b[0m",
      "\u001b[0;31mTypeError\u001b[0m: unsupported operand type(s) for +: 'set' and 'set'"
     ]
    }
   ],
   "source": [
    "a = {1,2,3}\n",
    "b = {3,5,6}\n",
    "test3(a,b)"
   ]
  },
  {
   "cell_type": "code",
   "execution_count": 25,
   "id": "8ce623ab",
   "metadata": {},
   "outputs": [
    {
     "ename": "TypeError",
     "evalue": "unsupported operand type(s) for +: 'int' and 'str'",
     "output_type": "error",
     "traceback": [
      "\u001b[0;31m---------------------------------------------------------------------------\u001b[0m",
      "\u001b[0;31mTypeError\u001b[0m                                 Traceback (most recent call last)",
      "\u001b[0;32m/tmp/ipykernel_37197/3669709776.py\u001b[0m in \u001b[0;36m<module>\u001b[0;34m\u001b[0m\n\u001b[0;32m----> 1\u001b[0;31m \u001b[0mtest3\u001b[0m\u001b[0;34m(\u001b[0m\u001b[0;36m4\u001b[0m\u001b[0;34m,\u001b[0m\u001b[0;34m\"abc\"\u001b[0m\u001b[0;34m)\u001b[0m\u001b[0;34m\u001b[0m\u001b[0;34m\u001b[0m\u001b[0m\n\u001b[0m",
      "\u001b[0;32m/tmp/ipykernel_37197/1691452755.py\u001b[0m in \u001b[0;36mtest3\u001b[0;34m(a, b)\u001b[0m\n\u001b[1;32m      1\u001b[0m \u001b[0;32mdef\u001b[0m \u001b[0mtest3\u001b[0m\u001b[0;34m(\u001b[0m\u001b[0ma\u001b[0m\u001b[0;34m,\u001b[0m\u001b[0mb\u001b[0m\u001b[0;34m)\u001b[0m\u001b[0;34m:\u001b[0m\u001b[0;34m\u001b[0m\u001b[0;34m\u001b[0m\u001b[0m\n\u001b[0;32m----> 2\u001b[0;31m     \u001b[0mprint\u001b[0m\u001b[0;34m(\u001b[0m\u001b[0ma\u001b[0m\u001b[0;34m+\u001b[0m\u001b[0mb\u001b[0m\u001b[0;34m)\u001b[0m\u001b[0;34m\u001b[0m\u001b[0;34m\u001b[0m\u001b[0m\n\u001b[0m",
      "\u001b[0;31mTypeError\u001b[0m: unsupported operand type(s) for +: 'int' and 'str'"
     ]
    }
   ],
   "source": [
    "test3(4,\"abc\")"
   ]
  },
  {
   "cell_type": "code",
   "execution_count": 35,
   "id": "dcc793a2",
   "metadata": {},
   "outputs": [],
   "source": [
    "def test4(a,b):\n",
    "    if type(a) != str:\n",
    "        print(str(a)+b)\n",
    "    else:\n",
    "        print(a+b)\n",
    "        #print will always gives None type"
   ]
  },
  {
   "cell_type": "code",
   "execution_count": 29,
   "id": "b8aaed89",
   "metadata": {},
   "outputs": [
    {
     "name": "stdout",
     "output_type": "stream",
     "text": [
      "4abc\n"
     ]
    },
    {
     "ename": "TypeError",
     "evalue": "unsupported operand type(s) for +: 'NoneType' and 'str'",
     "output_type": "error",
     "traceback": [
      "\u001b[0;31m---------------------------------------------------------------------------\u001b[0m",
      "\u001b[0;31mTypeError\u001b[0m                                 Traceback (most recent call last)",
      "\u001b[0;32m/tmp/ipykernel_37197/1933200082.py\u001b[0m in \u001b[0;36m<module>\u001b[0;34m\u001b[0m\n\u001b[0;32m----> 1\u001b[0;31m \u001b[0mtest4\u001b[0m\u001b[0;34m(\u001b[0m\u001b[0;36m4\u001b[0m\u001b[0;34m,\u001b[0m\u001b[0;34m\"abc\"\u001b[0m\u001b[0;34m)\u001b[0m \u001b[0;34m+\u001b[0m \u001b[0;34m\"abc\"\u001b[0m\u001b[0;34m\u001b[0m\u001b[0;34m\u001b[0m\u001b[0m\n\u001b[0m",
      "\u001b[0;31mTypeError\u001b[0m: unsupported operand type(s) for +: 'NoneType' and 'str'"
     ]
    }
   ],
   "source": [
    "test4(4,\"abc\") + \"abc\""
   ]
  },
  {
   "cell_type": "code",
   "execution_count": 30,
   "id": "e09c0679",
   "metadata": {},
   "outputs": [
    {
     "name": "stdout",
     "output_type": "stream",
     "text": [
      "4abc\n"
     ]
    },
    {
     "data": {
      "text/plain": [
       "NoneType"
      ]
     },
     "execution_count": 30,
     "metadata": {},
     "output_type": "execute_result"
    }
   ],
   "source": [
    "type(test4(4,\"abc\"))"
   ]
  },
  {
   "cell_type": "code",
   "execution_count": 31,
   "id": "96f8a175",
   "metadata": {},
   "outputs": [],
   "source": [
    "def test5(a,b):\n",
    "    if type(a) != str:\n",
    "        return str(a)+b\n",
    "    else:\n",
    "        return a+b\n",
    "    "
   ]
  },
  {
   "cell_type": "code",
   "execution_count": 33,
   "id": "985a4229",
   "metadata": {},
   "outputs": [
    {
     "data": {
      "text/plain": [
       "'4abc'"
      ]
     },
     "execution_count": 33,
     "metadata": {},
     "output_type": "execute_result"
    }
   ],
   "source": [
    "test5(4,\"abc\")"
   ]
  },
  {
   "cell_type": "code",
   "execution_count": 34,
   "id": "e96eb657",
   "metadata": {},
   "outputs": [
    {
     "data": {
      "text/plain": [
       "'4abcdef'"
      ]
     },
     "execution_count": 34,
     "metadata": {},
     "output_type": "execute_result"
    }
   ],
   "source": [
    "test5(4,\"abc\") + \"def\""
   ]
  },
  {
   "cell_type": "code",
   "execution_count": 37,
   "id": "48631b50",
   "metadata": {},
   "outputs": [
    {
     "data": {
      "text/plain": [
       "str"
      ]
     },
     "execution_count": 37,
     "metadata": {},
     "output_type": "execute_result"
    }
   ],
   "source": [
    "type(test5(4,\"abc\"))"
   ]
  },
  {
   "cell_type": "code",
   "execution_count": 38,
   "id": "10fc16e8",
   "metadata": {},
   "outputs": [],
   "source": [
    "def test6(a,b,c):\n",
    "    return a+2, b+3, c+4, a++b+c"
   ]
  },
  {
   "cell_type": "code",
   "execution_count": 39,
   "id": "36900f11",
   "metadata": {},
   "outputs": [
    {
     "ename": "TypeError",
     "evalue": "test6() missing 1 required positional argument: 'c'",
     "output_type": "error",
     "traceback": [
      "\u001b[0;31m---------------------------------------------------------------------------\u001b[0m",
      "\u001b[0;31mTypeError\u001b[0m                                 Traceback (most recent call last)",
      "\u001b[0;32m/tmp/ipykernel_37197/4274064449.py\u001b[0m in \u001b[0;36m<module>\u001b[0;34m\u001b[0m\n\u001b[0;32m----> 1\u001b[0;31m \u001b[0mtest6\u001b[0m\u001b[0;34m(\u001b[0m\u001b[0;36m1\u001b[0m\u001b[0;34m,\u001b[0m\u001b[0;36m2\u001b[0m\u001b[0;34m)\u001b[0m\u001b[0;34m\u001b[0m\u001b[0;34m\u001b[0m\u001b[0m\n\u001b[0m",
      "\u001b[0;31mTypeError\u001b[0m: test6() missing 1 required positional argument: 'c'"
     ]
    }
   ],
   "source": [
    "test6(1,2)"
   ]
  },
  {
   "cell_type": "code",
   "execution_count": 40,
   "id": "8f79d49e",
   "metadata": {},
   "outputs": [
    {
     "data": {
      "text/plain": [
       "(12, 23, 34, 60)"
      ]
     },
     "execution_count": 40,
     "metadata": {},
     "output_type": "execute_result"
    }
   ],
   "source": [
    "test6(10,20,30)"
   ]
  },
  {
   "cell_type": "code",
   "execution_count": 41,
   "id": "1cef544c",
   "metadata": {},
   "outputs": [],
   "source": [
    "t = test6(10,20,30)"
   ]
  },
  {
   "cell_type": "code",
   "execution_count": 42,
   "id": "d9fb0b8b",
   "metadata": {},
   "outputs": [
    {
     "data": {
      "text/plain": [
       "tuple"
      ]
     },
     "execution_count": 42,
     "metadata": {},
     "output_type": "execute_result"
    }
   ],
   "source": [
    "type(t)"
   ]
  },
  {
   "cell_type": "code",
   "execution_count": 43,
   "id": "781701de",
   "metadata": {},
   "outputs": [],
   "source": [
    "a,b,c,d = test6(10,20,30)"
   ]
  },
  {
   "cell_type": "code",
   "execution_count": 44,
   "id": "b8b4833d",
   "metadata": {},
   "outputs": [
    {
     "data": {
      "text/plain": [
       "int"
      ]
     },
     "execution_count": 44,
     "metadata": {},
     "output_type": "execute_result"
    }
   ],
   "source": [
    "type(a)"
   ]
  },
  {
   "cell_type": "code",
   "execution_count": 45,
   "id": "27240940",
   "metadata": {},
   "outputs": [
    {
     "name": "stdout",
     "output_type": "stream",
     "text": [
      "12 23 34 60\n"
     ]
    }
   ],
   "source": [
    "print(a,b,c,d)"
   ]
  },
  {
   "cell_type": "code",
   "execution_count": 46,
   "id": "57d9e632",
   "metadata": {},
   "outputs": [],
   "source": [
    "h, i, j, k = 10, 20, \"abc\", 100.101"
   ]
  },
  {
   "cell_type": "code",
   "execution_count": 47,
   "id": "2ae0a6f0",
   "metadata": {},
   "outputs": [],
   "source": [
    "_, _, _, d = test6(3,4,5)"
   ]
  },
  {
   "cell_type": "code",
   "execution_count": 48,
   "id": "2448f4a6",
   "metadata": {},
   "outputs": [
    {
     "data": {
      "text/plain": [
       "12"
      ]
     },
     "execution_count": 48,
     "metadata": {},
     "output_type": "execute_result"
    }
   ],
   "source": [
    "d"
   ]
  },
  {
   "cell_type": "code",
   "execution_count": 50,
   "id": "10604878",
   "metadata": {},
   "outputs": [
    {
     "data": {
      "text/plain": [
       "9"
      ]
     },
     "execution_count": 50,
     "metadata": {},
     "output_type": "execute_result"
    }
   ],
   "source": [
    "_ #will give you latest updated one "
   ]
  },
  {
   "cell_type": "code",
   "execution_count": 51,
   "id": "8dcdc55d",
   "metadata": {},
   "outputs": [
    {
     "data": {
      "text/plain": [
       "20736"
      ]
     },
     "execution_count": 51,
     "metadata": {},
     "output_type": "execute_result"
    }
   ],
   "source": [
    "d ** 4"
   ]
  },
  {
   "cell_type": "code",
   "execution_count": 52,
   "id": "1a4ef5bb",
   "metadata": {},
   "outputs": [],
   "source": [
    "def test7(x, y):\n",
    "    return x+y, x, x ** 4, x * y\n",
    "    "
   ]
  },
  {
   "cell_type": "code",
   "execution_count": 53,
   "id": "86a207bf",
   "metadata": {},
   "outputs": [
    {
     "data": {
      "text/plain": [
       "(7, 3, 81, 12)"
      ]
     },
     "execution_count": 53,
     "metadata": {},
     "output_type": "execute_result"
    }
   ],
   "source": [
    "test7(3,4)"
   ]
  },
  {
   "cell_type": "code",
   "execution_count": 54,
   "id": "11501900",
   "metadata": {},
   "outputs": [
    {
     "data": {
      "text/plain": [
       "81"
      ]
     },
     "execution_count": 54,
     "metadata": {},
     "output_type": "execute_result"
    }
   ],
   "source": [
    "test7(3,4)[2]"
   ]
  },
  {
   "cell_type": "code",
   "execution_count": 55,
   "id": "fffd7a59",
   "metadata": {},
   "outputs": [
    {
     "data": {
      "text/plain": [
       "3"
      ]
     },
     "execution_count": 55,
     "metadata": {},
     "output_type": "execute_result"
    }
   ],
   "source": [
    "test7(3,4)[1]"
   ]
  },
  {
   "cell_type": "code",
   "execution_count": 56,
   "id": "5d0389b0",
   "metadata": {},
   "outputs": [
    {
     "data": {
      "text/plain": [
       "7"
      ]
     },
     "execution_count": 56,
     "metadata": {},
     "output_type": "execute_result"
    }
   ],
   "source": [
    "test7(3,4)[0]"
   ]
  },
  {
   "cell_type": "code",
   "execution_count": 57,
   "id": "21b1de6f",
   "metadata": {},
   "outputs": [
    {
     "data": {
      "text/plain": [
       "12"
      ]
     },
     "execution_count": 57,
     "metadata": {},
     "output_type": "execute_result"
    }
   ],
   "source": [
    "test7(3,4)[3]"
   ]
  },
  {
   "cell_type": "code",
   "execution_count": 58,
   "id": "f498a034",
   "metadata": {},
   "outputs": [
    {
     "data": {
      "text/plain": [
       "27.0"
      ]
     },
     "execution_count": 58,
     "metadata": {},
     "output_type": "execute_result"
    }
   ],
   "source": [
    "test7(3,4)[2] / 3"
   ]
  },
  {
   "cell_type": "code",
   "execution_count": 59,
   "id": "6b991d9e",
   "metadata": {},
   "outputs": [],
   "source": [
    "a = test7(3,4)[2]"
   ]
  },
  {
   "cell_type": "code",
   "execution_count": 60,
   "id": "73634551",
   "metadata": {},
   "outputs": [
    {
     "data": {
      "text/plain": [
       "81"
      ]
     },
     "execution_count": 60,
     "metadata": {},
     "output_type": "execute_result"
    }
   ],
   "source": [
    "a"
   ]
  },
  {
   "cell_type": "code",
   "execution_count": 61,
   "id": "55f078a7",
   "metadata": {},
   "outputs": [],
   "source": [
    "def test8(a,b,c):\n",
    "    d = a * b * c\n",
    "    e = a + b + c +d\n",
    "    return d, e"
   ]
  },
  {
   "cell_type": "code",
   "execution_count": 63,
   "id": "f7829607",
   "metadata": {},
   "outputs": [
    {
     "data": {
      "text/plain": [
       "(120, 135)"
      ]
     },
     "execution_count": 63,
     "metadata": {},
     "output_type": "execute_result"
    }
   ],
   "source": [
    "test8(4,5,6)"
   ]
  },
  {
   "cell_type": "code",
   "execution_count": 64,
   "id": "3566464a",
   "metadata": {},
   "outputs": [
    {
     "data": {
      "text/plain": [
       "135"
      ]
     },
     "execution_count": 64,
     "metadata": {},
     "output_type": "execute_result"
    }
   ],
   "source": [
    "test8(4,5,6)[1]"
   ]
  },
  {
   "cell_type": "code",
   "execution_count": 65,
   "id": "4cf8bbdd",
   "metadata": {},
   "outputs": [],
   "source": [
    "l = [\"abc\", 4, 5, \"c\", \"d\", \"h\", 10.1]"
   ]
  },
  {
   "cell_type": "code",
   "execution_count": 71,
   "id": "0c5441cb",
   "metadata": {},
   "outputs": [
    {
     "name": "stdout",
     "output_type": "stream",
     "text": [
      "4\n"
     ]
    }
   ],
   "source": [
    "j = 0\n",
    "\n",
    "for i in l:\n",
    "    \n",
    "    if type(i) == str:\n",
    "        j +=1\n",
    "print(j)"
   ]
  },
  {
   "cell_type": "code",
   "execution_count": 28,
   "id": "29c3db24",
   "metadata": {},
   "outputs": [],
   "source": [
    "def test10(l):\n",
    "    \"\"\"This function will return number string variables available inside a  list \"\"\"\n",
    "    j = 0\n",
    "    for i in l:\n",
    "\n",
    "        if type(i) == str:\n",
    "            j +=1\n",
    "    return j"
   ]
  },
  {
   "cell_type": "code",
   "execution_count": 29,
   "id": "da4a1c86",
   "metadata": {},
   "outputs": [
    {
     "data": {
      "text/plain": [
       "1"
      ]
     },
     "execution_count": 29,
     "metadata": {},
     "output_type": "execute_result"
    }
   ],
   "source": [
    "test10(l)"
   ]
  },
  {
   "cell_type": "code",
   "execution_count": 30,
   "id": "31e09f2c",
   "metadata": {},
   "outputs": [
    {
     "data": {
      "text/plain": [
       "6"
      ]
     },
     "execution_count": 30,
     "metadata": {},
     "output_type": "execute_result"
    }
   ],
   "source": [
    "l1 = [\"abc\", 4, 5, \"c\", \"d\", \"h\", 10.1,\"xyz\", \"d\"]\n",
    "test10(l1)"
   ]
  },
  {
   "cell_type": "code",
   "execution_count": 2,
   "id": "6ab1531a",
   "metadata": {},
   "outputs": [],
   "source": [
    "def test11(a, b):\n",
    "    return a, b"
   ]
  },
  {
   "cell_type": "code",
   "execution_count": 3,
   "id": "5fe4a4d1",
   "metadata": {},
   "outputs": [
    {
     "ename": "TypeError",
     "evalue": "test11() missing 1 required positional argument: 'b'",
     "output_type": "error",
     "traceback": [
      "\u001b[0;31m---------------------------------------------------------------------------\u001b[0m",
      "\u001b[0;31mTypeError\u001b[0m                                 Traceback (most recent call last)",
      "\u001b[0;32m/tmp/ipykernel_11440/2931172850.py\u001b[0m in \u001b[0;36m<module>\u001b[0;34m\u001b[0m\n\u001b[0;32m----> 1\u001b[0;31m \u001b[0mtest11\u001b[0m\u001b[0;34m(\u001b[0m\u001b[0;36m4\u001b[0m\u001b[0;34m)\u001b[0m\u001b[0;34m\u001b[0m\u001b[0;34m\u001b[0m\u001b[0m\n\u001b[0m",
      "\u001b[0;31mTypeError\u001b[0m: test11() missing 1 required positional argument: 'b'"
     ]
    }
   ],
   "source": [
    "test11(4)"
   ]
  },
  {
   "cell_type": "code",
   "execution_count": 6,
   "id": "a3d373dd",
   "metadata": {},
   "outputs": [],
   "source": [
    "def test11(a, b=10):\n",
    "    #b=10 is default value if b isn't provided while calling the funtion\n",
    "    return a, b"
   ]
  },
  {
   "cell_type": "code",
   "execution_count": 5,
   "id": "97d81208",
   "metadata": {},
   "outputs": [
    {
     "data": {
      "text/plain": [
       "(4, 10)"
      ]
     },
     "execution_count": 5,
     "metadata": {},
     "output_type": "execute_result"
    }
   ],
   "source": [
    "test11(4)"
   ]
  },
  {
   "cell_type": "code",
   "execution_count": 7,
   "id": "88c45ed9",
   "metadata": {},
   "outputs": [
    {
     "data": {
      "text/plain": [
       "(1, 2)"
      ]
     },
     "execution_count": 7,
     "metadata": {},
     "output_type": "execute_result"
    }
   ],
   "source": [
    "test11(1,2)"
   ]
  },
  {
   "cell_type": "code",
   "execution_count": 8,
   "id": "bd8c4102",
   "metadata": {},
   "outputs": [],
   "source": [
    "def test12(a = 10, b = 12):\n",
    "    return a, b"
   ]
  },
  {
   "cell_type": "code",
   "execution_count": 9,
   "id": "f5dcb4ba",
   "metadata": {},
   "outputs": [
    {
     "data": {
      "text/plain": [
       "(10, 12)"
      ]
     },
     "execution_count": 9,
     "metadata": {},
     "output_type": "execute_result"
    }
   ],
   "source": [
    "test12()"
   ]
  },
  {
   "cell_type": "code",
   "execution_count": 11,
   "id": "e0e3e4a6",
   "metadata": {},
   "outputs": [
    {
     "data": {
      "text/plain": [
       "(1, 2)"
      ]
     },
     "execution_count": 11,
     "metadata": {},
     "output_type": "execute_result"
    }
   ],
   "source": [
    "test12(1,2)"
   ]
  },
  {
   "cell_type": "code",
   "execution_count": 12,
   "id": "b5f4d8af",
   "metadata": {},
   "outputs": [
    {
     "data": {
      "text/plain": [
       "(1, 12)"
      ]
     },
     "execution_count": 12,
     "metadata": {},
     "output_type": "execute_result"
    }
   ],
   "source": [
    "test12(1)"
   ]
  },
  {
   "cell_type": "code",
   "execution_count": 15,
   "id": "a7b2fc18",
   "metadata": {},
   "outputs": [
    {
     "data": {
      "text/plain": [
       "('abc', 12)"
      ]
     },
     "execution_count": 15,
     "metadata": {},
     "output_type": "execute_result"
    }
   ],
   "source": [
    "test12(\"abc\")"
   ]
  },
  {
   "cell_type": "code",
   "execution_count": 16,
   "id": "d4597744",
   "metadata": {},
   "outputs": [],
   "source": [
    "def test13(a,b):\n",
    "    return a, b"
   ]
  },
  {
   "cell_type": "code",
   "execution_count": 17,
   "id": "5f8b4d19",
   "metadata": {},
   "outputs": [
    {
     "ename": "TypeError",
     "evalue": "test13() takes 2 positional arguments but 3 were given",
     "output_type": "error",
     "traceback": [
      "\u001b[0;31m---------------------------------------------------------------------------\u001b[0m",
      "\u001b[0;31mTypeError\u001b[0m                                 Traceback (most recent call last)",
      "\u001b[0;32m/tmp/ipykernel_11440/4107688595.py\u001b[0m in \u001b[0;36m<module>\u001b[0;34m\u001b[0m\n\u001b[0;32m----> 1\u001b[0;31m \u001b[0mtest13\u001b[0m\u001b[0;34m(\u001b[0m\u001b[0;36m1\u001b[0m\u001b[0;34m,\u001b[0m\u001b[0;36m2\u001b[0m\u001b[0;34m,\u001b[0m\u001b[0;36m3\u001b[0m\u001b[0;34m)\u001b[0m\u001b[0;34m\u001b[0m\u001b[0;34m\u001b[0m\u001b[0m\n\u001b[0m",
      "\u001b[0;31mTypeError\u001b[0m: test13() takes 2 positional arguments but 3 were given"
     ]
    }
   ],
   "source": [
    "test13(1,2,3)"
   ]
  },
  {
   "cell_type": "code",
   "execution_count": 18,
   "id": "ab42a1df",
   "metadata": {},
   "outputs": [],
   "source": [
    "def test14(*args):\n",
    "    ## * --> will take any number of arguments while calling the function\n",
    "    ## args --> variable name\n",
    "    return args"
   ]
  },
  {
   "cell_type": "code",
   "execution_count": 20,
   "id": "fe1792e9",
   "metadata": {},
   "outputs": [
    {
     "data": {
      "text/plain": [
       "(1,)"
      ]
     },
     "execution_count": 20,
     "metadata": {},
     "output_type": "execute_result"
    }
   ],
   "source": [
    "test14(1)"
   ]
  },
  {
   "cell_type": "code",
   "execution_count": 21,
   "id": "6a65dcde",
   "metadata": {},
   "outputs": [
    {
     "data": {
      "text/plain": [
       "(1, 2, 3)"
      ]
     },
     "execution_count": 21,
     "metadata": {},
     "output_type": "execute_result"
    }
   ],
   "source": [
    "test14(1,2,3)"
   ]
  },
  {
   "cell_type": "code",
   "execution_count": 22,
   "id": "025c0463",
   "metadata": {},
   "outputs": [
    {
     "data": {
      "text/plain": [
       "('abc', 10, 11.11, 'cde')"
      ]
     },
     "execution_count": 22,
     "metadata": {},
     "output_type": "execute_result"
    }
   ],
   "source": [
    "test14(\"abc\", 10, 11.11, \"cde\")"
   ]
  },
  {
   "cell_type": "code",
   "execution_count": 23,
   "id": "12f99157",
   "metadata": {},
   "outputs": [],
   "source": [
    "def test15(*b):\n",
    "    return b"
   ]
  },
  {
   "cell_type": "code",
   "execution_count": 24,
   "id": "490059d3",
   "metadata": {},
   "outputs": [
    {
     "data": {
      "text/plain": [
       "(1, 2, 3)"
      ]
     },
     "execution_count": 24,
     "metadata": {},
     "output_type": "execute_result"
    }
   ],
   "source": [
    "test15(1,2,3)"
   ]
  },
  {
   "cell_type": "code",
   "execution_count": 25,
   "id": "71af6323",
   "metadata": {},
   "outputs": [
    {
     "data": {
      "text/plain": [
       "('abc', 1.0, 11, [1, 2, 'abc', 1.0])"
      ]
     },
     "execution_count": 25,
     "metadata": {},
     "output_type": "execute_result"
    }
   ],
   "source": [
    "l = [1,2,\"abc\", 1.0]\n",
    "test15(\"abc\", 1.0, 11,l )"
   ]
  },
  {
   "cell_type": "code",
   "execution_count": 26,
   "id": "0a55d2d9",
   "metadata": {},
   "outputs": [],
   "source": [
    "def test15(*args):\n",
    "    con = \"\"\n",
    "    for i in args:\n",
    "        if type(i) == str:\n",
    "            con = con + i\n",
    "    return con"
   ]
  },
  {
   "cell_type": "code",
   "execution_count": 31,
   "id": "2e2caabf",
   "metadata": {},
   "outputs": [
    {
     "data": {
      "text/plain": [
       "''"
      ]
     },
     "execution_count": 31,
     "metadata": {},
     "output_type": "execute_result"
    }
   ],
   "source": [
    "l1 = [\"abc\", 4, 5, \"c\", \"d\", \"h\", 10.1,\"xyz\", \"d\"]\n",
    "test15(l1)\n",
    "#type of l1 is list so it won't return anything"
   ]
  },
  {
   "cell_type": "code",
   "execution_count": 35,
   "id": "3cb192cc",
   "metadata": {},
   "outputs": [
    {
     "data": {
      "text/plain": [
       "'abcabcd'"
      ]
     },
     "execution_count": 35,
     "metadata": {},
     "output_type": "execute_result"
    }
   ],
   "source": [
    "test15(\"abc\", \"a\",\"b\",\"c\",\"d\", 1,2,3)"
   ]
  },
  {
   "cell_type": "code",
   "execution_count": 33,
   "id": "3f965f11",
   "metadata": {},
   "outputs": [
    {
     "data": {
      "text/plain": [
       "'abc'"
      ]
     },
     "execution_count": 33,
     "metadata": {},
     "output_type": "execute_result"
    }
   ],
   "source": [
    "test15(\"abc\", l1)"
   ]
  },
  {
   "cell_type": "code",
   "execution_count": 34,
   "id": "cd9bad24",
   "metadata": {},
   "outputs": [
    {
     "data": {
      "text/plain": [
       "''"
      ]
     },
     "execution_count": 34,
     "metadata": {},
     "output_type": "execute_result"
    }
   ],
   "source": [
    "l2 = [\"a\",\"b\",\"c\"]\n",
    "test15(l2)"
   ]
  },
  {
   "cell_type": "code",
   "execution_count": 1,
   "id": "1c2f886d",
   "metadata": {},
   "outputs": [],
   "source": [
    "def test16(*args, a,b,c):\n",
    "    return args, a,b,c"
   ]
  },
  {
   "cell_type": "code",
   "execution_count": 3,
   "id": "0fe936aa",
   "metadata": {},
   "outputs": [
    {
     "ename": "TypeError",
     "evalue": "test16() missing 3 required keyword-only arguments: 'a', 'b', and 'c'",
     "output_type": "error",
     "traceback": [
      "\u001b[0;31m---------------------------------------------------------------------------\u001b[0m",
      "\u001b[0;31mTypeError\u001b[0m                                 Traceback (most recent call last)",
      "\u001b[0;32m/tmp/ipykernel_24774/4072361498.py\u001b[0m in \u001b[0;36m<module>\u001b[0;34m\u001b[0m\n\u001b[0;32m----> 1\u001b[0;31m \u001b[0mtest16\u001b[0m\u001b[0;34m(\u001b[0m\u001b[0;36m1\u001b[0m\u001b[0;34m,\u001b[0m\u001b[0;36m2\u001b[0m\u001b[0;34m,\u001b[0m\u001b[0;36m3\u001b[0m\u001b[0;34m,\u001b[0m\u001b[0;36m4\u001b[0m\u001b[0;34m)\u001b[0m\u001b[0;31m#the function considered all the passed args belongs to *args\u001b[0m\u001b[0;34m\u001b[0m\u001b[0;34m\u001b[0m\u001b[0m\n\u001b[0m",
      "\u001b[0;31mTypeError\u001b[0m: test16() missing 3 required keyword-only arguments: 'a', 'b', and 'c'"
     ]
    }
   ],
   "source": [
    "test16(1,2,3,4)#the function considered all the passed args belongs to *args"
   ]
  },
  {
   "cell_type": "code",
   "execution_count": 5,
   "id": "88d76091",
   "metadata": {},
   "outputs": [
    {
     "data": {
      "text/plain": [
       "((1, 2, 3, 4), 1, 2, 1)"
      ]
     },
     "execution_count": 5,
     "metadata": {},
     "output_type": "execute_result"
    }
   ],
   "source": [
    "test16(1,2,3,4, a=1,b=2,c=1)"
   ]
  },
  {
   "cell_type": "code",
   "execution_count": 8,
   "id": "0f601015",
   "metadata": {},
   "outputs": [
    {
     "data": {
      "text/plain": [
       "((1, 2, 3, 4), 1, 1, 2)"
      ]
     },
     "execution_count": 8,
     "metadata": {},
     "output_type": "execute_result"
    }
   ],
   "source": [
    "test16( 1,2,3,4,a=1,c=2,b=1)"
   ]
  },
  {
   "cell_type": "code",
   "execution_count": 9,
   "id": "dc2fc1a5",
   "metadata": {},
   "outputs": [],
   "source": [
    "#keyword arguments\n",
    "def test17(**kwargs):\n",
    "    ## **kwargs --> keyword arguments\n",
    "    return kwargs"
   ]
  },
  {
   "cell_type": "code",
   "execution_count": 10,
   "id": "4d972b00",
   "metadata": {},
   "outputs": [
    {
     "ename": "TypeError",
     "evalue": "test17() takes 0 positional arguments but 3 were given",
     "output_type": "error",
     "traceback": [
      "\u001b[0;31m---------------------------------------------------------------------------\u001b[0m",
      "\u001b[0;31mTypeError\u001b[0m                                 Traceback (most recent call last)",
      "\u001b[0;32m/tmp/ipykernel_24774/3004343589.py\u001b[0m in \u001b[0;36m<module>\u001b[0;34m\u001b[0m\n\u001b[0;32m----> 1\u001b[0;31m \u001b[0mtest17\u001b[0m\u001b[0;34m(\u001b[0m\u001b[0;36m1\u001b[0m\u001b[0;34m,\u001b[0m\u001b[0;36m2\u001b[0m\u001b[0;34m,\u001b[0m\u001b[0;36m3\u001b[0m\u001b[0;34m)\u001b[0m\u001b[0;34m\u001b[0m\u001b[0;34m\u001b[0m\u001b[0m\n\u001b[0m",
      "\u001b[0;31mTypeError\u001b[0m: test17() takes 0 positional arguments but 3 were given"
     ]
    }
   ],
   "source": [
    "test17(1,2,3)#since its positional arguments we need to specify key and value"
   ]
  },
  {
   "cell_type": "code",
   "execution_count": 11,
   "id": "dcae685e",
   "metadata": {},
   "outputs": [
    {
     "data": {
      "text/plain": [
       "{'a': 1, 'b': 2}"
      ]
     },
     "execution_count": 11,
     "metadata": {},
     "output_type": "execute_result"
    }
   ],
   "source": [
    "test17(a=1,b=2)"
   ]
  },
  {
   "cell_type": "code",
   "execution_count": 13,
   "id": "b537e554",
   "metadata": {},
   "outputs": [
    {
     "data": {
      "text/plain": [
       "{'a': 1, 'b': [2, 3, 4]}"
      ]
     },
     "execution_count": 13,
     "metadata": {},
     "output_type": "execute_result"
    }
   ],
   "source": [
    "test17(a=1,b=[2,3,4])"
   ]
  },
  {
   "cell_type": "code",
   "execution_count": 14,
   "id": "f698fc29",
   "metadata": {},
   "outputs": [
    {
     "data": {
      "text/plain": [
       "{'a': 1, 'b': [[2, 3, 4], [4, 5, 6]]}"
      ]
     },
     "execution_count": 14,
     "metadata": {},
     "output_type": "execute_result"
    }
   ],
   "source": [
    "test17(a=1,b=[[2,3,4],[4,5,6]])"
   ]
  },
  {
   "cell_type": "code",
   "execution_count": 38,
   "id": "774513ec",
   "metadata": {},
   "outputs": [],
   "source": [
    "\n",
    "def test18(**kwargs):\n",
    "    x=[]\n",
    "    for i in kwargs:\n",
    "        if type(kwargs[i]) == list:\n",
    "            for j in kwargs[i]:\n",
    "                if type(j)==str:\n",
    "                    x.append(j)\n",
    "    \n",
    "    return x, len(x)"
   ]
  },
  {
   "cell_type": "code",
   "execution_count": 39,
   "id": "2b63717e",
   "metadata": {},
   "outputs": [
    {
     "data": {
      "text/plain": [
       "(['abc', 'xyz', 'a'], 3)"
      ]
     },
     "execution_count": 39,
     "metadata": {},
     "output_type": "execute_result"
    }
   ],
   "source": [
    "test18(a = 1, b = 2, name = 'ineuron', st = ['abc', 'xyz', 'a',1,2,3])"
   ]
  },
  {
   "cell_type": "code",
   "execution_count": 47,
   "id": "b95868f2",
   "metadata": {},
   "outputs": [
    {
     "name": "stdout",
     "output_type": "stream",
     "text": [
      "('a', 10)\n",
      "('b', ['a', 'b', 'c', 10])\n"
     ]
    }
   ],
   "source": [
    "d = {'a':10, 'b' : ['a','b','c',10]}\n",
    "for i in d.items():\n",
    "    print(i)"
   ]
  },
  {
   "cell_type": "code",
   "execution_count": 48,
   "id": "c3916ad7",
   "metadata": {},
   "outputs": [
    {
     "name": "stdout",
     "output_type": "stream",
     "text": [
      "10\n",
      "['a', 'b', 'c', 10]\n"
     ]
    }
   ],
   "source": [
    "d = {'a':10, 'b' : ['a','b','c',10]}\n",
    "for i in d.values():\n",
    "    print(i)"
   ]
  },
  {
   "cell_type": "code",
   "execution_count": null,
   "id": "b602a045",
   "metadata": {},
   "outputs": [],
   "source": []
  }
 ],
 "metadata": {
  "kernelspec": {
   "display_name": "Python 3 (ipykernel)",
   "language": "python",
   "name": "python3"
  },
  "language_info": {
   "codemirror_mode": {
    "name": "ipython",
    "version": 3
   },
   "file_extension": ".py",
   "mimetype": "text/x-python",
   "name": "python",
   "nbconvert_exporter": "python",
   "pygments_lexer": "ipython3",
   "version": "3.8.12"
  }
 },
 "nbformat": 4,
 "nbformat_minor": 5
}
