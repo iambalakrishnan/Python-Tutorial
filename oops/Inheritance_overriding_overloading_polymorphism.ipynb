{
 "cells": [
  {
   "cell_type": "code",
   "execution_count": 1,
   "id": "f57ea214",
   "metadata": {},
   "outputs": [],
   "source": [
    "class person:\n",
    "    def __init__(self, name, year_of_birth, city):\n",
    "        self.name =  name\n",
    "        self.year_of_birth = year_of_birth\n",
    "        self.city = city\n",
    "    \n",
    "    def age(self, current_year):\n",
    "        return current_year - self.year_of_birth"
   ]
  },
  {
   "cell_type": "code",
   "execution_count": 3,
   "id": "5a33fd3e",
   "metadata": {},
   "outputs": [],
   "source": [
    "p =  person(\"abc\",2000, \"BLR\")"
   ]
  },
  {
   "cell_type": "code",
   "execution_count": 4,
   "id": "7dc0fabe",
   "metadata": {},
   "outputs": [
    {
     "data": {
      "text/plain": [
       "22"
      ]
     },
     "execution_count": 4,
     "metadata": {},
     "output_type": "execute_result"
    }
   ],
   "source": [
    "#need to pass current year as function argument\n",
    "p.age(2022)"
   ]
  },
  {
   "cell_type": "code",
   "execution_count": 8,
   "id": "8ce6208d",
   "metadata": {},
   "outputs": [],
   "source": [
    "class student(person):\n",
    "    \n",
    "    def __init__(self, student_id, *args):\n",
    "        \n",
    "        super(student, self).__init__(*args)\n",
    "        #person.__init__(self,name, year_of_birth, city)\n",
    "        \n",
    "        self.student_id = student_id"
   ]
  },
  {
   "cell_type": "code",
   "execution_count": 9,
   "id": "acec8f11",
   "metadata": {},
   "outputs": [
    {
     "ename": "TypeError",
     "evalue": "__init__() missing 1 required positional argument: 'student_id'",
     "output_type": "error",
     "traceback": [
      "\u001b[0;31m---------------------------------------------------------------------------\u001b[0m",
      "\u001b[0;31mTypeError\u001b[0m                                 Traceback (most recent call last)",
      "\u001b[0;32m/tmp/ipykernel_36726/2208476077.py\u001b[0m in \u001b[0;36m<module>\u001b[0;34m\u001b[0m\n\u001b[0;32m----> 1\u001b[0;31m \u001b[0mst\u001b[0m \u001b[0;34m=\u001b[0m \u001b[0mstudent\u001b[0m\u001b[0;34m(\u001b[0m\u001b[0;34m)\u001b[0m\u001b[0;34m\u001b[0m\u001b[0;34m\u001b[0m\u001b[0m\n\u001b[0m",
      "\u001b[0;31mTypeError\u001b[0m: __init__() missing 1 required positional argument: 'student_id'"
     ]
    }
   ],
   "source": [
    "st = student()"
   ]
  },
  {
   "cell_type": "code",
   "execution_count": 10,
   "id": "d6d709f4",
   "metadata": {},
   "outputs": [
    {
     "ename": "TypeError",
     "evalue": "__init__() missing 3 required positional arguments: 'name', 'year_of_birth', and 'city'",
     "output_type": "error",
     "traceback": [
      "\u001b[0;31m---------------------------------------------------------------------------\u001b[0m",
      "\u001b[0;31mTypeError\u001b[0m                                 Traceback (most recent call last)",
      "\u001b[0;32m/tmp/ipykernel_36726/897791118.py\u001b[0m in \u001b[0;36m<module>\u001b[0;34m\u001b[0m\n\u001b[0;32m----> 1\u001b[0;31m \u001b[0mst\u001b[0m \u001b[0;34m=\u001b[0m \u001b[0mstudent\u001b[0m\u001b[0;34m(\u001b[0m\u001b[0;36m123\u001b[0m\u001b[0;34m)\u001b[0m\u001b[0;34m\u001b[0m\u001b[0;34m\u001b[0m\u001b[0m\n\u001b[0m",
      "\u001b[0;32m/tmp/ipykernel_36726/1742272032.py\u001b[0m in \u001b[0;36m__init__\u001b[0;34m(self, student_id, *args)\u001b[0m\n\u001b[1;32m      3\u001b[0m     \u001b[0;32mdef\u001b[0m \u001b[0m__init__\u001b[0m\u001b[0;34m(\u001b[0m\u001b[0mself\u001b[0m\u001b[0;34m,\u001b[0m \u001b[0mstudent_id\u001b[0m\u001b[0;34m,\u001b[0m \u001b[0;34m*\u001b[0m\u001b[0margs\u001b[0m\u001b[0;34m)\u001b[0m\u001b[0;34m:\u001b[0m\u001b[0;34m\u001b[0m\u001b[0;34m\u001b[0m\u001b[0m\n\u001b[1;32m      4\u001b[0m \u001b[0;34m\u001b[0m\u001b[0m\n\u001b[0;32m----> 5\u001b[0;31m         \u001b[0msuper\u001b[0m\u001b[0;34m(\u001b[0m\u001b[0mstudent\u001b[0m\u001b[0;34m,\u001b[0m \u001b[0mself\u001b[0m\u001b[0;34m)\u001b[0m\u001b[0;34m.\u001b[0m\u001b[0m__init__\u001b[0m\u001b[0;34m(\u001b[0m\u001b[0;34m*\u001b[0m\u001b[0margs\u001b[0m\u001b[0;34m)\u001b[0m\u001b[0;34m\u001b[0m\u001b[0;34m\u001b[0m\u001b[0m\n\u001b[0m\u001b[1;32m      6\u001b[0m         \u001b[0;31m#person.__init__(self,name, year_of_birth, city)\u001b[0m\u001b[0;34m\u001b[0m\u001b[0;34m\u001b[0m\u001b[0;34m\u001b[0m\u001b[0m\n\u001b[1;32m      7\u001b[0m \u001b[0;34m\u001b[0m\u001b[0m\n",
      "\u001b[0;31mTypeError\u001b[0m: __init__() missing 3 required positional arguments: 'name', 'year_of_birth', and 'city'"
     ]
    }
   ],
   "source": [
    "st = student(123)"
   ]
  },
  {
   "cell_type": "code",
   "execution_count": 11,
   "id": "dd4f3839",
   "metadata": {},
   "outputs": [],
   "source": [
    "#by default the super class's constructor will be called need to need to provide data to super class as well"
   ]
  },
  {
   "cell_type": "code",
   "execution_count": 14,
   "id": "e7ff79ae",
   "metadata": {},
   "outputs": [],
   "source": [
    "st = student(1235,\"abc\",1999 ,\"BLR\")"
   ]
  },
  {
   "cell_type": "code",
   "execution_count": 15,
   "id": "4b2eea2d",
   "metadata": {},
   "outputs": [
    {
     "data": {
      "text/plain": [
       "1235"
      ]
     },
     "execution_count": 15,
     "metadata": {},
     "output_type": "execute_result"
    }
   ],
   "source": [
    "st.student_id"
   ]
  },
  {
   "cell_type": "code",
   "execution_count": 16,
   "id": "7be87e8e",
   "metadata": {},
   "outputs": [
    {
     "data": {
      "text/plain": [
       "'abc'"
      ]
     },
     "execution_count": 16,
     "metadata": {},
     "output_type": "execute_result"
    }
   ],
   "source": [
    "st.name"
   ]
  },
  {
   "cell_type": "code",
   "execution_count": 17,
   "id": "bca0e12c",
   "metadata": {},
   "outputs": [
    {
     "data": {
      "text/plain": [
       "'BLR'"
      ]
     },
     "execution_count": 17,
     "metadata": {},
     "output_type": "execute_result"
    }
   ],
   "source": [
    "st.city"
   ]
  },
  {
   "cell_type": "code",
   "execution_count": 18,
   "id": "81310723",
   "metadata": {},
   "outputs": [
    {
     "data": {
      "text/plain": [
       "23"
      ]
     },
     "execution_count": 18,
     "metadata": {},
     "output_type": "execute_result"
    }
   ],
   "source": [
    "st.age(2022)"
   ]
  },
  {
   "cell_type": "code",
   "execution_count": 172,
   "id": "91dfe797",
   "metadata": {},
   "outputs": [],
   "source": [
    "class test:\n",
    "    def __init__(self, a, b):\n",
    "        self.a = a\n",
    "        self.b = b\n",
    "        \n",
    "class test1:\n",
    "    def __init__(self, c, d):\n",
    "        self.c = c\n",
    "        self.d = d"
   ]
  },
  {
   "cell_type": "code",
   "execution_count": 173,
   "id": "52d136d8",
   "metadata": {},
   "outputs": [],
   "source": [
    "class child(test, test1):\n",
    "    def __init__(self, *args):\n",
    "        test.__init__(self, *args)\n",
    "        test1.__init__(self, *args)\n",
    "        # *args --> trying to copy same object to every argument\n",
    "        \n",
    "    def child_fun(self):\n",
    "        print(self.a, self.b)"
   ]
  },
  {
   "cell_type": "code",
   "execution_count": 174,
   "id": "06e03aa9",
   "metadata": {},
   "outputs": [
    {
     "ename": "TypeError",
     "evalue": "__init__() missing 2 required positional arguments: 'a' and 'b'",
     "output_type": "error",
     "traceback": [
      "\u001b[0;31m---------------------------------------------------------------------------\u001b[0m",
      "\u001b[0;31mTypeError\u001b[0m                                 Traceback (most recent call last)",
      "\u001b[0;32m/tmp/ipykernel_36726/1356487286.py\u001b[0m in \u001b[0;36m<module>\u001b[0;34m\u001b[0m\n\u001b[0;32m----> 1\u001b[0;31m \u001b[0mc\u001b[0m \u001b[0;34m=\u001b[0m \u001b[0mchild\u001b[0m\u001b[0;34m(\u001b[0m\u001b[0;34m)\u001b[0m\u001b[0;34m\u001b[0m\u001b[0;34m\u001b[0m\u001b[0m\n\u001b[0m",
      "\u001b[0;32m/tmp/ipykernel_36726/1442458646.py\u001b[0m in \u001b[0;36m__init__\u001b[0;34m(self, *args)\u001b[0m\n\u001b[1;32m      1\u001b[0m \u001b[0;32mclass\u001b[0m \u001b[0mchild\u001b[0m\u001b[0;34m(\u001b[0m\u001b[0mtest\u001b[0m\u001b[0;34m,\u001b[0m \u001b[0mtest1\u001b[0m\u001b[0;34m)\u001b[0m\u001b[0;34m:\u001b[0m\u001b[0;34m\u001b[0m\u001b[0;34m\u001b[0m\u001b[0m\n\u001b[1;32m      2\u001b[0m     \u001b[0;32mdef\u001b[0m \u001b[0m__init__\u001b[0m\u001b[0;34m(\u001b[0m\u001b[0mself\u001b[0m\u001b[0;34m,\u001b[0m \u001b[0;34m*\u001b[0m\u001b[0margs\u001b[0m\u001b[0;34m)\u001b[0m\u001b[0;34m:\u001b[0m\u001b[0;34m\u001b[0m\u001b[0;34m\u001b[0m\u001b[0m\n\u001b[0;32m----> 3\u001b[0;31m         \u001b[0mtest\u001b[0m\u001b[0;34m.\u001b[0m\u001b[0m__init__\u001b[0m\u001b[0;34m(\u001b[0m\u001b[0mself\u001b[0m\u001b[0;34m,\u001b[0m \u001b[0;34m*\u001b[0m\u001b[0margs\u001b[0m\u001b[0;34m)\u001b[0m\u001b[0;34m\u001b[0m\u001b[0;34m\u001b[0m\u001b[0m\n\u001b[0m\u001b[1;32m      4\u001b[0m         \u001b[0mtest1\u001b[0m\u001b[0;34m.\u001b[0m\u001b[0m__init__\u001b[0m\u001b[0;34m(\u001b[0m\u001b[0mself\u001b[0m\u001b[0;34m,\u001b[0m \u001b[0;34m*\u001b[0m\u001b[0margs\u001b[0m\u001b[0;34m)\u001b[0m\u001b[0;34m\u001b[0m\u001b[0;34m\u001b[0m\u001b[0m\n\u001b[1;32m      5\u001b[0m         \u001b[0;31m# *args --> trying to copy same object to every argument\u001b[0m\u001b[0;34m\u001b[0m\u001b[0;34m\u001b[0m\u001b[0;34m\u001b[0m\u001b[0m\n",
      "\u001b[0;31mTypeError\u001b[0m: __init__() missing 2 required positional arguments: 'a' and 'b'"
     ]
    }
   ],
   "source": [
    "c = child()"
   ]
  },
  {
   "cell_type": "code",
   "execution_count": 175,
   "id": "af5e8f70",
   "metadata": {},
   "outputs": [],
   "source": [
    "c = child(1,2)"
   ]
  },
  {
   "cell_type": "code",
   "execution_count": 176,
   "id": "06522676",
   "metadata": {},
   "outputs": [
    {
     "name": "stdout",
     "output_type": "stream",
     "text": [
      "1 2\n"
     ]
    }
   ],
   "source": [
    "c.child_fun()"
   ]
  },
  {
   "cell_type": "code",
   "execution_count": 177,
   "id": "02a41674",
   "metadata": {},
   "outputs": [],
   "source": [
    "class child(test, test1):\n",
    "    def __init__(self, a, b, c, d):\n",
    "        test.__init__(self, a, b)\n",
    "        test1.__init__(self, c, d)\n",
    "        \n",
    "    def child_fun(self):\n",
    "        print(self.a, self.c)"
   ]
  },
  {
   "cell_type": "code",
   "execution_count": 178,
   "id": "48acce99",
   "metadata": {},
   "outputs": [
    {
     "ename": "TypeError",
     "evalue": "__init__() missing 2 required positional arguments: 'c' and 'd'",
     "output_type": "error",
     "traceback": [
      "\u001b[0;31m---------------------------------------------------------------------------\u001b[0m",
      "\u001b[0;31mTypeError\u001b[0m                                 Traceback (most recent call last)",
      "\u001b[0;32m/tmp/ipykernel_36726/2489581231.py\u001b[0m in \u001b[0;36m<module>\u001b[0;34m\u001b[0m\n\u001b[0;32m----> 1\u001b[0;31m \u001b[0mc1\u001b[0m \u001b[0;34m=\u001b[0m \u001b[0mchild\u001b[0m\u001b[0;34m(\u001b[0m\u001b[0;36m1\u001b[0m\u001b[0;34m,\u001b[0m\u001b[0;36m2\u001b[0m\u001b[0;34m)\u001b[0m\u001b[0;34m\u001b[0m\u001b[0;34m\u001b[0m\u001b[0m\n\u001b[0m",
      "\u001b[0;31mTypeError\u001b[0m: __init__() missing 2 required positional arguments: 'c' and 'd'"
     ]
    }
   ],
   "source": [
    "c1 = child(1,2)"
   ]
  },
  {
   "cell_type": "code",
   "execution_count": 179,
   "id": "0698184f",
   "metadata": {},
   "outputs": [],
   "source": [
    "c1 = child(1,2,3,4)"
   ]
  },
  {
   "cell_type": "code",
   "execution_count": 180,
   "id": "bcc04d05",
   "metadata": {},
   "outputs": [
    {
     "name": "stdout",
     "output_type": "stream",
     "text": [
      "1 3\n"
     ]
    }
   ],
   "source": [
    "c1.child_fun()"
   ]
  },
  {
   "cell_type": "code",
   "execution_count": 41,
   "id": "450073e7",
   "metadata": {},
   "outputs": [],
   "source": [
    "class Animal:  \n",
    "    def walk(self):  \n",
    "        print(\"Animal walking\")  \n",
    "        \n",
    "#The child class Dog inherits the base class Animal  \n",
    "class Dog(Animal):  \n",
    "    def bark(self):  \n",
    "        print(\"dog barking\")  \n",
    "        \n",
    "#The child class Dogchild inherits another child class Dog  \n",
    "class DogChild(Dog):  \n",
    "    def eat(self):  \n",
    "        print(\"Eating bread...\")  "
   ]
  },
  {
   "cell_type": "code",
   "execution_count": 42,
   "id": "70068b0e",
   "metadata": {},
   "outputs": [],
   "source": [
    "x = DogChild()"
   ]
  },
  {
   "cell_type": "code",
   "execution_count": 43,
   "id": "ac05649e",
   "metadata": {},
   "outputs": [
    {
     "name": "stdout",
     "output_type": "stream",
     "text": [
      "dog barking\n"
     ]
    }
   ],
   "source": [
    "x.bark()"
   ]
  },
  {
   "cell_type": "code",
   "execution_count": 44,
   "id": "edefcb43",
   "metadata": {},
   "outputs": [
    {
     "name": "stdout",
     "output_type": "stream",
     "text": [
      "Animal walking\n"
     ]
    }
   ],
   "source": [
    "x.walk()"
   ]
  },
  {
   "cell_type": "code",
   "execution_count": 45,
   "id": "f90e5d7d",
   "metadata": {},
   "outputs": [
    {
     "name": "stdout",
     "output_type": "stream",
     "text": [
      "Eating bread...\n"
     ]
    }
   ],
   "source": [
    "x.eat()"
   ]
  },
  {
   "cell_type": "markdown",
   "id": "be416599",
   "metadata": {},
   "source": [
    "## Method Overriding"
   ]
  },
  {
   "cell_type": "code",
   "execution_count": 2,
   "id": "50b775a1",
   "metadata": {},
   "outputs": [],
   "source": [
    "class person:\n",
    "    def __init__(self, name, year_of_birth, city):\n",
    "        self.name =  name\n",
    "        self.year_of_birth = year_of_birth\n",
    "        self.city = city\n",
    "    \n",
    "    def age(self, current_year):\n",
    "        return current_year - self.year_of_birth\n",
    "    \n",
    "    def __str__(self):\n",
    "        return self.name"
   ]
  },
  {
   "cell_type": "code",
   "execution_count": 3,
   "id": "89beb711",
   "metadata": {},
   "outputs": [],
   "source": [
    "p =person(\"abc\", 2000, \"BLR\")"
   ]
  },
  {
   "cell_type": "code",
   "execution_count": 4,
   "id": "8fd78175",
   "metadata": {},
   "outputs": [
    {
     "name": "stdout",
     "output_type": "stream",
     "text": [
      "abc\n"
     ]
    }
   ],
   "source": [
    "print(p)"
   ]
  },
  {
   "cell_type": "code",
   "execution_count": 14,
   "id": "085ba8bf",
   "metadata": {},
   "outputs": [],
   "source": [
    "class student(person):\n",
    "    def __init__(self, student_id, *args):\n",
    "        super(student, self).__init__(*args)\n",
    "        self.student_id = student_id\n",
    "    \n",
    "    def __str__(self):\n",
    "        return super(student,self).__str__() + str(self.student_id)\n",
    "        #return person.__str__(self) + str(self.student_id)"
   ]
  },
  {
   "cell_type": "code",
   "execution_count": 15,
   "id": "9abbac2f",
   "metadata": {},
   "outputs": [],
   "source": [
    "st = student(100, \"xyz\", 2000, \"BLR\")"
   ]
  },
  {
   "cell_type": "code",
   "execution_count": 16,
   "id": "88bb8fa0",
   "metadata": {},
   "outputs": [
    {
     "name": "stdout",
     "output_type": "stream",
     "text": [
      "xyz100\n"
     ]
    }
   ],
   "source": [
    "print(st)"
   ]
  },
  {
   "cell_type": "code",
   "execution_count": 17,
   "id": "d1e23a9e",
   "metadata": {},
   "outputs": [],
   "source": [
    " class student(person):\n",
    "    def __init__(self, student_id, *args):\n",
    "        super(student, self).__init__(*args)\n",
    "        self.student_id = student_id\n",
    "    \n",
    "    #def __str__(self):\n",
    "        #return super(student,self).__str__() + str(self.student_id)\n",
    "        #return person.__str__(self) + str(self.student_id)"
   ]
  },
  {
   "cell_type": "code",
   "execution_count": 18,
   "id": "0378c2a3",
   "metadata": {},
   "outputs": [],
   "source": [
    "st1 = student(100, \"xyz\", 2000, \"BLR\")"
   ]
  },
  {
   "cell_type": "code",
   "execution_count": 19,
   "id": "580e555c",
   "metadata": {},
   "outputs": [
    {
     "name": "stdout",
     "output_type": "stream",
     "text": [
      "xyz\n"
     ]
    }
   ],
   "source": [
    "#Parent class's __str__() will be called\n",
    "print(st1)"
   ]
  },
  {
   "cell_type": "code",
   "execution_count": 20,
   "id": "9552c3b7",
   "metadata": {},
   "outputs": [],
   "source": [
    " class student(person):\n",
    "    def __init__(self, student_id, *args):\n",
    "        super(student, self).__init__(*args)\n",
    "        self.student_id = student_id\n",
    "    \n",
    "    def __str__(self):\n",
    "        return str(self.student_id)\n",
    "      "
   ]
  },
  {
   "cell_type": "code",
   "execution_count": 21,
   "id": "e027d516",
   "metadata": {},
   "outputs": [],
   "source": [
    "st2 = student(100, \"xyz\", 2000, \"BLR\")"
   ]
  },
  {
   "cell_type": "code",
   "execution_count": 22,
   "id": "32823876",
   "metadata": {},
   "outputs": [
    {
     "name": "stdout",
     "output_type": "stream",
     "text": [
      "100\n"
     ]
    }
   ],
   "source": [
    "#only student class's __str__() is called\n",
    "print(st2)"
   ]
  },
  {
   "cell_type": "code",
   "execution_count": 26,
   "id": "4085d4e3",
   "metadata": {},
   "outputs": [],
   "source": [
    " class student(person):\n",
    "    def __init__(self, student_id, *args):\n",
    "        super(student, self).__init__(*args)\n",
    "        self.student_id = student_id\n",
    "    \n",
    "    def __str__(self):\n",
    "        return person.__str__(self) + str(self.student_id)\n"
   ]
  },
  {
   "cell_type": "code",
   "execution_count": 27,
   "id": "7eabf7a1",
   "metadata": {},
   "outputs": [],
   "source": [
    "st3 = student(100, \"xyz\", 2000, \"BLR\")"
   ]
  },
  {
   "cell_type": "code",
   "execution_count": 28,
   "id": "8de60229",
   "metadata": {},
   "outputs": [
    {
     "name": "stdout",
     "output_type": "stream",
     "text": [
      "xyz100\n"
     ]
    }
   ],
   "source": [
    "#Child class __str__() will be called,method overridden in child class\n",
    "print(st3)"
   ]
  },
  {
   "cell_type": "markdown",
   "id": "7cd82d8d",
   "metadata": {},
   "source": [
    "## Encapsulation\n",
    "\n",
    "Encapsulation describes the concept of bundling data and methods within a single unit. So, for example, when you create a class, it means you are implementing encapsulation. A class is an example of encapsulation as it binds all the data members (instance variables) and methods into a single unit."
   ]
  },
  {
   "cell_type": "code",
   "execution_count": 42,
   "id": "ec049236",
   "metadata": {},
   "outputs": [],
   "source": [
    "class tyre:\n",
    "    def __init__(self, branch, belted_bias, opt_pressure):\n",
    "        self.branch = branch\n",
    "        self.belted_bias = belted_bias\n",
    "        self.opt_pressure = opt_pressure\n",
    "    def __str__(self):\n",
    "        return self.branch + self.belted_bias + self.opt_pressure"
   ]
  },
  {
   "cell_type": "code",
   "execution_count": 46,
   "id": "d3ba8b46",
   "metadata": {},
   "outputs": [],
   "source": [
    "class engine:\n",
    "    def __init__(self, fuel_type, noise_level):\n",
    "        self.fuel_type= fuel_type\n",
    "        self.noise_level = noise_level\n",
    "        \n",
    "    def __str__(self):\n",
    "        return self.fuel_type + self.noise_level"
   ]
  },
  {
   "cell_type": "code",
   "execution_count": 32,
   "id": "901670c1",
   "metadata": {},
   "outputs": [],
   "source": [
    "class body:\n",
    "    def __init__(self, size):\n",
    "        self.size = size\n",
    "        \n",
    "    def __str__(self):\n",
    "        return self.size"
   ]
  },
  {
   "cell_type": "code",
   "execution_count": 53,
   "id": "d2c337ee",
   "metadata": {},
   "outputs": [],
   "source": [
    "class car:\n",
    "    def __init__(self, a, b, c):\n",
    "        self.a = a\n",
    "        self.b = b\n",
    "        self.c = c\n",
    "    def __str__(self):\n",
    "        return str(self.a )+ str(self.b) + str(self.c)"
   ]
  },
  {
   "cell_type": "code",
   "execution_count": 56,
   "id": "f9096347",
   "metadata": {},
   "outputs": [],
   "source": [
    "ty = tyre(\"branch1 \",\"belted bias \", \" optimal pressure\")"
   ]
  },
  {
   "cell_type": "code",
   "execution_count": 57,
   "id": "8881d3f7",
   "metadata": {},
   "outputs": [],
   "source": [
    "en = engine(\" petrol \", \" noise123 \")"
   ]
  },
  {
   "cell_type": "code",
   "execution_count": 62,
   "id": "42107a4e",
   "metadata": {},
   "outputs": [],
   "source": [
    "bd = body(\"100\")"
   ]
  },
  {
   "cell_type": "code",
   "execution_count": 63,
   "id": "debaf7c9",
   "metadata": {},
   "outputs": [
    {
     "name": "stdout",
     "output_type": "stream",
     "text": [
      "100\n"
     ]
    }
   ],
   "source": [
    "print(bd)"
   ]
  },
  {
   "cell_type": "code",
   "execution_count": 64,
   "id": "56f25aae",
   "metadata": {},
   "outputs": [
    {
     "name": "stdout",
     "output_type": "stream",
     "text": [
      "branch1 belted bias  optimal pressure\n"
     ]
    }
   ],
   "source": [
    "print(ty)"
   ]
  },
  {
   "cell_type": "code",
   "execution_count": 65,
   "id": "c89137a4",
   "metadata": {},
   "outputs": [
    {
     "name": "stdout",
     "output_type": "stream",
     "text": [
      " petrol  noise123 \n"
     ]
    }
   ],
   "source": [
    "print(en)"
   ]
  },
  {
   "cell_type": "code",
   "execution_count": 66,
   "id": "aceb642c",
   "metadata": {},
   "outputs": [],
   "source": [
    "cr = car(\"a\",\"b\",\"c\")"
   ]
  },
  {
   "cell_type": "code",
   "execution_count": 67,
   "id": "5dd986a2",
   "metadata": {},
   "outputs": [
    {
     "name": "stdout",
     "output_type": "stream",
     "text": [
      "abc\n"
     ]
    }
   ],
   "source": [
    "print(cr)"
   ]
  },
  {
   "cell_type": "code",
   "execution_count": 68,
   "id": "5ed648ed",
   "metadata": {},
   "outputs": [],
   "source": [
    "cr1 = car(ty, en, bd)"
   ]
  },
  {
   "cell_type": "code",
   "execution_count": 69,
   "id": "a1b90133",
   "metadata": {},
   "outputs": [
    {
     "name": "stdout",
     "output_type": "stream",
     "text": [
      "branch1 belted bias  optimal pressure petrol  noise123 100\n"
     ]
    }
   ],
   "source": [
    "print(cr1)"
   ]
  },
  {
   "cell_type": "code",
   "execution_count": 78,
   "id": "9be314be",
   "metadata": {},
   "outputs": [],
   "source": [
    "class test:\n",
    "    def __init__(self, a, b):\n",
    "        self.a = a \n",
    "        self.b = b\n",
    "class test1(test):\n",
    "    def __init__(self, *args):\n",
    "        test.__init__(self, *args)\n",
    "        self.b = \"over ride value\"\n",
    "            "
   ]
  },
  {
   "cell_type": "code",
   "execution_count": 79,
   "id": "75385179",
   "metadata": {},
   "outputs": [],
   "source": [
    "obj = test1(4,5)"
   ]
  },
  {
   "cell_type": "code",
   "execution_count": 80,
   "id": "437bbc5d",
   "metadata": {},
   "outputs": [
    {
     "data": {
      "text/plain": [
       "4"
      ]
     },
     "execution_count": 80,
     "metadata": {},
     "output_type": "execute_result"
    }
   ],
   "source": [
    "obj.a"
   ]
  },
  {
   "cell_type": "code",
   "execution_count": 81,
   "id": "936133a9",
   "metadata": {},
   "outputs": [
    {
     "data": {
      "text/plain": [
       "'over ride value'"
      ]
     },
     "execution_count": 81,
     "metadata": {},
     "output_type": "execute_result"
    }
   ],
   "source": [
    "obj.b"
   ]
  },
  {
   "cell_type": "markdown",
   "id": "b0de5285",
   "metadata": {},
   "source": [
    "## Operator Overloading\n",
    "\n",
    "You can change the meaning of an operator in Python depending upon the operands used. In this tutorial, you will learn how to use operator overloading in Python Object Oriented Programming.\n",
    "\n",
    "Python operators work for built-in classes. But the same operator behaves differently with different types. For example, the + operator will perform arithmetic addition on two numbers, merge two lists, or concatenate two strings.\n",
    "\n",
    "This feature in Python that allows the same operator to have different meaning according to the context is called operator overloading."
   ]
  },
  {
   "cell_type": "code",
   "execution_count": 92,
   "id": "ed703068",
   "metadata": {},
   "outputs": [
    {
     "name": "stdout",
     "output_type": "stream",
     "text": [
      "40\n"
     ]
    },
    {
     "data": {
      "text/plain": [
       "'over ride value'"
      ]
     },
     "execution_count": 92,
     "metadata": {},
     "output_type": "execute_result"
    }
   ],
   "source": [
    "class test:\n",
    "    def __init__(self, a, b):\n",
    "        self.__a = a #private member\n",
    "        self.b = b\n",
    "class test1(test):\n",
    "    def __init__(self, *args):\n",
    "        test.__init__(self, *args)\n",
    "        self.b = \"over ride value\"\n",
    "        print(self._test__a)\n",
    "\n",
    "obj1 = test1(40,50)\n",
    "obj1.b"
   ]
  },
  {
   "cell_type": "code",
   "execution_count": 93,
   "id": "6b1771a8",
   "metadata": {},
   "outputs": [
    {
     "data": {
      "text/plain": [
       "40"
      ]
     },
     "execution_count": 93,
     "metadata": {},
     "output_type": "execute_result"
    }
   ],
   "source": [
    "obj1._test__a"
   ]
  },
  {
   "cell_type": "code",
   "execution_count": 98,
   "id": "9ac84a48",
   "metadata": {},
   "outputs": [],
   "source": [
    "class multyplynum():\n",
    "    def __init__(self, a):\n",
    "        self.a = a\n",
    "    \n",
    "    def __mul__(self, other):\n",
    "        #__mul__ has its own constructor which needs someone to pass data\n",
    "        return self.a + other.a"
   ]
  },
  {
   "cell_type": "code",
   "execution_count": 99,
   "id": "ad43bd9f",
   "metadata": {},
   "outputs": [],
   "source": [
    "a1 = multyplynum(10)\n",
    "a2 = multyplynum(200)"
   ]
  },
  {
   "cell_type": "code",
   "execution_count": 100,
   "id": "28942f8a",
   "metadata": {},
   "outputs": [
    {
     "data": {
      "text/plain": [
       "210"
      ]
     },
     "execution_count": 100,
     "metadata": {},
     "output_type": "execute_result"
    }
   ],
   "source": [
    "a1 * a2"
   ]
  },
  {
   "cell_type": "markdown",
   "id": "09cfd9b9",
   "metadata": {},
   "source": [
    " ## Polymorphism\n",
    "\n",
    "The literal meaning of polymorphism is the condition of occurrence in different forms.\n",
    "\n",
    "The word polymorphism means having many forms. In programming, polymorphism means the same function name (but different signatures) being used for different types\n",
    "\n",
    "Polymorphism is a very important concept in programming. It refers to the use of a single type entity (method, operator or object) to represent different types in different scenarios."
   ]
  },
  {
   "cell_type": "code",
   "execution_count": 102,
   "id": "c901cad3",
   "metadata": {},
   "outputs": [],
   "source": [
    "def test(a, b):\n",
    "    return a+b"
   ]
  },
  {
   "cell_type": "code",
   "execution_count": 103,
   "id": "0c9a0a4e",
   "metadata": {},
   "outputs": [
    {
     "data": {
      "text/plain": [
       "'abcxyz'"
      ]
     },
     "execution_count": 103,
     "metadata": {},
     "output_type": "execute_result"
    }
   ],
   "source": [
    "test(\"abc\",\"xyz\")"
   ]
  },
  {
   "cell_type": "code",
   "execution_count": 104,
   "id": "ea0fd52e",
   "metadata": {},
   "outputs": [
    {
     "data": {
      "text/plain": [
       "3"
      ]
     },
     "execution_count": 104,
     "metadata": {},
     "output_type": "execute_result"
    }
   ],
   "source": [
    "test(1,2)"
   ]
  },
  {
   "cell_type": "markdown",
   "id": "b9d01d38",
   "metadata": {},
   "source": [
    "Here, we can see that a single operator + has been used to carry out different operations for distinct data types. This is one of the most simple occurrences of polymorphism in Python."
   ]
  },
  {
   "cell_type": "code",
   "execution_count": 105,
   "id": "370d18b6",
   "metadata": {},
   "outputs": [],
   "source": [
    "class insta:\n",
    "    def shared_stories(self):\n",
    "        print(\"print your story on insta\")\n",
    "\n",
    "class facebook:\n",
    "    def shared_stories(self):\n",
    "        print(\"print your story on facebook\")"
   ]
  },
  {
   "cell_type": "code",
   "execution_count": 106,
   "id": "87745473",
   "metadata": {},
   "outputs": [],
   "source": [
    "def sharestories(app):\n",
    "    app.shared_stories()"
   ]
  },
  {
   "cell_type": "code",
   "execution_count": 107,
   "id": "5749019c",
   "metadata": {},
   "outputs": [],
   "source": [
    "ins = insta()"
   ]
  },
  {
   "cell_type": "code",
   "execution_count": 108,
   "id": "12a95ac7",
   "metadata": {},
   "outputs": [],
   "source": [
    "fb = facebook()"
   ]
  },
  {
   "cell_type": "code",
   "execution_count": 109,
   "id": "263a0c22",
   "metadata": {},
   "outputs": [
    {
     "name": "stdout",
     "output_type": "stream",
     "text": [
      "print your story on insta\n"
     ]
    }
   ],
   "source": [
    "sharestories(ins)"
   ]
  },
  {
   "cell_type": "code",
   "execution_count": 110,
   "id": "d011548c",
   "metadata": {},
   "outputs": [
    {
     "name": "stdout",
     "output_type": "stream",
     "text": [
      "print your story on facebook\n"
     ]
    }
   ],
   "source": [
    "sharestories(fb)"
   ]
  },
  {
   "cell_type": "code",
   "execution_count": 114,
   "id": "8e43568e",
   "metadata": {},
   "outputs": [],
   "source": [
    "class ineuron:\n",
    "    #global variable to neuron class\n",
    "    #it will be available to its class by dedfault, no need to use self\n",
    "    company_website = \"ineuron.ai\"\n",
    "    name = \"ineuron\"\n",
    "    \n",
    "    def contact_details(self):\n",
    "        print(\"contact us at \", self.company_website)\n",
    "\n",
    "class MLclass(ineuron):\n",
    "    def __init__(self):\n",
    "        self.year_of_establishment = 2019\n",
    "        \n",
    "    def est_details(self):\n",
    "        print(self.name, self.company_website, self.year_of_establishment)\n",
    "        "
   ]
  },
  {
   "cell_type": "code",
   "execution_count": 115,
   "id": "fbabe8b0",
   "metadata": {},
   "outputs": [],
   "source": [
    "ml = MLclass()"
   ]
  },
  {
   "cell_type": "code",
   "execution_count": 116,
   "id": "03213606",
   "metadata": {},
   "outputs": [
    {
     "name": "stdout",
     "output_type": "stream",
     "text": [
      "ineuron ineuron.ai 2019\n"
     ]
    }
   ],
   "source": [
    "ml.est_details()"
   ]
  },
  {
   "cell_type": "code",
   "execution_count": null,
   "id": "e8063022",
   "metadata": {},
   "outputs": [],
   "source": []
  }
 ],
 "metadata": {
  "kernelspec": {
   "display_name": "Python 3 (ipykernel)",
   "language": "python",
   "name": "python3"
  },
  "language_info": {
   "codemirror_mode": {
    "name": "ipython",
    "version": 3
   },
   "file_extension": ".py",
   "mimetype": "text/x-python",
   "name": "python",
   "nbconvert_exporter": "python",
   "pygments_lexer": "ipython3",
   "version": "3.8.12"
  }
 },
 "nbformat": 4,
 "nbformat_minor": 5
}
