{
 "cells": [
  {
   "cell_type": "markdown",
   "id": "6784300a",
   "metadata": {},
   "source": [
    "## Python Classes/Objects\n",
    "\n",
    "Python is an object oriented programming language.\n",
    "\n",
    "Almost everything in Python is an object, with its properties and methods.\n",
    "\n",
    "A Class is like an object constructor, or a \"blueprint\" for creating objects.\n",
    "\n",
    "\n",
    "Class is a user-defined blueprint or prototype from which objects are created. Classes provide a means of bundling data and functionality together. Creating a new class creates a new type of object, allowing new instances of that type to be made. Each class instance can have attributes attached to it for maintaining its state. Class instances can also have methods (defined by their class) for modifying their state.\n",
    "\n",
    "To understand the need for creating a class let’s consider an example, let’s say you wanted to track the number of dogs that may have different attributes like breed, age. If a list is used, the first element could be the dog’s breed while the second element could represent its age. Let’s suppose there are 100 different dogs, then how would you know which element is supposed to be which? What if you wanted to add other properties to these dogs? This lacks organization and it’s the exact need for classes. \n",
    "\n",
    "\n",
    "Class creates a user-defined data structure, which holds its own data members and member functions, which can be accessed and used by creating an instance of that class. A class is like a blueprint for an object.\n",
    "\n",
    "\n",
    "\n",
    "    class ClassName:\n",
    "    # Statement-1\n",
    "    .\n",
    "    .\n",
    "    .\n",
    "    # Statement-N\n",
    " \n",
    " \n",
    " \n",
    "## Class Objects\n",
    "\n",
    "An Object is an instance of a Class. A class is like a blueprint while an instance is a copy of the class with actual values. It’s not an idea anymore, it’s an actual dog, like a dog of breed pug who’s seven years old. You can have many dogs to create many different instances, but without the class as a guide, you would be lost, not knowing what information is required.\n",
    "An object consists of : \n",
    "\n",
    "    State: It is represented by the attributes of an object. It also reflects the properties of an object.\n",
    "    Behavior: It is represented by the methods of an object. It also reflects the response of an object to other objects.\n",
    "    Identity: It gives a unique name to an object and enables one object to interact with other objects.\n",
    "    \n",
    "\n",
    "## Declaring Objects (Also called instantiating a class)\n",
    "\n",
    "When an object of a class is created, the class is said to be instantiated. All the instances share the attributes and the behavior of the class. But the values of those attributes, i.e. the state are unique for each object. A single class may have any number of instances.\n",
    "\n",
    "## The self\n",
    "\n",
    "    Class methods must have an extra first parameter in the method definition. \n",
    "    We do not give a value for this parameter when we call the method, Python provides it.\n",
    "    If we have a method that takes no arguments, then we still have to have one argument.\n",
    "    This is similar to this pointer in C++ and this reference in Java.\n",
    "\n",
    "When we call a method of this object as myobject.method(arg1, arg2), this is automatically converted by Python into MyClass.method(myobject, arg1, arg2) – this is all the special self is about.\n",
    " \n",
    "## __init_\\_method\n",
    " \n",
    "The \\_\\_init\\_\\_ method is similar to constructors in C++ and Java. Constructors are used to initializing the object’s state. Like methods, a constructor also contains a collection of statements(i.e. instructions) that are executed at the time of Object creation. It runs as soon as an object of a class is instantiated. The method is useful to do any initialization you want to do with your object.\n",
    "\n",
    "\n",
    "## Class and Instance Variables\n",
    "\n",
    "Instance variables are for data, unique to each instance and class variables are for attributes and methods shared by all instances of the class. Instance variables are variables whose value is assigned inside a constructor or method with self whereas class variables are variables whose value is assigned in the class.\n",
    " "
   ]
  },
  {
   "cell_type": "code",
   "execution_count": 1,
   "id": "416a71c3",
   "metadata": {},
   "outputs": [],
   "source": [
    "class test:\n",
    "    pass"
   ]
  },
  {
   "cell_type": "code",
   "execution_count": 2,
   "id": "e8769970",
   "metadata": {},
   "outputs": [],
   "source": [
    "class test1:\n",
    "    def test_fun():\n",
    "        print(\"This is my first class\")"
   ]
  },
  {
   "cell_type": "code",
   "execution_count": 3,
   "id": "8650aa20",
   "metadata": {},
   "outputs": [
    {
     "name": "stdout",
     "output_type": "stream",
     "text": [
      "This is my first class\n"
     ]
    }
   ],
   "source": [
    "test1.test_fun()"
   ]
  },
  {
   "cell_type": "code",
   "execution_count": 6,
   "id": "5bfbdf19",
   "metadata": {},
   "outputs": [],
   "source": [
    "a = test1()"
   ]
  },
  {
   "cell_type": "code",
   "execution_count": 8,
   "id": "d4514a52",
   "metadata": {},
   "outputs": [
    {
     "ename": "TypeError",
     "evalue": "test_fun() takes 0 positional arguments but 1 was given",
     "output_type": "error",
     "traceback": [
      "\u001b[0;31m---------------------------------------------------------------------------\u001b[0m",
      "\u001b[0;31mTypeError\u001b[0m                                 Traceback (most recent call last)",
      "\u001b[0;32m/tmp/ipykernel_108840/4288409743.py\u001b[0m in \u001b[0;36m<module>\u001b[0;34m\u001b[0m\n\u001b[0;32m----> 1\u001b[0;31m \u001b[0ma\u001b[0m\u001b[0;34m.\u001b[0m\u001b[0mtest_fun\u001b[0m\u001b[0;34m(\u001b[0m\u001b[0;34m)\u001b[0m\u001b[0;34m\u001b[0m\u001b[0;34m\u001b[0m\u001b[0m\n\u001b[0m",
      "\u001b[0;31mTypeError\u001b[0m: test_fun() takes 0 positional arguments but 1 was given"
     ]
    }
   ],
   "source": [
    "a.test_fun()"
   ]
  },
  {
   "cell_type": "code",
   "execution_count": 9,
   "id": "fc5d7dca",
   "metadata": {},
   "outputs": [],
   "source": [
    "class test1:\n",
    "    def test_fun(x):\n",
    "        print(\"This is my first class\")"
   ]
  },
  {
   "cell_type": "code",
   "execution_count": 12,
   "id": "50c173f0",
   "metadata": {},
   "outputs": [],
   "source": [
    "#object creation\n",
    "b = test1()"
   ]
  },
  {
   "cell_type": "code",
   "execution_count": 13,
   "id": "3e2ae9f7",
   "metadata": {},
   "outputs": [
    {
     "name": "stdout",
     "output_type": "stream",
     "text": [
      "This is my first class\n"
     ]
    }
   ],
   "source": [
    "#accessing member function using object of a class\n",
    "b.test_fun()"
   ]
  },
  {
   "cell_type": "code",
   "execution_count": 14,
   "id": "6df9125b",
   "metadata": {},
   "outputs": [],
   "source": [
    "def test_fun(x):\n",
    "        print(\"This is my first class\")"
   ]
  },
  {
   "cell_type": "code",
   "execution_count": 15,
   "id": "12acaa75",
   "metadata": {},
   "outputs": [
    {
     "ename": "TypeError",
     "evalue": "test_fun() missing 1 required positional argument: 'x'",
     "output_type": "error",
     "traceback": [
      "\u001b[0;31m---------------------------------------------------------------------------\u001b[0m",
      "\u001b[0;31mTypeError\u001b[0m                                 Traceback (most recent call last)",
      "\u001b[0;32m/tmp/ipykernel_108840/3783468568.py\u001b[0m in \u001b[0;36m<module>\u001b[0;34m\u001b[0m\n\u001b[0;32m----> 1\u001b[0;31m \u001b[0mtest_fun\u001b[0m\u001b[0;34m(\u001b[0m\u001b[0;34m)\u001b[0m\u001b[0;34m\u001b[0m\u001b[0;34m\u001b[0m\u001b[0m\n\u001b[0m",
      "\u001b[0;31mTypeError\u001b[0m: test_fun() missing 1 required positional argument: 'x'"
     ]
    }
   ],
   "source": [
    "test_fun()"
   ]
  },
  {
   "cell_type": "code",
   "execution_count": 21,
   "id": "5d67e865",
   "metadata": {},
   "outputs": [],
   "source": [
    "class A:\n",
    "    def test_fun(self):\n",
    "        print(\"This is class\")\n",
    "        #self is not a keyword\n",
    "        #we can use anything into it\n",
    "        #This is similar to this pointer in C++ and this reference in Java."
   ]
  },
  {
   "cell_type": "code",
   "execution_count": 22,
   "id": "c56fad0e",
   "metadata": {},
   "outputs": [],
   "source": [
    "a = A()"
   ]
  },
  {
   "cell_type": "code",
   "execution_count": 23,
   "id": "c292012b",
   "metadata": {},
   "outputs": [
    {
     "name": "stdout",
     "output_type": "stream",
     "text": [
      "This is class\n"
     ]
    }
   ],
   "source": [
    "a.test_fun()"
   ]
  },
  {
   "cell_type": "code",
   "execution_count": 24,
   "id": "1da6680c",
   "metadata": {},
   "outputs": [],
   "source": [
    "class B:\n",
    "    \n",
    "    def test1(self):\n",
    "        print(\"this is 1st function\")\n",
    "        \n",
    "    def test2(self):\n",
    "        print(\"this is 2nd function\")\n",
    "        \n",
    "    def test3(self):\n",
    "        print(\"this is 3rd function\")\n",
    "        \n",
    "    def test4(self):\n",
    "        print(\"this is 4th function\")"
   ]
  },
  {
   "cell_type": "code",
   "execution_count": 25,
   "id": "ce82f5b6",
   "metadata": {},
   "outputs": [],
   "source": [
    "b = B()"
   ]
  },
  {
   "cell_type": "code",
   "execution_count": 27,
   "id": "605a03ed",
   "metadata": {},
   "outputs": [
    {
     "name": "stdout",
     "output_type": "stream",
     "text": [
      "this is 1st function\n"
     ]
    }
   ],
   "source": [
    "b.test1()"
   ]
  },
  {
   "cell_type": "code",
   "execution_count": 28,
   "id": "58039d6c",
   "metadata": {},
   "outputs": [
    {
     "name": "stdout",
     "output_type": "stream",
     "text": [
      "this is 2nd function\n"
     ]
    }
   ],
   "source": [
    "b.test2()"
   ]
  },
  {
   "cell_type": "code",
   "execution_count": 29,
   "id": "d799578f",
   "metadata": {},
   "outputs": [
    {
     "name": "stdout",
     "output_type": "stream",
     "text": [
      "this is 3rd function\n"
     ]
    }
   ],
   "source": [
    "b.test3()"
   ]
  },
  {
   "cell_type": "code",
   "execution_count": 30,
   "id": "fab0d0e7",
   "metadata": {},
   "outputs": [
    {
     "name": "stdout",
     "output_type": "stream",
     "text": [
      "this is 4th function\n"
     ]
    }
   ],
   "source": [
    "b.test4()"
   ]
  },
  {
   "cell_type": "code",
   "execution_count": 40,
   "id": "8fb37a90",
   "metadata": {},
   "outputs": [],
   "source": [
    "class C:\n",
    "    def __init__(self, a,b,c):\n",
    "        self.x = a\n",
    "        self.y = b\n",
    "        self.z = c\n",
    "        \n",
    "    #def sum_Values(abc):\n",
    "        #return abc.x + abc.y + abc.z\n",
    "    \n",
    "    def sum_Values(self):\n",
    "        return self.x + self.y + self.z\n",
    "    "
   ]
  },
  {
   "cell_type": "code",
   "execution_count": 41,
   "id": "579ea959",
   "metadata": {},
   "outputs": [],
   "source": [
    "c = C(10,20,30)"
   ]
  },
  {
   "cell_type": "code",
   "execution_count": 42,
   "id": "a514a2a6",
   "metadata": {},
   "outputs": [
    {
     "data": {
      "text/plain": [
       "60"
      ]
     },
     "execution_count": 42,
     "metadata": {},
     "output_type": "execute_result"
    }
   ],
   "source": [
    "c.sum_Values()"
   ]
  },
  {
   "cell_type": "code",
   "execution_count": 43,
   "id": "bf8de432",
   "metadata": {},
   "outputs": [
    {
     "data": {
      "text/plain": [
       "10"
      ]
     },
     "execution_count": 43,
     "metadata": {},
     "output_type": "execute_result"
    }
   ],
   "source": [
    "c.x"
   ]
  },
  {
   "cell_type": "code",
   "execution_count": 44,
   "id": "7f2e34b8",
   "metadata": {},
   "outputs": [
    {
     "data": {
      "text/plain": [
       "20"
      ]
     },
     "execution_count": 44,
     "metadata": {},
     "output_type": "execute_result"
    }
   ],
   "source": [
    "c.y"
   ]
  },
  {
   "cell_type": "code",
   "execution_count": 45,
   "id": "3c3188d9",
   "metadata": {},
   "outputs": [
    {
     "data": {
      "text/plain": [
       "30"
      ]
     },
     "execution_count": 45,
     "metadata": {},
     "output_type": "execute_result"
    }
   ],
   "source": [
    "c.z"
   ]
  },
  {
   "cell_type": "code",
   "execution_count": 48,
   "id": "62382948",
   "metadata": {},
   "outputs": [
    {
     "name": "stdout",
     "output_type": "stream",
     "text": [
      "1\n",
      "2\n",
      "3\n"
     ]
    }
   ],
   "source": [
    "c = C(int(input()), int(input()), int(input()))"
   ]
  },
  {
   "cell_type": "code",
   "execution_count": 49,
   "id": "c511142a",
   "metadata": {},
   "outputs": [
    {
     "data": {
      "text/plain": [
       "6"
      ]
     },
     "execution_count": 49,
     "metadata": {},
     "output_type": "execute_result"
    }
   ],
   "source": [
    "c.sum_Values()"
   ]
  },
  {
   "cell_type": "code",
   "execution_count": 57,
   "id": "b3eec1b9",
   "metadata": {},
   "outputs": [],
   "source": [
    "#getting user input from inside a class\n",
    "\n",
    "class C:\n",
    "    def __init__(self):\n",
    "        self.x = int(input())\n",
    "        self.y = int(input())\n",
    "        self.z = int(input())\n",
    "        \n",
    "    #def sum_Values(abc):\n",
    "        #return abc.x + abc.y + abc.z\n",
    "    \n",
    "    def sum_Values(self):\n",
    "        return self.x + self.y + self.z"
   ]
  },
  {
   "cell_type": "code",
   "execution_count": 58,
   "id": "5bbef0d3",
   "metadata": {},
   "outputs": [
    {
     "name": "stdout",
     "output_type": "stream",
     "text": [
      "100\n",
      "200\n",
      "10\n"
     ]
    }
   ],
   "source": [
    "c = C()"
   ]
  },
  {
   "cell_type": "code",
   "execution_count": 59,
   "id": "69de53b9",
   "metadata": {},
   "outputs": [
    {
     "data": {
      "text/plain": [
       "310"
      ]
     },
     "execution_count": 59,
     "metadata": {},
     "output_type": "execute_result"
    }
   ],
   "source": [
    "c.sum_Values()"
   ]
  },
  {
   "cell_type": "code",
   "execution_count": 60,
   "id": "635349bb",
   "metadata": {},
   "outputs": [],
   "source": [
    "#getting user input from inside a class\n",
    "class D:\n",
    "    def __init__(self,a,b,c):\n",
    "        self.x = a\n",
    "        self.y = b\n",
    "        self.z = c\n",
    "        \n",
    "    #def sum_Values(abc):\n",
    "        #return abc.x + abc.y + abc.z\n",
    "    \n",
    "    def sum_Values(self):\n",
    "        return self.x + self.y + self.z\n",
    "    \n",
    "    def get_User_Input(self):\n",
    "        \n",
    "        d = int(input())\n",
    "        e = int(input())\n",
    "        f = int(input())\n",
    "        \n",
    "        return self.d, self.e, self,f"
   ]
  },
  {
   "cell_type": "code",
   "execution_count": 73,
   "id": "2dd158d4",
   "metadata": {},
   "outputs": [
    {
     "ename": "TypeError",
     "evalue": "__init__() missing 3 required positional arguments: 'a', 'b', and 'c'",
     "output_type": "error",
     "traceback": [
      "\u001b[0;31m---------------------------------------------------------------------------\u001b[0m",
      "\u001b[0;31mTypeError\u001b[0m                                 Traceback (most recent call last)",
      "\u001b[0;32m/tmp/ipykernel_108840/2147660179.py\u001b[0m in \u001b[0;36m<module>\u001b[0;34m\u001b[0m\n\u001b[0;32m----> 1\u001b[0;31m \u001b[0md\u001b[0m \u001b[0;34m=\u001b[0m \u001b[0mD\u001b[0m\u001b[0;34m(\u001b[0m\u001b[0;34m)\u001b[0m\u001b[0;34m.\u001b[0m\u001b[0mget_User_Input\u001b[0m\u001b[0;34m(\u001b[0m\u001b[0;34m)\u001b[0m\u001b[0;34m\u001b[0m\u001b[0;34m\u001b[0m\u001b[0m\n\u001b[0m",
      "\u001b[0;31mTypeError\u001b[0m: __init__() missing 3 required positional arguments: 'a', 'b', and 'c'"
     ]
    }
   ],
   "source": [
    "d = D().get_User_Input()"
   ]
  },
  {
   "cell_type": "code",
   "execution_count": null,
   "id": "335f7b16",
   "metadata": {},
   "outputs": [],
   "source": []
  }
 ],
 "metadata": {
  "kernelspec": {
   "display_name": "Python 3 (ipykernel)",
   "language": "python",
   "name": "python3"
  },
  "language_info": {
   "codemirror_mode": {
    "name": "ipython",
    "version": 3
   },
   "file_extension": ".py",
   "mimetype": "text/x-python",
   "name": "python",
   "nbconvert_exporter": "python",
   "pygments_lexer": "ipython3",
   "version": "3.8.12"
  }
 },
 "nbformat": 4,
 "nbformat_minor": 5
}
