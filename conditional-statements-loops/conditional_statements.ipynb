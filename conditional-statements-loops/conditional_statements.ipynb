{
  "nbformat": 4,
  "nbformat_minor": 0,
  "metadata": {
    "colab": {
      "name": "conditional statements.ipynb",
      "provenance": [],
      "collapsed_sections": []
    },
    "kernelspec": {
      "name": "python3",
      "display_name": "Python 3"
    },
    "language_info": {
      "name": "python"
    }
  },
  "cells": [
    {
      "cell_type": "code",
      "execution_count": 2,
      "metadata": {
        "colab": {
          "base_uri": "https://localhost:8080/"
        },
        "id": "Gvdjs_bb5gUE",
        "outputId": "0d769294-35d8-4f1f-b85b-7fabd97cc100"
      },
      "outputs": [
        {
          "output_type": "stream",
          "name": "stdout",
          "text": [
            "Enter no of candy : 7\n",
            "we don't have requested no of candy, we have only 6 candy\n",
            "Do you want to proceed y/n y\n",
            "candy\n",
            "candy\n",
            "candy\n",
            "candy\n",
            "candy\n",
            "candy\n",
            "We don't remaining 1 candy \n",
            "Bye\n"
          ]
        }
      ],
      "source": [
        "avc = 6\n",
        "x = int(input(\"Enter no of candy : \"))\n",
        "i=1\n",
        "if x>avc:\n",
        "    print(f\"we don't have requested no of candy, we have only {avc} candy\")\n",
        "    ip = input(\"Do you want to proceed y/n \")\n",
        "    if ip=='y':\n",
        "        while i <= x:\n",
        "            if i>avc:\n",
        "                print(f\"We don't have remaining {x-avc} candy \")\n",
        "                break\n",
        "            print(\"candy\")\n",
        "            i+=1\n",
        "    else :\n",
        "        print(\"Bye\")\n",
        "else:\n",
        "    while i <= x:\n",
        "        print(\"candy\")\n",
        "        i += 1\n",
        "print(\"Bye\")"
      ]
    },
    {
      "cell_type": "code",
      "source": [
        "for i in range(50, 0,-5):#-5 because it will always goes in ascending order\n",
        "    print(i)\n",
        "print(\"####\"*10)"
      ],
      "metadata": {
        "colab": {
          "base_uri": "https://localhost:8080/"
        },
        "id": "NKyOLTjw7RIb",
        "outputId": "2687760c-9254-4717-ad89-c054eee15bf8"
      },
      "execution_count": 3,
      "outputs": [
        {
          "output_type": "stream",
          "name": "stdout",
          "text": [
            "50\n",
            "45\n",
            "40\n",
            "35\n",
            "30\n",
            "25\n",
            "20\n",
            "15\n",
            "10\n",
            "5\n",
            "########################################\n"
          ]
        }
      ]
    },
    {
      "cell_type": "code",
      "source": [
        "i=1\n",
        "while i <=10:\n",
        "    print(i)\n",
        "    i=i+1"
      ],
      "metadata": {
        "colab": {
          "base_uri": "https://localhost:8080/"
        },
        "id": "mzta034s7RzD",
        "outputId": "15342b3c-b7eb-4b5b-faf8-cf973890367f"
      },
      "execution_count": 6,
      "outputs": [
        {
          "output_type": "stream",
          "name": "stdout",
          "text": [
            "1\n",
            "2\n",
            "3\n",
            "4\n",
            "5\n",
            "6\n",
            "7\n",
            "8\n",
            "9\n",
            "10\n"
          ]
        }
      ]
    },
    {
      "cell_type": "code",
      "source": [
        "i=10\n",
        "while i >= 1:\n",
        "    print(i)\n",
        "    i=i-1"
      ],
      "metadata": {
        "colab": {
          "base_uri": "https://localhost:8080/"
        },
        "id": "36tqY9HE7gf0",
        "outputId": "57f4e788-9939-4e32-db23-537653189707"
      },
      "execution_count": 8,
      "outputs": [
        {
          "output_type": "stream",
          "name": "stdout",
          "text": [
            "10\n",
            "9\n",
            "8\n",
            "7\n",
            "6\n",
            "5\n",
            "4\n",
            "3\n",
            "2\n",
            "1\n"
          ]
        }
      ]
    },
    {
      "cell_type": "code",
      "source": [
        "x = ['hello', 10, 2.5, 'python', True]\n",
        "for i in range(len(x)):\n",
        "    print(x[i]) #index access\n",
        "\n",
        "print()"
      ],
      "metadata": {
        "colab": {
          "base_uri": "https://localhost:8080/"
        },
        "id": "HLsxsSMc70WS",
        "outputId": "e1aa273f-8917-4c20-c639-8e9226692a87"
      },
      "execution_count": 9,
      "outputs": [
        {
          "output_type": "stream",
          "name": "stdout",
          "text": [
            "hello\n",
            "10\n",
            "2.5\n",
            "python\n",
            "True\n",
            "\n"
          ]
        }
      ]
    },
    {
      "cell_type": "code",
      "source": [
        "#continue\n",
        "for i in range(1,50):\n",
        "\n",
        "    if i % 3 == 0 or i%5==0:\n",
        "        continue#skip the current loop operation and goes for next iteration\n",
        "    print(i)\n",
        "print(\"Bye\")\n",
        "print()\n",
        "#Pass"
      ],
      "metadata": {
        "colab": {
          "base_uri": "https://localhost:8080/"
        },
        "id": "nRtCVtxG8Rfy",
        "outputId": "03c4b25a-0fc9-4c52-bd9c-a82f501d4c0a"
      },
      "execution_count": 11,
      "outputs": [
        {
          "output_type": "stream",
          "name": "stdout",
          "text": [
            "1\n",
            "2\n",
            "4\n",
            "7\n",
            "8\n",
            "11\n",
            "13\n",
            "14\n",
            "16\n",
            "17\n",
            "19\n",
            "22\n",
            "23\n",
            "26\n",
            "28\n",
            "29\n",
            "31\n",
            "32\n",
            "34\n",
            "37\n",
            "38\n",
            "41\n",
            "43\n",
            "44\n",
            "46\n",
            "47\n",
            "49\n",
            "Bye\n",
            "\n"
          ]
        }
      ]
    },
    {
      "cell_type": "code",
      "source": [
        "#do while \n",
        "\n",
        "i = 1  \n",
        "  \n",
        "while True:  \n",
        "    print(i)  \n",
        "    i = i + 1  \n",
        "    if(i > 5):  \n",
        "        break  "
      ],
      "metadata": {
        "colab": {
          "base_uri": "https://localhost:8080/"
        },
        "id": "MYSiEpfp8ZxR",
        "outputId": "4642d297-4934-4559-86b9-42ac11e464d3"
      },
      "execution_count": 12,
      "outputs": [
        {
          "output_type": "stream",
          "name": "stdout",
          "text": [
            "1\n",
            "2\n",
            "3\n",
            "4\n",
            "5\n"
          ]
        }
      ]
    },
    {
      "cell_type": "code",
      "source": [
        "i = 1\n",
        "\n",
        "while i <= 5:\n",
        "    print(f\"i = {i} \", end=\"\")\n",
        "    j=1\n",
        "    while j<=5:\n",
        "        print(f\"j = {j} \", end=\"\")\n",
        "        j+=1\n",
        "    i+=1\n",
        "    print()"
      ],
      "metadata": {
        "colab": {
          "base_uri": "https://localhost:8080/"
        },
        "id": "gOBNXO8I-xYN",
        "outputId": "da4f2916-b39d-4a40-b361-16bb2e26a49f"
      },
      "execution_count": 20,
      "outputs": [
        {
          "output_type": "stream",
          "name": "stdout",
          "text": [
            "i = 1 j = 1 j = 2 j = 3 j = 4 j = 5 \n",
            "i = 2 j = 1 j = 2 j = 3 j = 4 j = 5 \n",
            "i = 3 j = 1 j = 2 j = 3 j = 4 j = 5 \n",
            "i = 4 j = 1 j = 2 j = 3 j = 4 j = 5 \n",
            "i = 5 j = 1 j = 2 j = 3 j = 4 j = 5 \n"
          ]
        }
      ]
    },
    {
      "cell_type": "code",
      "source": [
        "for i in range(11,22,2):\n",
        "    print(i)"
      ],
      "metadata": {
        "colab": {
          "base_uri": "https://localhost:8080/"
        },
        "id": "kMdcjNHp_eMg",
        "outputId": "8f70977b-7137-4130-850e-7a1420156e18"
      },
      "execution_count": 22,
      "outputs": [
        {
          "output_type": "stream",
          "name": "stdout",
          "text": [
            "11\n",
            "13\n",
            "15\n",
            "17\n",
            "19\n",
            "21\n"
          ]
        }
      ]
    },
    {
      "cell_type": "code",
      "source": [
        "for i in range(20,10,-1):\n",
        "    print(i)"
      ],
      "metadata": {
        "colab": {
          "base_uri": "https://localhost:8080/"
        },
        "id": "p10nnhrwBhvZ",
        "outputId": "dcd9004e-806b-47c9-bfbd-33f59897de73"
      },
      "execution_count": 24,
      "outputs": [
        {
          "output_type": "stream",
          "name": "stdout",
          "text": [
            "20\n",
            "19\n",
            "18\n",
            "17\n",
            "16\n",
            "15\n",
            "14\n",
            "13\n",
            "12\n",
            "11\n"
          ]
        }
      ]
    },
    {
      "cell_type": "code",
      "source": [
        "for i in range(20,10,-1):\n",
        "    if i%5!=0:\n",
        "        print(i)"
      ],
      "metadata": {
        "colab": {
          "base_uri": "https://localhost:8080/"
        },
        "id": "tAT_IThtBof9",
        "outputId": "08d8fae3-da47-44d3-bd00-7bc98b86ecc0"
      },
      "execution_count": 25,
      "outputs": [
        {
          "output_type": "stream",
          "name": "stdout",
          "text": [
            "19\n",
            "18\n",
            "17\n",
            "16\n",
            "14\n",
            "13\n",
            "12\n",
            "11\n"
          ]
        }
      ]
    },
    {
      "cell_type": "code",
      "source": [
        "for i in range(20,10,-1):\n",
        "    if i%5!=0:\n",
        "        continue\n",
        "    print(i)"
      ],
      "metadata": {
        "colab": {
          "base_uri": "https://localhost:8080/"
        },
        "id": "7rqLCNWIB6fK",
        "outputId": "dbb6378c-5879-435c-ca17-c739effc5afa"
      },
      "execution_count": 26,
      "outputs": [
        {
          "output_type": "stream",
          "name": "stdout",
          "text": [
            "20\n",
            "15\n"
          ]
        }
      ]
    },
    {
      "cell_type": "code",
      "source": [
        "#for else\n",
        "\n",
        "nums = [12,15,18,21,25,26]\n",
        "for num in nums:\n",
        "    if num%5==0:\n",
        "        print(num)\n"
      ],
      "metadata": {
        "colab": {
          "base_uri": "https://localhost:8080/"
        },
        "id": "QMguHtJ_CCPU",
        "outputId": "c81bfee5-89a2-4677-f0d8-577f8881324a"
      },
      "execution_count": 29,
      "outputs": [
        {
          "output_type": "stream",
          "name": "stdout",
          "text": [
            "15\n",
            "25\n"
          ]
        }
      ]
    },
    {
      "cell_type": "code",
      "source": [
        "\n",
        "nums = [12,15,18,21,25,26]\n",
        "for num in nums:\n",
        "    if num%5==0:\n",
        "        print(num)\n",
        "        break"
      ],
      "metadata": {
        "colab": {
          "base_uri": "https://localhost:8080/"
        },
        "id": "-6wrp8JBJGZS",
        "outputId": "79a30dd1-bac2-4e36-b84d-4d17ec3b1c95"
      },
      "execution_count": 30,
      "outputs": [
        {
          "output_type": "stream",
          "name": "stdout",
          "text": [
            "15\n"
          ]
        }
      ]
    },
    {
      "cell_type": "code",
      "source": [
        "\n",
        "nums = [12,16,18,21,26]\n",
        "for num in nums:\n",
        "    if num%5==0:\n",
        "        print(num)\n",
        "        break\n",
        "else:\n",
        "        print(\"not found\")"
      ],
      "metadata": {
        "colab": {
          "base_uri": "https://localhost:8080/"
        },
        "id": "V3-arqXVJW3X",
        "outputId": "c102b301-cc3b-4c65-ede2-52b39635acf8"
      },
      "execution_count": 32,
      "outputs": [
        {
          "output_type": "stream",
          "name": "stdout",
          "text": [
            "not found\n"
          ]
        }
      ]
    },
    {
      "cell_type": "code",
      "source": [
        "#prime number\n",
        "n = int(input(\"Enter a number you wnat to check prime or not : \"))\n",
        "while n <= 2:\n",
        "    n = int(input(\"Please enter a number greater than 2 : \"))\n",
        "    continue\n",
        "else:\n",
        "    for i in range(2,n):\n",
        "        if n%i==0:\n",
        "            print(\"not a prime number\")\n",
        "            break\n",
        "    else:\n",
        "        print(\"prime number\")\n"
      ],
      "metadata": {
        "colab": {
          "base_uri": "https://localhost:8080/"
        },
        "id": "ygY8Ce47Jf3v",
        "outputId": "7be152c6-6d89-41c6-9cdc-b247325d8f6d"
      },
      "execution_count": 52,
      "outputs": [
        {
          "output_type": "stream",
          "name": "stdout",
          "text": [
            "Enter a number you wnat to check prime or not : 9\n",
            "not a prime number\n"
          ]
        }
      ]
    },
    {
      "cell_type": "code",
      "source": [
        "#prime number\n",
        "n = 7\n",
        "for i in range(2,n):\n",
        "    if n%i==0:\n",
        "        print(\"not a prime number\")\n",
        "        break\n",
        "else:\n",
        "    print(\"prime number\")"
      ],
      "metadata": {
        "colab": {
          "base_uri": "https://localhost:8080/"
        },
        "id": "v3EI00PmKVse",
        "outputId": "56e76dc6-8e08-455d-8080-2d967c123d6b"
      },
      "execution_count": 46,
      "outputs": [
        {
          "output_type": "stream",
          "name": "stdout",
          "text": [
            "prime number\n"
          ]
        }
      ]
    },
    {
      "cell_type": "code",
      "source": [
        "while n <= 2:\n",
        "    n = int(input(\"Please enter a number greater than 2 : \")"
      ],
      "metadata": {
        "colab": {
          "base_uri": "https://localhost:8080/",
          "height": 130
        },
        "id": "87Awm3gGO7zK",
        "outputId": "3dcdc2aa-4ffd-4534-e925-cbf86014960f"
      },
      "execution_count": 47,
      "outputs": [
        {
          "output_type": "error",
          "ename": "SyntaxError",
          "evalue": "ignored",
          "traceback": [
            "\u001b[0;36m  File \u001b[0;32m\"<ipython-input-47-055c98455699>\"\u001b[0;36m, line \u001b[0;32m2\u001b[0m\n\u001b[0;31m    n = int(input(\"Please enter a number greater than 2 : \")\u001b[0m\n\u001b[0m                                                            ^\u001b[0m\n\u001b[0;31mSyntaxError\u001b[0m\u001b[0;31m:\u001b[0m unexpected EOF while parsing\n"
          ]
        }
      ]
    },
    {
      "cell_type": "code",
      "source": [
        ""
      ],
      "metadata": {
        "id": "thxCfXmYPHkj"
      },
      "execution_count": null,
      "outputs": []
    }
  ]
}