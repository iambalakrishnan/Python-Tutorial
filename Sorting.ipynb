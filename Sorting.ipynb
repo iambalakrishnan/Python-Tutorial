{
 "cells": [
  {
   "cell_type": "markdown",
   "id": "6ea2a5b5",
   "metadata": {},
   "source": [
    "## Bubble sort"
   ]
  },
  {
   "cell_type": "code",
   "execution_count": 1,
   "id": "e9445b53",
   "metadata": {},
   "outputs": [],
   "source": []
  },
  {
   "cell_type": "code",
   "execution_count": 3,
   "id": "d3e15dfa",
   "metadata": {},
   "outputs": [],
   "source": [
    "def BubbleSort(lst):\n",
    "    for i in range(len(lst)-1, 0,-1):\n",
    "        for j in range(i):\n",
    "            if lst[j] > lst[j+1]:\n",
    "                temp = lst[j]\n",
    "                lst[j] = lst[j+1]\n",
    "                lst[j+1] = temp"
   ]
  },
  {
   "cell_type": "code",
   "execution_count": 6,
   "id": "5b7728e2",
   "metadata": {},
   "outputs": [],
   "source": [
    "lst = [100,5,200,3,800,6,7,2]\n",
    "BubbleSort(lst)"
   ]
  },
  {
   "cell_type": "code",
   "execution_count": 7,
   "id": "329b1e7b",
   "metadata": {},
   "outputs": [
    {
     "name": "stdout",
     "output_type": "stream",
     "text": [
      "[2, 3, 5, 6, 7, 100, 200, 800]\n"
     ]
    }
   ],
   "source": [
    "print(lst)"
   ]
  },
  {
   "cell_type": "code",
   "execution_count": 8,
   "id": "4676aa3c",
   "metadata": {},
   "outputs": [],
   "source": [
    "def BubbleSort(nums):\n",
    "    for i in range(len(nums)-1, 0,-1):\n",
    "        for j in range(i):\n",
    "            if nums[j] > nums[j+1]:\n",
    "                nums[j],nums[j+1] = nums[j+1],nums[j]"
   ]
  },
  {
   "cell_type": "code",
   "execution_count": 11,
   "id": "7b6a0ffc",
   "metadata": {},
   "outputs": [],
   "source": [
    "lst = [100,5,200,3,5,6,7,2,15,2,48,5,6,10]\n",
    "BubbleSort(lst)"
   ]
  },
  {
   "cell_type": "code",
   "execution_count": 12,
   "id": "a1943125",
   "metadata": {},
   "outputs": [
    {
     "name": "stdout",
     "output_type": "stream",
     "text": [
      "[2, 2, 3, 5, 5, 5, 6, 6, 7, 10, 15, 48, 100, 200]\n"
     ]
    }
   ],
   "source": [
    "print(lst)"
   ]
  },
  {
   "cell_type": "markdown",
   "id": "6b9ad8b7",
   "metadata": {},
   "source": [
    "## Selection Sort"
   ]
  },
  {
   "cell_type": "code",
   "execution_count": 13,
   "id": "0029ab28",
   "metadata": {},
   "outputs": [],
   "source": [
    "def SelectionSort(nums):\n",
    "    \n",
    "    for i in range(len(nums)):\n",
    "        minpos = i\n",
    "        for j in range(i, len(nums)):\n",
    "            if nums[j] < nums[minpos]:\n",
    "                minpos=j\n",
    "        \n",
    "        nums[i], nums[minpos] = nums[minpos],nums[i]\n",
    "        \n",
    "        print(nums)"
   ]
  },
  {
   "cell_type": "code",
   "execution_count": 14,
   "id": "9e91eff6",
   "metadata": {},
   "outputs": [
    {
     "name": "stdout",
     "output_type": "stream",
     "text": [
      "[2, 5, 200, 3, 5, 6, 7, 100, 15, 2, 48, 5, 6, 10]\n",
      "[2, 2, 200, 3, 5, 6, 7, 100, 15, 5, 48, 5, 6, 10]\n",
      "[2, 2, 3, 200, 5, 6, 7, 100, 15, 5, 48, 5, 6, 10]\n",
      "[2, 2, 3, 5, 200, 6, 7, 100, 15, 5, 48, 5, 6, 10]\n",
      "[2, 2, 3, 5, 5, 6, 7, 100, 15, 200, 48, 5, 6, 10]\n",
      "[2, 2, 3, 5, 5, 5, 7, 100, 15, 200, 48, 6, 6, 10]\n",
      "[2, 2, 3, 5, 5, 5, 6, 100, 15, 200, 48, 7, 6, 10]\n",
      "[2, 2, 3, 5, 5, 5, 6, 6, 15, 200, 48, 7, 100, 10]\n",
      "[2, 2, 3, 5, 5, 5, 6, 6, 7, 200, 48, 15, 100, 10]\n",
      "[2, 2, 3, 5, 5, 5, 6, 6, 7, 10, 48, 15, 100, 200]\n",
      "[2, 2, 3, 5, 5, 5, 6, 6, 7, 10, 15, 48, 100, 200]\n",
      "[2, 2, 3, 5, 5, 5, 6, 6, 7, 10, 15, 48, 100, 200]\n",
      "[2, 2, 3, 5, 5, 5, 6, 6, 7, 10, 15, 48, 100, 200]\n",
      "[2, 2, 3, 5, 5, 5, 6, 6, 7, 10, 15, 48, 100, 200]\n"
     ]
    }
   ],
   "source": [
    "lst = [100,5,200,3,5,6,7,2,15,2,48,5,6,10]\n",
    "SelectionSort(lst)"
   ]
  },
  {
   "cell_type": "code",
   "execution_count": null,
   "id": "bdeecc1b",
   "metadata": {},
   "outputs": [],
   "source": []
  }
 ],
 "metadata": {
  "kernelspec": {
   "display_name": "Python 3 (ipykernel)",
   "language": "python",
   "name": "python3"
  },
  "language_info": {
   "codemirror_mode": {
    "name": "ipython",
    "version": 3
   },
   "file_extension": ".py",
   "mimetype": "text/x-python",
   "name": "python",
   "nbconvert_exporter": "python",
   "pygments_lexer": "ipython3",
   "version": "3.9.7"
  }
 },
 "nbformat": 4,
 "nbformat_minor": 5
}
